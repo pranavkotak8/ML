{
  "nbformat": 4,
  "nbformat_minor": 0,
  "metadata": {
    "colab": {
      "name": "ML_Experiment8_J024_Pranav_Kotak.ipynb",
      "provenance": [],
      "collapsed_sections": []
    },
    "kernelspec": {
      "name": "python3",
      "display_name": "Python 3"
    },
    "accelerator": "GPU"
  },
  "cells": [
    {
      "cell_type": "markdown",
      "metadata": {
        "id": "vtjfjLvZcCM_"
      },
      "source": [
        "**IMPORTING THE LIBRARIES REQUIRED**"
      ]
    },
    {
      "cell_type": "code",
      "metadata": {
        "id": "vay_URUOOMdc"
      },
      "source": [
        "from bs4 import BeautifulSoup\n",
        "import numpy as np\n",
        "import requests\n",
        "import cv2\n",
        "import PIL.Image\n",
        "import urllib\n",
        "import pandas as pd"
      ],
      "execution_count": 38,
      "outputs": []
    },
    {
      "cell_type": "code",
      "metadata": {
        "id": "Ap0sLY-aOUAC"
      },
      "source": [
        "# Indian Elephants\n",
        "ind_elep = requests.get(\"http://www.image-net.org/api/text/imagenet.synset.geturls?wnid=n02504013\")\n",
        "ind_elep_1 = BeautifulSoup(ind_elep.content, 'html.parser')\n",
        "ind_elep_1_soup=str(ind_elep_1)\n",
        "ind_elep_1_soup_split=ind_elep_1_soup.split('\\r\\n')\n",
        "\n",
        "# African Elephants\n",
        "afr_elep = requests.get(\"http://www.image-net.org/api/text/imagenet.synset.geturls?wnid=n02504458\")\n",
        "afr_elep_1 = BeautifulSoup(afr_elep.content, 'html.parser')\n",
        "afr_elep_1_soup=str(afr_elep_1)\n",
        "afr_elep_1_soup_split=afr_elep_1_soup.split('\\r\\n')\n",
        "\n",
        "# Tusker Elephants\n",
        "tus_elep = requests.get(\"http://www.image-net.org/api/text/imagenet.synset.geturls?wnid=n01871265\")\n",
        "tus_elep_1 = BeautifulSoup(tus_elep.content, 'html.parser')\n",
        "tus_elep_1_soup=str(tus_elep_1)\n",
        "tus_elep_1_soup_split=tus_elep_1_soup.split('\\r\\n')"
      ],
      "execution_count": 39,
      "outputs": []
    },
    {
      "cell_type": "code",
      "metadata": {
        "id": "5xuG5ZLYOonx",
        "outputId": "8bdb377f-8a0d-462e-fd47-866033fd158b",
        "colab": {
          "base_uri": "https://localhost:8080/",
          "height": 70
        }
      },
      "source": [
        "!mkdir /content/IAT_train/ \n",
        "!mkdir /content/IAT_valid/ \n",
        "!mkdir /content/IAT_test/ \n",
        "\n",
        "img_rows, img_cols = 240, 240 \n",
        "input_shape = (img_rows, img_cols, 3)\n",
        "n_train=210\n",
        "n_valid=70\n",
        "n_test=70\n",
        "\n",
        "def url_to_image(url):\n",
        "\tresp = urllib.request.urlopen(url)\n",
        "\timage = np.asarray(bytearray(resp.read()), dtype=\"uint8\")\n",
        "\timage = cv2.imdecode(image, cv2.IMREAD_COLOR)\n",
        "\treturn image"
      ],
      "execution_count": 40,
      "outputs": [
        {
          "output_type": "stream",
          "text": [
            "mkdir: cannot create directory ‘/content/IAT_train/’: File exists\n",
            "mkdir: cannot create directory ‘/content/IAT_valid/’: File exists\n",
            "mkdir: cannot create directory ‘/content/IAT_test/’: File exists\n"
          ],
          "name": "stdout"
        }
      ]
    },
    {
      "cell_type": "markdown",
      "metadata": {
        "id": "TNYcS58dSAYp"
      },
      "source": [
        "**FETCHING THE TRAINING DATA**"
      ]
    },
    {
      "cell_type": "code",
      "metadata": {
        "id": "V_QHcC9zQjR0"
      },
      "source": [
        "for progress in range(n_train):\n",
        "    if not ind_elep_1_soup_split[progress] == None:\n",
        "      try:\n",
        "        I = url_to_image(ind_elep_1_soup_split[progress])\n",
        "        if (len(I.shape))==3: \n",
        "          save_path = '/content/IAT_train/IND.'+str(progress)+'.jpg'\n",
        "          cv2.imwrite(save_path,I)\n",
        "      except:\n",
        "        None\n",
        "for progress in range(n_train):\n",
        "    if not afr_elep_1_soup_split[progress] == None:\n",
        "      try:\n",
        "        I = url_to_image(afr_elep_1_soup_split[progress])\n",
        "        if (len(I.shape))==3:\n",
        "          save_path = '/content/IAT_train/AFR.'+str(progress)+'.jpg'\n",
        "          cv2.imwrite(save_path,I)\n",
        "      except:\n",
        "        None\n"
      ],
      "execution_count": 41,
      "outputs": []
    },
    {
      "cell_type": "code",
      "metadata": {
        "id": "pAAifzEpcs2s",
        "outputId": "b4f9190a-9e3f-46c8-cd18-8060e9777d54",
        "colab": {
          "base_uri": "https://localhost:8080/",
          "height": 212
        }
      },
      "source": [
        "for progress in range(n_train):\n",
        "    if progress%20 ==0:\n",
        "      print(progress)\n",
        "\n",
        "    if not tus_elep_1_soup_split[progress] == None:\n",
        "      try:\n",
        "        I = url_to_image(tus_elep_1_soup_split[progress])\n",
        "        if (len(I.shape))==3: \n",
        "          save_path = '/content/IAT_train/TUS.'+str(progress)+'.jpg'\n",
        "          cv2.imwrite(save_path,I)\n",
        "      except:\n",
        "        None"
      ],
      "execution_count": 42,
      "outputs": [
        {
          "output_type": "stream",
          "text": [
            "0\n",
            "20\n",
            "40\n",
            "60\n",
            "80\n",
            "100\n",
            "120\n",
            "140\n",
            "160\n",
            "180\n",
            "200\n"
          ],
          "name": "stdout"
        }
      ]
    },
    {
      "cell_type": "markdown",
      "metadata": {
        "id": "E6KmEA1xSFaZ"
      },
      "source": [
        "**FETCHING THE TESTING DATA**"
      ]
    },
    {
      "cell_type": "code",
      "metadata": {
        "id": "IYPYZvbNR1cF"
      },
      "source": [
        "for progress in range(n_test):\n",
        "    if not ind_elep_1_soup_split[progress] == None:\n",
        "      try:\n",
        "        I = url_to_image(ind_elep_1_soup_split[progress])\n",
        "        if (len(I.shape))==3: \n",
        "          save_path = '/content/IAT_test/IND.'+str(progress)+'.jpg'\n",
        "          cv2.imwrite(save_path,I)\n",
        "      except:\n",
        "        None\n",
        "for progress in range(n_test):\n",
        "    if not afr_elep_1_soup_split[progress] == None:\n",
        "      try:\n",
        "        I = url_to_image(afr_elep_1_soup_split[progress])\n",
        "        if (len(I.shape))==3:\n",
        "          save_path = '/content/IAT_test/AFR.'+str(progress)+'.jpg'\n",
        "          cv2.imwrite(save_path,I)\n",
        "      except:\n",
        "        None\n",
        "for progress in range(n_test):\n",
        "    if not tus_elep_1_soup_split[progress] == None:\n",
        "      try:\n",
        "        I = url_to_image(tus_elep_1_soup_split[progress])\n",
        "        if (len(I.shape))==3: \n",
        "          save_path = '/content/IAT_test/TUS.'+str(progress)+'.jpg'\n",
        "          cv2.imwrite(save_path,I)\n",
        "      except:\n",
        "        None"
      ],
      "execution_count": 43,
      "outputs": []
    },
    {
      "cell_type": "markdown",
      "metadata": {
        "id": "XADoV4PqSfwi"
      },
      "source": [
        "**FETCHING THE VALIDATION DATA**\n"
      ]
    },
    {
      "cell_type": "code",
      "metadata": {
        "id": "_XWwPPWwSfLD"
      },
      "source": [
        "for progress in range(n_valid):\n",
        "    if not ind_elep_1_soup_split[progress] == None:\n",
        "      try:\n",
        "        I = url_to_image(ind_elep_1_soup_split[progress])\n",
        "        if (len(I.shape))==3: \n",
        "          save_path = '/content/IAT_valid/IND.'+str(progress)+'.jpg'\n",
        "          cv2.imwrite(save_path,I)\n",
        "      except:\n",
        "        None\n",
        "for progress in range(n_valid):\n",
        "    if not afr_elep_1_soup_split[progress] == None:\n",
        "      try:\n",
        "        I = url_to_image(afr_elep_1_soup_split[progress])\n",
        "        if (len(I.shape))==3:\n",
        "          save_path = '/content/IAT_valid/AFR.'+str(progress)+'.jpg'\n",
        "          cv2.imwrite(save_path,I)\n",
        "      except:\n",
        "        None\n",
        "for progress in range(n_valid):\n",
        "    if not tus_elep_1_soup_split[progress] == None:\n",
        "      try:\n",
        "        I = url_to_image(tus_elep_1_soup_split[progress])\n",
        "        if (len(I.shape))==3: \n",
        "          save_path = '/content/IAT_valid/TUS.'+str(progress)+'.jpg'\n",
        "          cv2.imwrite(save_path,I)\n",
        "      except:\n",
        "        None"
      ],
      "execution_count": 44,
      "outputs": []
    },
    {
      "cell_type": "markdown",
      "metadata": {
        "id": "iwkCZkFb6uvq"
      },
      "source": [
        "**CATEGORIZING/DIVIDING INTO CLASSES**"
      ]
    },
    {
      "cell_type": "code",
      "metadata": {
        "id": "sl5Oi-f6TAMD"
      },
      "source": [
        "import os\n",
        "original_train = '/content/IAT_train/'\n",
        "original_valid= '/content/IAT_valid/'\n",
        "original_test = '/content/IAT_test/'\n",
        " \n",
        "filenames = os.listdir(original_train)\n",
        "categories = []\n",
        "for filename in filenames:\n",
        "    category = filename.split('.')[0]\n",
        "    if category == 'IND':\n",
        "      categories.append('0')\n",
        "    elif category == 'AFR':\n",
        "      categories.append('1')\n",
        "    else:\n",
        "      categories.append('2') \n",
        "\n",
        "filenames = os.listdir(original_valid)\n",
        "categories1 = []\n",
        "for filename in filenames:\n",
        "    category = filename.split('.')[0]\n",
        "    if category == 'IND':\n",
        "      categories1.append('0')\n",
        "    elif category == 'AFR':\n",
        "      categories1.append('1')\n",
        "    else:\n",
        "      categories1.append('2') \n",
        "\n",
        "filenames = os.listdir(original_test)\n",
        "categories2 = []\n",
        "for filename in filenames:\n",
        "    category = filename.split('.')[0]\n",
        "    if category == 'IND':\n",
        "      categories2.append('0')\n",
        "    elif category == 'AFR':\n",
        "      categories2.append('1')\n",
        "    else:\n",
        "      categories2.append('2') "
      ],
      "execution_count": 60,
      "outputs": []
    },
    {
      "cell_type": "code",
      "metadata": {
        "id": "VbQWv_WZ3uxa",
        "outputId": "e606498a-daec-4109-8090-9a2accf7f86a",
        "colab": {
          "base_uri": "https://localhost:8080/",
          "height": 55
        }
      },
      "source": [
        "# Print the categories to check the number of classes\n",
        "print(categories)"
      ],
      "execution_count": 69,
      "outputs": [
        {
          "output_type": "stream",
          "text": [
            "['0', '1', '0', '1', '2', '2', '1', '1', '2', '1', '1', '2', '0', '1', '0', '2', '2', '1', '1', '1', '2', '0', '2', '1', '2', '0', '1', '2', '1', '2', '1', '0', '0', '1', '2', '2', '1', '2', '1', '0', '1', '2', '1', '2', '2', '2', '1', '2', '1', '2', '2', '1', '1', '2', '1', '2', '0', '0', '2', '2', '1', '2', '2', '0', '1', '0', '0', '1', '1', '1', '2', '2', '1', '1', '2', '0', '2', '0', '1', '1', '0', '1', '2', '1', '1', '1', '2', '2', '2', '1', '2', '0', '1', '1', '1', '1', '0', '0', '2', '1', '0', '2', '1', '1', '2', '0', '1', '1', '2', '0', '1', '2', '2', '0', '2', '1', '0', '0', '2', '0', '1', '0', '2', '0', '0', '0', '0', '0', '0', '1', '0', '1', '2', '0', '1', '1', '2', '1', '2', '1', '1', '1', '1', '0', '0', '0', '1', '1', '0', '0', '2', '2', '2', '2', '2', '1', '2', '1', '1', '1', '1', '1', '2', '1', '0', '0', '1', '0', '2', '1', '1', '1', '2', '0', '2', '2', '1', '1', '1', '0', '1', '2', '1', '2', '2', '1', '1', '2', '1', '1', '2', '0', '2', '1', '1', '1', '1', '1', '0', '2', '0', '2', '1', '1', '2', '1', '0', '2', '1', '1', '2', '0', '2', '0', '0', '2', '0', '1', '2', '2', '0', '1', '0', '1', '2', '1', '0', '1', '2', '1', '2', '2', '2', '1', '1', '0', '2', '0', '1', '1', '2', '2', '0', '1', '2', '0', '0', '2', '0', '0', '0', '1', '0', '2', '1', '1', '0', '1', '1', '1', '1', '0', '2', '1', '1', '2', '1', '0', '1', '0', '2', '1', '2', '2', '2', '1', '0', '0', '2', '1', '2', '2', '1', '2', '0', '2', '1', '1', '0', '2', '2', '1', '1', '2', '0', '0', '1', '1', '0', '2', '0', '1', '1', '0', '1', '2', '1', '0', '2', '1', '2', '2', '1', '2', '2', '1', '2', '2', '2', '2', '2', '0', '2', '1', '2', '0', '0', '0', '2', '2', '2', '2', '0', '0', '2', '0', '2', '0', '2', '2', '2', '2', '0', '1', '1', '1', '0', '0', '2', '1', '0', '1', '0', '2', '0', '1', '1', '1', '1', '2', '1', '0', '1', '1', '2', '0', '0', '1', '2', '1', '2', '2', '0', '0', '1', '0', '1', '2', '2', '2', '0', '2', '1', '0', '0', '1', '1', '1', '2', '0', '2', '1', '2', '2', '1', '2', '1', '2', '0', '2', '1', '1', '0', '0', '2']\n"
          ],
          "name": "stdout"
        }
      ]
    },
    {
      "cell_type": "code",
      "metadata": {
        "id": "NGJcN5PZ6_mp",
        "outputId": "4ee67af9-0502-4fca-a3c7-285ed534c15d",
        "colab": {
          "base_uri": "https://localhost:8080/",
          "height": 320
        }
      },
      "source": [
        "import seaborn as sns   # 0 - IND, 1- AFR, 2- TUS\n",
        "sns.countplot(categories)\n",
        "plt.show()"
      ],
      "execution_count": 84,
      "outputs": [
        {
          "output_type": "stream",
          "text": [
            "/usr/local/lib/python3.6/dist-packages/seaborn/_decorators.py:43: FutureWarning: Pass the following variable as a keyword arg: x. From version 0.12, the only valid positional argument will be `data`, and passing other arguments without an explicit keyword will result in an error or misinterpretation.\n",
            "  FutureWarning\n"
          ],
          "name": "stderr"
        },
        {
          "output_type": "display_data",
          "data": {
            "image/png": "[encoded data removed]",
            "text/plain": [
              "<Figure size 432x288 with 1 Axes>"
            ]
          },
          "metadata": {
            "tags": [],
            "needs_background": "light"
          }
        }
      ]
    },
    {
      "cell_type": "code",
      "metadata": {
        "id": "jdBTVfuP32s4",
        "outputId": "b35b71e8-652d-4ff0-dad3-159e9a0225fe",
        "colab": {
          "base_uri": "https://localhost:8080/",
          "height": 55
        }
      },
      "source": [
        "print(categories1)"
      ],
      "execution_count": 70,
      "outputs": [
        {
          "output_type": "stream",
          "text": [
            "['1', '1', '1', '1', '2', '0', '1', '1', '2', '1', '2', '0', '1', '1', '2', '2', '1', '1', '2', '2', '1', '0', '1', '2', '1', '2', '0', '2', '1', '2', '1', '1', '1', '1', '1', '2', '0', '0', '2', '0', '0', '1', '0', '1', '1', '1', '0', '1', '1', '2', '2', '2', '2', '1', '1', '1', '2', '1', '1', '1', '1', '0', '2', '1', '1', '2', '2', '0', '1', '0', '1', '2', '1', '2', '0', '1', '0', '0', '1', '0', '2', '0', '2', '2', '2', '0', '2', '1', '1', '2', '0', '1', '0', '1', '0', '2', '1', '1', '2', '2', '2', '2', '0', '1', '2', '2', '2', '1', '2', '1', '1', '0', '1', '0', '0', '0', '0', '0', '0', '2', '1', '2', '1', '0', '2', '0', '0', '2']\n"
          ],
          "name": "stdout"
        }
      ]
    },
    {
      "cell_type": "code",
      "metadata": {
        "id": "4TI2gDLb340H",
        "outputId": "8935b23b-2081-4e95-cdff-68af6b407b75",
        "colab": {
          "base_uri": "https://localhost:8080/",
          "height": 55
        }
      },
      "source": [
        "print(categories2)"
      ],
      "execution_count": 71,
      "outputs": [
        {
          "output_type": "stream",
          "text": [
            "['1', '1', '1', '1', '2', '0', '1', '1', '2', '1', '2', '0', '1', '1', '2', '2', '1', '1', '2', '2', '1', '0', '1', '2', '1', '2', '0', '2', '1', '2', '1', '1', '1', '1', '1', '2', '0', '0', '2', '0', '0', '1', '0', '1', '1', '1', '0', '1', '1', '2', '2', '2', '2', '1', '1', '1', '2', '1', '1', '1', '1', '0', '2', '1', '1', '2', '2', '0', '1', '0', '1', '2', '1', '2', '0', '1', '0', '0', '1', '0', '2', '0', '2', '2', '2', '0', '2', '1', '1', '2', '0', '1', '0', '1', '0', '2', '1', '1', '2', '2', '2', '2', '0', '1', '2', '2', '2', '1', '2', '1', '1', '0', '1', '0', '0', '0', '0', '0', '0', '2', '1', '2', '1', '0', '2', '0', '0', '2']\n"
          ],
          "name": "stdout"
        }
      ]
    },
    {
      "cell_type": "code",
      "metadata": {
        "id": "B2YUtdokTAQQ"
      },
      "source": [
        "trainIAT = pd.DataFrame({'FILE':os.listdir(original_train),'label':categories})\n",
        "trainIAT.to_csv(\"train_IAT.csv\",index=False)\n",
        "testIAT = pd.DataFrame({'FILE':os.listdir(original_test),'label':categories2})\n",
        "testIAT.to_csv(\"test_IAT.csv\",index=False)\n",
        "validIAT = pd.DataFrame({'FILE':os.listdir(original_valid),'label':categories1})\n",
        "validIAT.to_csv(\"valid_IAT.csv\",index=False)"
      ],
      "execution_count": 61,
      "outputs": []
    },
    {
      "cell_type": "code",
      "metadata": {
        "id": "Q7Ymu2nkbdji",
        "outputId": "d0833ce3-2b08-45bd-e3cb-a141da99fc14",
        "colab": {
          "base_uri": "https://localhost:8080/",
          "height": 35
        }
      },
      "source": [
        "trainIAT.shape"
      ],
      "execution_count": 62,
      "outputs": [
        {
          "output_type": "execute_result",
          "data": {
            "text/plain": [
              "(405, 2)"
            ]
          },
          "metadata": {
            "tags": []
          },
          "execution_count": 62
        }
      ]
    },
    {
      "cell_type": "code",
      "metadata": {
        "id": "0Jm2yqyDTAWk"
      },
      "source": [
        "from keras.models import Sequential\n",
        "from keras.layers import Conv2D, MaxPooling2D\n",
        "from keras.layers import Dropout, Flatten, Dense\n",
        "from keras.optimizers import SGD\n",
        "from keras.preprocessing.image import ImageDataGenerator"
      ],
      "execution_count": 53,
      "outputs": []
    },
    {
      "cell_type": "markdown",
      "metadata": {
        "id": "VTD-JT1Y62K4"
      },
      "source": [
        "**IMAGEDATAGENERATOR**"
      ]
    },
    {
      "cell_type": "code",
      "metadata": {
        "id": "12Qa08ptZOrB"
      },
      "source": [
        "train_datagen = ImageDataGenerator(\n",
        "        rescale=1./255,\n",
        "        shear_range=0.2,\n",
        "        zoom_range=0.2,\n",
        "        horizontal_flip=True,\n",
        "        vertical_flip=True,\n",
        "        width_shift_range=.2, \n",
        "        height_shift_range=.2,\n",
        "        fill_mode='nearest',\n",
        "        rotation_range=90)\n",
        "valid_datagen = ImageDataGenerator(\n",
        "        rescale=1./255,\n",
        "        shear_range=0.2,\n",
        "        zoom_range=0.2,\n",
        "        horizontal_flip=True,\n",
        "        vertical_flip=True,\n",
        "        width_shift_range=.2, \n",
        "        height_shift_range=.2,\n",
        "        fill_mode='nearest',\n",
        "        rotation_range=90)\n",
        "test_datagen = ImageDataGenerator(rescale=1./255)"
      ],
      "execution_count": 65,
      "outputs": []
    },
    {
      "cell_type": "code",
      "metadata": {
        "id": "pBPBqKAYTAYa",
        "outputId": "e65eb102-3006-45c5-87c4-a73617b0189a",
        "colab": {
          "base_uri": "https://localhost:8080/",
          "height": 70
        }
      },
      "source": [
        "train_generator = train_datagen.flow_from_dataframe(dataframe=trainIAT, \n",
        "                                             directory=original_train,\n",
        "                                             x_col='FILE',\n",
        "                                             y_col='label',\n",
        "                                             target_size=(img_rows,img_cols),\n",
        "                                             class_mode='categorical',\n",
        "                                             batch_size=10,\n",
        "                                             shuffle=True,\n",
        "                                             color_mode='rgb',\n",
        "                                             seed=7)\n",
        " \n",
        "validation_generator = valid_datagen.flow_from_dataframe(dataframe=validIAT, directory=original_valid,\n",
        "                                             x_col='FILE',\n",
        "                                             y_col='label',\n",
        "                                             target_size=(img_rows,img_cols),\n",
        "                                             class_mode='categorical',\n",
        "                                             batch_size=10,\n",
        "                                             shuffle=True,\n",
        "                                             color_mode='rgb',\n",
        "                                             seed=7)\n",
        "test_generator = test_datagen.flow_from_dataframe(dataframe=testIAT, directory=original_test,\n",
        "                                             x_col='FILE',\n",
        "                                             y_col='label',\n",
        "                                             target_size=(img_rows,img_cols),\n",
        "                                             class_mode='categorical',\n",
        "                                             batch_size=10,\n",
        "                                             shuffle=True,\n",
        "                                             color_mode='rgb',\n",
        "                                             seed=7)"
      ],
      "execution_count": 66,
      "outputs": [
        {
          "output_type": "stream",
          "text": [
            "Found 405 validated image filenames belonging to 3 classes.\n",
            "Found 128 validated image filenames belonging to 3 classes.\n",
            "Found 128 validated image filenames belonging to 3 classes.\n"
          ],
          "name": "stdout"
        }
      ]
    },
    {
      "cell_type": "code",
      "metadata": {
        "id": "CJdiIH6A4FUS"
      },
      "source": [
        "from keras.utils.np_utils import to_categorical\n",
        "from keras.layers import Dense, Dropout\n",
        "from keras.models import Sequential\n",
        "from keras.layers import Activation, Flatten, Conv2D\n",
        "from keras.callbacks import ModelCheckpoint, EarlyStopping, ReduceLROnPlateau\n",
        "from keras.utils import to_categorical\n",
        "from keras.datasets import mnist\n",
        "from keras.utils.vis_utils import model_to_dot\n",
        "from IPython.display import SVG\n",
        "from keras.preprocessing.image import ImageDataGenerator"
      ],
      "execution_count": 79,
      "outputs": []
    },
    {
      "cell_type": "code",
      "metadata": {
        "id": "oIxcdU_9Zfdh",
        "outputId": "fcd797bd-ef6b-492b-e64e-dfcca9911b03",
        "colab": {
          "base_uri": "https://localhost:8080/",
          "height": 372
        }
      },
      "source": [
        "# BUILDING THE MODEL\n",
        "\n",
        "model = Sequential()\n",
        "model.add(Conv2D(512, (img_rows,img_cols), padding=\"valid\", activation=\"relu\", input_shape=(img_rows, img_cols, 3)))\n",
        "model.add(Flatten())\n",
        "model.add(Dense(512))\n",
        "model.add(Activation('relu'))\n",
        "model.add(Dense(3))\n",
        "model.add(Activation('softmax'))\n",
        "\n",
        "# COMPILING THE MODEL\n",
        "\n",
        "model.compile(loss='categorical_crossentropy',\n",
        "                  optimizer='sgd',\n",
        "                  metrics=['accuracy'])\n",
        "reduce_lr = ReduceLROnPlateau(monitor='val_loss', mode='min', patience=3, factor=0.01, min_lr=0.00001)\n",
        "\n",
        "history1=model.fit_generator(generator=train_generator,\n",
        "                    validation_data=validation_generator,\n",
        "                    epochs=10,callbacks=reduce_lr)"
      ],
      "execution_count": 80,
      "outputs": [
        {
          "output_type": "stream",
          "text": [
            "Epoch 1/10\n",
            "41/41 [==============================] - 13s 307ms/step - loss: 3.3477 - accuracy: 0.3901 - val_loss: 1.0829 - val_accuracy: 0.4141\n",
            "Epoch 2/10\n",
            "41/41 [==============================] - 12s 299ms/step - loss: 1.1086 - accuracy: 0.3852 - val_loss: 1.0957 - val_accuracy: 0.3281\n",
            "Epoch 3/10\n",
            "41/41 [==============================] - 12s 299ms/step - loss: 1.0966 - accuracy: 0.3556 - val_loss: 1.0925 - val_accuracy: 0.3672\n",
            "Epoch 4/10\n",
            "41/41 [==============================] - 12s 298ms/step - loss: 1.1066 - accuracy: 0.3827 - val_loss: 1.0863 - val_accuracy: 0.4141\n",
            "Epoch 5/10\n",
            "41/41 [==============================] - 12s 299ms/step - loss: 1.0932 - accuracy: 0.3852 - val_loss: 1.0816 - val_accuracy: 0.4141\n",
            "Epoch 6/10\n",
            "41/41 [==============================] - 12s 297ms/step - loss: 1.0886 - accuracy: 0.3852 - val_loss: 1.0762 - val_accuracy: 0.4141\n",
            "Epoch 7/10\n",
            "41/41 [==============================] - 12s 295ms/step - loss: 1.0871 - accuracy: 0.3852 - val_loss: 1.0834 - val_accuracy: 0.4141\n",
            "Epoch 8/10\n",
            "41/41 [==============================] - 12s 296ms/step - loss: 1.0897 - accuracy: 0.3852 - val_loss: 1.0818 - val_accuracy: 0.4141\n",
            "Epoch 9/10\n",
            "41/41 [==============================] - 12s 295ms/step - loss: 1.0836 - accuracy: 0.3852 - val_loss: 1.0815 - val_accuracy: 0.4141\n",
            "Epoch 10/10\n",
            "41/41 [==============================] - 12s 297ms/step - loss: 1.0864 - accuracy: 0.3852 - val_loss: 1.0782 - val_accuracy: 0.4141\n"
          ],
          "name": "stdout"
        }
      ]
    },
    {
      "cell_type": "code",
      "metadata": {
        "id": "PYjiau8CeYXE",
        "outputId": "cbd2f5bc-a360-44b7-953f-1fa5651344bb",
        "colab": {
          "base_uri": "https://localhost:8080/",
          "height": 573
        }
      },
      "source": [
        "import matplotlib.pyplot as plt\n",
        "# Plot training & validation accuracy values\n",
        "plt.plot(history1.history['accuracy'])\n",
        "plt.plot(history1.history['val_accuracy'])\n",
        "plt.title('Model accuracy')\n",
        "plt.ylabel('Accuracy')\n",
        "plt.xlabel('Epoch')\n",
        "plt.legend(['Train', 'Test'], loc='upper left')\n",
        "plt.show()\n",
        "\n",
        "# Plot training & validation loss values\n",
        "plt.plot(history1.history['loss'])\n",
        "plt.plot(history1.history['val_loss'])\n",
        "plt.title('Model loss')\n",
        "plt.ylabel('Loss')\n",
        "plt.xlabel('Epoch')\n",
        "plt.legend(['Train', 'Test'], loc='upper left')\n",
        "plt.show()"
      ],
      "execution_count": 81,
      "outputs": [
        {
          "output_type": "display_data",
          "data": {
            "image/png": "[encoded data removed]",
            "text/plain": [
              "<Figure size 432x288 with 1 Axes>"
            ]
          },
          "metadata": {
            "tags": [],
            "needs_background": "light"
          }
        },
        {
          "output_type": "display_data",
          "data": {
            "image/png": "[encoded data removed]",
            "text/plain": [
              "<Figure size 432x288 with 1 Axes>"
            ]
          },
          "metadata": {
            "tags": [],
            "needs_background": "light"
          }
        }
      ]
    },
    {
      "cell_type": "code",
      "metadata": {
        "id": "YMLtt3jbdB1Z",
        "outputId": "8d7ce809-e25d-4335-ac0a-6e9509afe8c2",
        "colab": {
          "base_uri": "https://localhost:8080/",
          "height": 52
        }
      },
      "source": [
        "model.evaluate(validation_generator)"
      ],
      "execution_count": 82,
      "outputs": [
        {
          "output_type": "stream",
          "text": [
            "13/13 [==============================] - 2s 186ms/step - loss: 1.0825 - accuracy: 0.4141\n"
          ],
          "name": "stdout"
        },
        {
          "output_type": "execute_result",
          "data": {
            "text/plain": [
              "[1.082505464553833, 0.4140625]"
            ]
          },
          "metadata": {
            "tags": []
          },
          "execution_count": 82
        }
      ]
    }
  ]
}