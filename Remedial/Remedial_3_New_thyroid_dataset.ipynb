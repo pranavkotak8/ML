{
  "nbformat": 4,
  "nbformat_minor": 0,
  "metadata": {
    "colab": {
      "name": "Remedial_3_New_thyroid_dataset.ipynb",
      "provenance": [],
      "collapsed_sections": []
    },
    "kernelspec": {
      "name": "python3",
      "display_name": "Python 3"
    }
  },
  "cells": [
    {
      "cell_type": "code",
      "metadata": {
        "id": "1pwFe1Di8b4N"
      },
      "source": [
        "import pandas as pd\n",
        "import numpy as np"
      ],
      "execution_count": 1,
      "outputs": []
    },
    {
      "cell_type": "code",
      "metadata": {
        "id": "VfWKhjiFCGKR"
      },
      "source": [
        "path='https://raw.githubusercontent.com/pranavkotak8/Datasets/master/new-thyroid.csv'\n",
        "df1=pd.read_csv(path)"
      ],
      "execution_count": 2,
      "outputs": []
    },
    {
      "cell_type": "code",
      "metadata": {
        "id": "RYZ_G8UCCObH",
        "outputId": "33148b66-044f-4186-b2c4-3ea11d5f83a6",
        "colab": {
          "base_uri": "https://localhost:8080/",
          "height": 399
        }
      },
      "source": [
        "df1"
      ],
      "execution_count": 3,
      "outputs": [
        {
          "output_type": "execute_result",
          "data": {
            "text/html": [
              "<div>\n",
              "<style scoped>\n",
              "    .dataframe tbody tr th:only-of-type {\n",
              "        vertical-align: middle;\n",
              "    }\n",
              "\n",
              "    .dataframe tbody tr th {\n",
              "        vertical-align: top;\n",
              "    }\n",
              "\n",
              "    .dataframe thead th {\n",
              "        text-align: right;\n",
              "    }\n",
              "</style>\n",
              "<table border=\"1\" class=\"dataframe\">\n",
              "  <thead>\n",
              "    <tr style=\"text-align: right;\">\n",
              "      <th></th>\n",
              "      <th>2</th>\n",
              "      <th>3</th>\n",
              "      <th>4</th>\n",
              "      <th>5</th>\n",
              "      <th>6</th>\n",
              "      <th>class</th>\n",
              "    </tr>\n",
              "  </thead>\n",
              "  <tbody>\n",
              "    <tr>\n",
              "      <th>0</th>\n",
              "      <td>107</td>\n",
              "      <td>10.1</td>\n",
              "      <td>2.2</td>\n",
              "      <td>0.9</td>\n",
              "      <td>2.7</td>\n",
              "      <td>1</td>\n",
              "    </tr>\n",
              "    <tr>\n",
              "      <th>1</th>\n",
              "      <td>113</td>\n",
              "      <td>9.9</td>\n",
              "      <td>3.1</td>\n",
              "      <td>2.0</td>\n",
              "      <td>5.9</td>\n",
              "      <td>1</td>\n",
              "    </tr>\n",
              "    <tr>\n",
              "      <th>2</th>\n",
              "      <td>127</td>\n",
              "      <td>12.9</td>\n",
              "      <td>2.4</td>\n",
              "      <td>1.4</td>\n",
              "      <td>0.6</td>\n",
              "      <td>1</td>\n",
              "    </tr>\n",
              "    <tr>\n",
              "      <th>3</th>\n",
              "      <td>109</td>\n",
              "      <td>5.3</td>\n",
              "      <td>1.6</td>\n",
              "      <td>1.4</td>\n",
              "      <td>1.5</td>\n",
              "      <td>1</td>\n",
              "    </tr>\n",
              "    <tr>\n",
              "      <th>4</th>\n",
              "      <td>105</td>\n",
              "      <td>7.3</td>\n",
              "      <td>1.5</td>\n",
              "      <td>1.5</td>\n",
              "      <td>-0.1</td>\n",
              "      <td>1</td>\n",
              "    </tr>\n",
              "    <tr>\n",
              "      <th>...</th>\n",
              "      <td>...</td>\n",
              "      <td>...</td>\n",
              "      <td>...</td>\n",
              "      <td>...</td>\n",
              "      <td>...</td>\n",
              "      <td>...</td>\n",
              "    </tr>\n",
              "    <tr>\n",
              "      <th>210</th>\n",
              "      <td>118</td>\n",
              "      <td>6.5</td>\n",
              "      <td>1.3</td>\n",
              "      <td>1.7</td>\n",
              "      <td>11.5</td>\n",
              "      <td>3</td>\n",
              "    </tr>\n",
              "    <tr>\n",
              "      <th>211</th>\n",
              "      <td>139</td>\n",
              "      <td>4.2</td>\n",
              "      <td>0.7</td>\n",
              "      <td>4.3</td>\n",
              "      <td>6.3</td>\n",
              "      <td>3</td>\n",
              "    </tr>\n",
              "    <tr>\n",
              "      <th>212</th>\n",
              "      <td>103</td>\n",
              "      <td>5.1</td>\n",
              "      <td>1.4</td>\n",
              "      <td>1.2</td>\n",
              "      <td>5.0</td>\n",
              "      <td>3</td>\n",
              "    </tr>\n",
              "    <tr>\n",
              "      <th>213</th>\n",
              "      <td>97</td>\n",
              "      <td>4.7</td>\n",
              "      <td>1.1</td>\n",
              "      <td>2.1</td>\n",
              "      <td>12.6</td>\n",
              "      <td>3</td>\n",
              "    </tr>\n",
              "    <tr>\n",
              "      <th>214</th>\n",
              "      <td>102</td>\n",
              "      <td>5.3</td>\n",
              "      <td>1.4</td>\n",
              "      <td>1.3</td>\n",
              "      <td>6.7</td>\n",
              "      <td>3</td>\n",
              "    </tr>\n",
              "  </tbody>\n",
              "</table>\n",
              "<p>215 rows × 6 columns</p>\n",
              "</div>"
            ],
            "text/plain": [
              "       2     3    4    5     6  class\n",
              "0    107  10.1  2.2  0.9   2.7      1\n",
              "1    113   9.9  3.1  2.0   5.9      1\n",
              "2    127  12.9  2.4  1.4   0.6      1\n",
              "3    109   5.3  1.6  1.4   1.5      1\n",
              "4    105   7.3  1.5  1.5  -0.1      1\n",
              "..   ...   ...  ...  ...   ...    ...\n",
              "210  118   6.5  1.3  1.7  11.5      3\n",
              "211  139   4.2  0.7  4.3   6.3      3\n",
              "212  103   5.1  1.4  1.2   5.0      3\n",
              "213   97   4.7  1.1  2.1  12.6      3\n",
              "214  102   5.3  1.4  1.3   6.7      3\n",
              "\n",
              "[215 rows x 6 columns]"
            ]
          },
          "metadata": {
            "tags": []
          },
          "execution_count": 3
        }
      ]
    },
    {
      "cell_type": "code",
      "metadata": {
        "id": "ib2NRfnXCPGt",
        "outputId": "165f4425-b807-486d-8089-a43e8370ccf7",
        "colab": {
          "base_uri": "https://localhost:8080/"
        }
      },
      "source": [
        "# Finding the Missing Values\n",
        "df1.isna().sum()/len(df1)"
      ],
      "execution_count": 4,
      "outputs": [
        {
          "output_type": "execute_result",
          "data": {
            "text/plain": [
              "2        0.0\n",
              "3        0.0\n",
              "4        0.0\n",
              "5        0.0\n",
              "6        0.0\n",
              "class    0.0\n",
              "dtype: float64"
            ]
          },
          "metadata": {
            "tags": []
          },
          "execution_count": 4
        }
      ]
    },
    {
      "cell_type": "code",
      "metadata": {
        "id": "zDokCQQoCVEv",
        "outputId": "b5036e32-9cea-4ad2-f428-4e44f49270ad",
        "colab": {
          "base_uri": "https://localhost:8080/"
        }
      },
      "source": [
        "df1.info()"
      ],
      "execution_count": 5,
      "outputs": [
        {
          "output_type": "stream",
          "text": [
            "<class 'pandas.core.frame.DataFrame'>\n",
            "RangeIndex: 215 entries, 0 to 214\n",
            "Data columns (total 6 columns):\n",
            " #   Column  Non-Null Count  Dtype  \n",
            "---  ------  --------------  -----  \n",
            " 0   2       215 non-null    int64  \n",
            " 1   3       215 non-null    float64\n",
            " 2   4       215 non-null    float64\n",
            " 3   5       215 non-null    float64\n",
            " 4   6       215 non-null    float64\n",
            " 5   class   215 non-null    int64  \n",
            "dtypes: float64(4), int64(2)\n",
            "memory usage: 10.2 KB\n"
          ],
          "name": "stdout"
        }
      ]
    },
    {
      "cell_type": "code",
      "metadata": {
        "id": "JtjE6i7OCaHp",
        "outputId": "06f99f06-2af0-48b2-f7fc-19042caf280a",
        "colab": {
          "base_uri": "https://localhost:8080/",
          "height": 335
        }
      },
      "source": [
        "# Lets check out the Target Column\n",
        "import seaborn as sns\n",
        "import matplotlib.pyplot as plt\n",
        "%matplotlib inline\n",
        "sns.countplot(df1['class'])\n",
        "plt.show()"
      ],
      "execution_count": 7,
      "outputs": [
        {
          "output_type": "stream",
          "text": [
            "/usr/local/lib/python3.6/dist-packages/seaborn/_decorators.py:43: FutureWarning: Pass the following variable as a keyword arg: x. From version 0.12, the only valid positional argument will be `data`, and passing other arguments without an explicit keyword will result in an error or misinterpretation.\n",
            "  FutureWarning\n"
          ],
          "name": "stderr"
        },
        {
          "output_type": "display_data",
          "data": {
            "image/png": "[encoded data removed]",
            "text/plain": [
              "<Figure size 432x288 with 1 Axes>"
            ]
          },
          "metadata": {
            "tags": [],
            "needs_background": "light"
          }
        }
      ]
    },
    {
      "cell_type": "code",
      "metadata": {
        "id": "K-YLL92FDBe0"
      },
      "source": [
        "target=df1['class']"
      ],
      "execution_count": 8,
      "outputs": []
    },
    {
      "cell_type": "code",
      "metadata": {
        "id": "T-t6BatGDFyC"
      },
      "source": [
        "df1.drop(columns={'class'},inplace=True)"
      ],
      "execution_count": 9,
      "outputs": []
    },
    {
      "cell_type": "code",
      "metadata": {
        "id": "iGirmd2nI3zL"
      },
      "source": [
        "from sklearn.model_selection import cross_val_score\n",
        "from sklearn.model_selection import RepeatedStratifiedKFold\n",
        "from sklearn.tree import DecisionTreeClassifier"
      ],
      "execution_count": 10,
      "outputs": []
    },
    {
      "cell_type": "code",
      "metadata": {
        "id": "1Y2IuzF0I39x"
      },
      "source": [
        "# Splitting into trainset and testset in the ratio 80:20\n",
        "seed=8\n",
        "from sklearn.model_selection import train_test_split\n",
        "X_train,X_test,y_train,y_test=train_test_split(df1,target,test_size=0.2,random_state=seed)"
      ],
      "execution_count": 11,
      "outputs": []
    },
    {
      "cell_type": "code",
      "metadata": {
        "id": "JcIYR_evI4Ad",
        "outputId": "c85a706d-307a-4572-f23c-32581377d70e",
        "colab": {
          "base_uri": "https://localhost:8080/"
        }
      },
      "source": [
        "from imblearn.over_sampling import SMOTE\n",
        "from collections import Counter\n",
        "from matplotlib import pyplot"
      ],
      "execution_count": 14,
      "outputs": [
        {
          "output_type": "stream",
          "text": [
            "/usr/local/lib/python3.6/dist-packages/sklearn/externals/six.py:31: FutureWarning: The module is deprecated in version 0.21 and will be removed in version 0.23 since we've dropped support for Python 2.7. Please rely on the official version of six (https://pypi.org/project/six/).\n",
            "  \"(https://pypi.org/project/six/).\", FutureWarning)\n",
            "/usr/local/lib/python3.6/dist-packages/sklearn/utils/deprecation.py:144: FutureWarning: The sklearn.neighbors.base module is  deprecated in version 0.22 and will be removed in version 0.24. The corresponding classes / functions should instead be imported from sklearn.neighbors. Anything that cannot be imported from sklearn.neighbors is now part of the private API.\n",
            "  warnings.warn(message, FutureWarning)\n"
          ],
          "name": "stderr"
        }
      ]
    },
    {
      "cell_type": "code",
      "metadata": {
        "id": "EFmWW3FJJzlV"
      },
      "source": [
        "# Balancing the target column"
      ],
      "execution_count": null,
      "outputs": []
    },
    {
      "cell_type": "code",
      "metadata": {
        "id": "Ao0rfw4VI4Dh",
        "outputId": "9feaa1f1-4d97-4114-a00e-cf5c20343d12",
        "colab": {
          "base_uri": "https://localhost:8080/",
          "height": 389
        }
      },
      "source": [
        "# transform the dataset\n",
        "oversample = SMOTE()\n",
        "X, y = oversample.fit_resample(df1, target)\n",
        "counter = Counter(y)\n",
        "for k,v in counter.items():\n",
        "\tper = v / len(y) * 100\n",
        "\tprint('Class=%d, n=%d (%.3f%%)' % (k, v, per))\n",
        "pyplot.bar(counter.keys(), counter.values())\n",
        "pyplot.show()"
      ],
      "execution_count": 17,
      "outputs": [
        {
          "output_type": "stream",
          "text": [
            "Class=1, n=150 (33.333%)\n",
            "Class=2, n=150 (33.333%)\n",
            "Class=3, n=150 (33.333%)\n"
          ],
          "name": "stdout"
        },
        {
          "output_type": "stream",
          "text": [
            "/usr/local/lib/python3.6/dist-packages/sklearn/utils/deprecation.py:87: FutureWarning: Function safe_indexing is deprecated; safe_indexing is deprecated in version 0.22 and will be removed in version 0.24.\n",
            "  warnings.warn(msg, category=FutureWarning)\n",
            "/usr/local/lib/python3.6/dist-packages/sklearn/utils/deprecation.py:87: FutureWarning: Function safe_indexing is deprecated; safe_indexing is deprecated in version 0.22 and will be removed in version 0.24.\n",
            "  warnings.warn(msg, category=FutureWarning)\n"
          ],
          "name": "stderr"
        },
        {
          "output_type": "display_data",
          "data": {
            "image/png": "[encoded data removed]",
            "text/plain": [
              "<Figure size 432x288 with 1 Axes>"
            ]
          },
          "metadata": {
            "tags": [],
            "needs_background": "light"
          }
        }
      ]
    },
    {
      "cell_type": "code",
      "metadata": {
        "id": "0OsjoA51I4Gh",
        "outputId": "2a985475-83b0-4268-db34-d5a6de2c5334",
        "colab": {
          "base_uri": "https://localhost:8080/",
          "height": 338
        }
      },
      "source": [
        "# New Balanced Target Feature Column\n",
        "import seaborn as sns\n",
        "sns.countplot(y)"
      ],
      "execution_count": 21,
      "outputs": [
        {
          "output_type": "stream",
          "text": [
            "/usr/local/lib/python3.6/dist-packages/seaborn/_decorators.py:43: FutureWarning: Pass the following variable as a keyword arg: x. From version 0.12, the only valid positional argument will be `data`, and passing other arguments without an explicit keyword will result in an error or misinterpretation.\n",
            "  FutureWarning\n"
          ],
          "name": "stderr"
        },
        {
          "output_type": "execute_result",
          "data": {
            "text/plain": [
              "<matplotlib.axes._subplots.AxesSubplot at 0x7fb414a7fcc0>"
            ]
          },
          "metadata": {
            "tags": []
          },
          "execution_count": 21
        },
        {
          "output_type": "display_data",
          "data": {
            "image/png": "[encoded data removed]",
            "text/plain": [
              "<Figure size 432x288 with 1 Axes>"
            ]
          },
          "metadata": {
            "tags": [],
            "needs_background": "light"
          }
        }
      ]
    },
    {
      "cell_type": "code",
      "metadata": {
        "id": "8NKRSEuqDO4l"
      },
      "source": [
        "from sklearn import linear_model\n",
        "from sklearn.linear_model import LogisticRegression\n",
        "logistic=linear_model.LogisticRegression()\n",
        "sgd=linear_model.SGDClassifier()"
      ],
      "execution_count": 22,
      "outputs": []
    },
    {
      "cell_type": "code",
      "metadata": {
        "id": "l3R-7B97Kh1k"
      },
      "source": [
        "y=pd.DataFrame(y)\n",
        "y.replace(1,0,inplace=True)\n",
        "y.replace(2,1,inplace=True)\n",
        "y.replace(3,2,inplace=True)"
      ],
      "execution_count": null,
      "outputs": []
    },
    {
      "cell_type": "code",
      "metadata": {
        "id": "u7_7QYPkDTa1"
      },
      "source": [
        "# Splitting into trainset and testset in the ratio 80:20\n",
        "seed=8\n",
        "from sklearn.model_selection import train_test_split\n",
        "X_train,X_test,y_train,y_test=train_test_split(X,y,test_size=0.2,random_state=seed)"
      ],
      "execution_count": 35,
      "outputs": []
    },
    {
      "cell_type": "code",
      "metadata": {
        "id": "D3W4AlshSPKu",
        "outputId": "3c5b9214-8ecd-44bb-f173-02fd74a216b2",
        "colab": {
          "base_uri": "https://localhost:8080/"
        }
      },
      "source": [
        "# Performing Decision Tree Classifier on the Dataset\n",
        "from sklearn.tree import DecisionTreeClassifier\n",
        "dc=DecisionTreeClassifier()\n",
        "dc.fit(X_train,y_train)"
      ],
      "execution_count": 52,
      "outputs": [
        {
          "output_type": "execute_result",
          "data": {
            "text/plain": [
              "DecisionTreeClassifier(ccp_alpha=0.0, class_weight=None, criterion='gini',\n",
              "                       max_depth=None, max_features=None, max_leaf_nodes=None,\n",
              "                       min_impurity_decrease=0.0, min_impurity_split=None,\n",
              "                       min_samples_leaf=1, min_samples_split=2,\n",
              "                       min_weight_fraction_leaf=0.0, presort='deprecated',\n",
              "                       random_state=None, splitter='best')"
            ]
          },
          "metadata": {
            "tags": []
          },
          "execution_count": 52
        }
      ]
    },
    {
      "cell_type": "code",
      "metadata": {
        "id": "uvNnUE8OSTeA",
        "outputId": "c585ff3e-6480-45f1-dd5f-962baedc675b",
        "colab": {
          "base_uri": "https://localhost:8080/"
        }
      },
      "source": [
        "from sklearn.metrics import accuracy_score\n",
        "y_test_pred_dc = dc.predict(X_test)\n",
        "accuracy_test = accuracy_score(y_test, y_test_pred_dc)\n",
        "print(\"Accuracy:\"+str(accuracy_test))"
      ],
      "execution_count": 54,
      "outputs": [
        {
          "output_type": "stream",
          "text": [
            "Accuracy:0.9888888888888889\n"
          ],
          "name": "stdout"
        }
      ]
    },
    {
      "cell_type": "code",
      "metadata": {
        "id": "yQ_ErhL8Dbvx",
        "outputId": "a16527c1-d860-47b4-8b4c-8f6b3ef007e6",
        "colab": {
          "base_uri": "https://localhost:8080/"
        }
      },
      "source": [
        "from sklearn.model_selection import cross_val_score\n",
        "scores=cross_val_score(logistic,X_train,y_train,cv=5,scoring='accuracy')"
      ],
      "execution_count": 36,
      "outputs": [
        {
          "output_type": "stream",
          "text": [
            "/usr/local/lib/python3.6/dist-packages/sklearn/utils/validation.py:760: DataConversionWarning: A column-vector y was passed when a 1d array was expected. Please change the shape of y to (n_samples, ), for example using ravel().\n",
            "  y = column_or_1d(y, warn=True)\n",
            "/usr/local/lib/python3.6/dist-packages/sklearn/linear_model/_logistic.py:940: ConvergenceWarning: lbfgs failed to converge (status=1):\n",
            "STOP: TOTAL NO. of ITERATIONS REACHED LIMIT.\n",
            "\n",
            "Increase the number of iterations (max_iter) or scale the data as shown in:\n",
            "    https://scikit-learn.org/stable/modules/preprocessing.html\n",
            "Please also refer to the documentation for alternative solver options:\n",
            "    https://scikit-learn.org/stable/modules/linear_model.html#logistic-regression\n",
            "  extra_warning_msg=_LOGISTIC_SOLVER_CONVERGENCE_MSG)\n",
            "/usr/local/lib/python3.6/dist-packages/sklearn/utils/validation.py:760: DataConversionWarning: A column-vector y was passed when a 1d array was expected. Please change the shape of y to (n_samples, ), for example using ravel().\n",
            "  y = column_or_1d(y, warn=True)\n",
            "/usr/local/lib/python3.6/dist-packages/sklearn/linear_model/_logistic.py:940: ConvergenceWarning: lbfgs failed to converge (status=1):\n",
            "STOP: TOTAL NO. of ITERATIONS REACHED LIMIT.\n",
            "\n",
            "Increase the number of iterations (max_iter) or scale the data as shown in:\n",
            "    https://scikit-learn.org/stable/modules/preprocessing.html\n",
            "Please also refer to the documentation for alternative solver options:\n",
            "    https://scikit-learn.org/stable/modules/linear_model.html#logistic-regression\n",
            "  extra_warning_msg=_LOGISTIC_SOLVER_CONVERGENCE_MSG)\n",
            "/usr/local/lib/python3.6/dist-packages/sklearn/utils/validation.py:760: DataConversionWarning: A column-vector y was passed when a 1d array was expected. Please change the shape of y to (n_samples, ), for example using ravel().\n",
            "  y = column_or_1d(y, warn=True)\n",
            "/usr/local/lib/python3.6/dist-packages/sklearn/linear_model/_logistic.py:940: ConvergenceWarning: lbfgs failed to converge (status=1):\n",
            "STOP: TOTAL NO. of ITERATIONS REACHED LIMIT.\n",
            "\n",
            "Increase the number of iterations (max_iter) or scale the data as shown in:\n",
            "    https://scikit-learn.org/stable/modules/preprocessing.html\n",
            "Please also refer to the documentation for alternative solver options:\n",
            "    https://scikit-learn.org/stable/modules/linear_model.html#logistic-regression\n",
            "  extra_warning_msg=_LOGISTIC_SOLVER_CONVERGENCE_MSG)\n",
            "/usr/local/lib/python3.6/dist-packages/sklearn/utils/validation.py:760: DataConversionWarning: A column-vector y was passed when a 1d array was expected. Please change the shape of y to (n_samples, ), for example using ravel().\n",
            "  y = column_or_1d(y, warn=True)\n",
            "/usr/local/lib/python3.6/dist-packages/sklearn/linear_model/_logistic.py:940: ConvergenceWarning: lbfgs failed to converge (status=1):\n",
            "STOP: TOTAL NO. of ITERATIONS REACHED LIMIT.\n",
            "\n",
            "Increase the number of iterations (max_iter) or scale the data as shown in:\n",
            "    https://scikit-learn.org/stable/modules/preprocessing.html\n",
            "Please also refer to the documentation for alternative solver options:\n",
            "    https://scikit-learn.org/stable/modules/linear_model.html#logistic-regression\n",
            "  extra_warning_msg=_LOGISTIC_SOLVER_CONVERGENCE_MSG)\n",
            "/usr/local/lib/python3.6/dist-packages/sklearn/utils/validation.py:760: DataConversionWarning: A column-vector y was passed when a 1d array was expected. Please change the shape of y to (n_samples, ), for example using ravel().\n",
            "  y = column_or_1d(y, warn=True)\n",
            "/usr/local/lib/python3.6/dist-packages/sklearn/linear_model/_logistic.py:940: ConvergenceWarning: lbfgs failed to converge (status=1):\n",
            "STOP: TOTAL NO. of ITERATIONS REACHED LIMIT.\n",
            "\n",
            "Increase the number of iterations (max_iter) or scale the data as shown in:\n",
            "    https://scikit-learn.org/stable/modules/preprocessing.html\n",
            "Please also refer to the documentation for alternative solver options:\n",
            "    https://scikit-learn.org/stable/modules/linear_model.html#logistic-regression\n",
            "  extra_warning_msg=_LOGISTIC_SOLVER_CONVERGENCE_MSG)\n"
          ],
          "name": "stderr"
        }
      ]
    },
    {
      "cell_type": "code",
      "metadata": {
        "id": "lPfzH0t-Dfzb",
        "outputId": "c325757b-1236-4783-feeb-24324e17558d",
        "colab": {
          "base_uri": "https://localhost:8080/"
        }
      },
      "source": [
        "np.mean(scores)"
      ],
      "execution_count": 37,
      "outputs": [
        {
          "output_type": "execute_result",
          "data": {
            "text/plain": [
              "0.9888888888888889"
            ]
          },
          "metadata": {
            "tags": []
          },
          "execution_count": 37
        }
      ]
    },
    {
      "cell_type": "code",
      "metadata": {
        "id": "75i-ZnlWDid8",
        "outputId": "6fa52b9b-ccd8-4e7a-a20a-28643fb9622d",
        "colab": {
          "base_uri": "https://localhost:8080/"
        }
      },
      "source": [
        "scores_sgd=cross_val_score(sgd,X_train,y_train,cv=5,scoring='accuracy')"
      ],
      "execution_count": 38,
      "outputs": [
        {
          "output_type": "stream",
          "text": [
            "/usr/local/lib/python3.6/dist-packages/sklearn/utils/validation.py:760: DataConversionWarning: A column-vector y was passed when a 1d array was expected. Please change the shape of y to (n_samples, ), for example using ravel().\n",
            "  y = column_or_1d(y, warn=True)\n",
            "/usr/local/lib/python3.6/dist-packages/sklearn/utils/validation.py:760: DataConversionWarning: A column-vector y was passed when a 1d array was expected. Please change the shape of y to (n_samples, ), for example using ravel().\n",
            "  y = column_or_1d(y, warn=True)\n",
            "/usr/local/lib/python3.6/dist-packages/sklearn/utils/validation.py:760: DataConversionWarning: A column-vector y was passed when a 1d array was expected. Please change the shape of y to (n_samples, ), for example using ravel().\n",
            "  y = column_or_1d(y, warn=True)\n",
            "/usr/local/lib/python3.6/dist-packages/sklearn/utils/validation.py:760: DataConversionWarning: A column-vector y was passed when a 1d array was expected. Please change the shape of y to (n_samples, ), for example using ravel().\n",
            "  y = column_or_1d(y, warn=True)\n",
            "/usr/local/lib/python3.6/dist-packages/sklearn/utils/validation.py:760: DataConversionWarning: A column-vector y was passed when a 1d array was expected. Please change the shape of y to (n_samples, ), for example using ravel().\n",
            "  y = column_or_1d(y, warn=True)\n"
          ],
          "name": "stderr"
        }
      ]
    },
    {
      "cell_type": "code",
      "metadata": {
        "id": "ZCvU4GGKDk6_",
        "outputId": "49047c39-0bec-4060-af9a-a51e48696731",
        "colab": {
          "base_uri": "https://localhost:8080/"
        }
      },
      "source": [
        "np.mean(scores_sgd)"
      ],
      "execution_count": 39,
      "outputs": [
        {
          "output_type": "execute_result",
          "data": {
            "text/plain": [
              "0.7972222222222222"
            ]
          },
          "metadata": {
            "tags": []
          },
          "execution_count": 39
        }
      ]
    },
    {
      "cell_type": "code",
      "metadata": {
        "id": "z4t3Wg9MDnxL"
      },
      "source": [
        "# GridSearch CV on Logistic Regression\n",
        "from sklearn.model_selection import GridSearchCV\n",
        "gscv_log=GridSearchCV(logistic, {\n",
        "                      'penalty': ['l1','l2','elasticnet'],\n",
        "                      'C': [0.1,0.5,0.25,0.8,0.9,0.95,1.5,2.3,5.5],\n",
        "                      'class_weight' : [{1:0.5, 0:0.5}, {1:0.4, 0:0.6}],\n",
        "                      'solver' : ['liblinear', 'saga']\n",
        "                      },cv=3,return_train_score=False,n_jobs=-1)"
      ],
      "execution_count": 40,
      "outputs": []
    },
    {
      "cell_type": "code",
      "metadata": {
        "id": "yFIpjxOfDuUF",
        "outputId": "09488c42-6966-4ff9-f5da-1672ae0e8900",
        "colab": {
          "base_uri": "https://localhost:8080/"
        }
      },
      "source": [
        "gscv_log.fit(X_train,y_train)"
      ],
      "execution_count": 41,
      "outputs": [
        {
          "output_type": "stream",
          "text": [
            "/usr/local/lib/python3.6/dist-packages/sklearn/utils/validation.py:760: DataConversionWarning: A column-vector y was passed when a 1d array was expected. Please change the shape of y to (n_samples, ), for example using ravel().\n",
            "  y = column_or_1d(y, warn=True)\n"
          ],
          "name": "stderr"
        },
        {
          "output_type": "execute_result",
          "data": {
            "text/plain": [
              "GridSearchCV(cv=3, error_score=nan,\n",
              "             estimator=LogisticRegression(C=1.0, class_weight=None, dual=False,\n",
              "                                          fit_intercept=True,\n",
              "                                          intercept_scaling=1, l1_ratio=None,\n",
              "                                          max_iter=100, multi_class='auto',\n",
              "                                          n_jobs=None, penalty='l2',\n",
              "                                          random_state=None, solver='lbfgs',\n",
              "                                          tol=0.0001, verbose=0,\n",
              "                                          warm_start=False),\n",
              "             iid='deprecated', n_jobs=-1,\n",
              "             param_grid={'C': [0.1, 0.5, 0.25, 0.8, 0.9, 0.95, 1.5, 2.3, 5.5],\n",
              "                         'class_weight': [{0: 0.5, 1: 0.5}, {0: 0.6, 1: 0.4}],\n",
              "                         'penalty': ['l1', 'l2', 'elasticnet'],\n",
              "                         'solver': ['liblinear', 'saga']},\n",
              "             pre_dispatch='2*n_jobs', refit=True, return_train_score=False,\n",
              "             scoring=None, verbose=0)"
            ]
          },
          "metadata": {
            "tags": []
          },
          "execution_count": 41
        }
      ]
    },
    {
      "cell_type": "code",
      "metadata": {
        "id": "lpL0kZOXDxq7",
        "outputId": "86855443-2d21-4045-e857-335dd1b00606",
        "colab": {
          "base_uri": "https://localhost:8080/"
        }
      },
      "source": [
        "gscv_log.best_score_"
      ],
      "execution_count": 42,
      "outputs": [
        {
          "output_type": "execute_result",
          "data": {
            "text/plain": [
              "0.9833333333333334"
            ]
          },
          "metadata": {
            "tags": []
          },
          "execution_count": 42
        }
      ]
    },
    {
      "cell_type": "code",
      "metadata": {
        "id": "R2x0v8brFELL",
        "outputId": "32ecd28c-5d22-44b4-8202-654fff6599b7",
        "colab": {
          "base_uri": "https://localhost:8080/"
        }
      },
      "source": [
        "# Accuracy on the Test Set\n",
        "from sklearn.metrics import accuracy_score\n",
        "y_test_pred = gscv_log.predict(X_test)\n",
        "accuracy_test = accuracy_score(y_test, y_test_pred)\n",
        "print(\"Accuracy:\"+str(accuracy_test))"
      ],
      "execution_count": 43,
      "outputs": [
        {
          "output_type": "stream",
          "text": [
            "Accuracy:1.0\n"
          ],
          "name": "stdout"
        }
      ]
    },
    {
      "cell_type": "code",
      "metadata": {
        "id": "jCkanDfVFHY4",
        "outputId": "718db1aa-88d1-4547-fe04-4a8ecd65fb80",
        "colab": {
          "base_uri": "https://localhost:8080/"
        }
      },
      "source": [
        "# Performing Random Forest on the Dataset\n",
        "from sklearn.ensemble import RandomForestClassifier\n",
        "rf=RandomForestClassifier()\n",
        "rf.fit(X_train,y_train)"
      ],
      "execution_count": 44,
      "outputs": [
        {
          "output_type": "stream",
          "text": [
            "/usr/local/lib/python3.6/dist-packages/ipykernel_launcher.py:4: DataConversionWarning: A column-vector y was passed when a 1d array was expected. Please change the shape of y to (n_samples,), for example using ravel().\n",
            "  after removing the cwd from sys.path.\n"
          ],
          "name": "stderr"
        },
        {
          "output_type": "execute_result",
          "data": {
            "text/plain": [
              "RandomForestClassifier(bootstrap=True, ccp_alpha=0.0, class_weight=None,\n",
              "                       criterion='gini', max_depth=None, max_features='auto',\n",
              "                       max_leaf_nodes=None, max_samples=None,\n",
              "                       min_impurity_decrease=0.0, min_impurity_split=None,\n",
              "                       min_samples_leaf=1, min_samples_split=2,\n",
              "                       min_weight_fraction_leaf=0.0, n_estimators=100,\n",
              "                       n_jobs=None, oob_score=False, random_state=None,\n",
              "                       verbose=0, warm_start=False)"
            ]
          },
          "metadata": {
            "tags": []
          },
          "execution_count": 44
        }
      ]
    },
    {
      "cell_type": "code",
      "metadata": {
        "id": "dYI9RCnhFMOL",
        "outputId": "8c517d48-b0fc-403c-894b-1925764ad944",
        "colab": {
          "base_uri": "https://localhost:8080/"
        }
      },
      "source": [
        "y_test_pred_rf = rf.predict(X_test)\n",
        "accuracy_test = accuracy_score(y_test, y_test_pred_rf)\n",
        "print(\"Accuracy:\"+str(accuracy_test))"
      ],
      "execution_count": 45,
      "outputs": [
        {
          "output_type": "stream",
          "text": [
            "Accuracy:0.9888888888888889\n"
          ],
          "name": "stdout"
        }
      ]
    },
    {
      "cell_type": "code",
      "metadata": {
        "id": "ymgRhZS7FPh7"
      },
      "source": [
        "# Performing Neural Networks on the Dataset\n",
        "# Importing the Necessary Libraries for Neural Networks\n",
        "from keras import Sequential\n",
        "from keras.layers import LeakyReLU\n",
        "from keras.layers import Dense\n",
        "import tensorflow\n",
        "from keras.utils import to_categorical"
      ],
      "execution_count": 46,
      "outputs": []
    },
    {
      "cell_type": "code",
      "metadata": {
        "id": "PFKZ_2KZFWf9"
      },
      "source": [
        "y_train=to_categorical(y_train)\n",
        "y_test=to_categorical(y_test)"
      ],
      "execution_count": 47,
      "outputs": []
    },
    {
      "cell_type": "code",
      "metadata": {
        "id": "zp170tR0FgZX",
        "outputId": "fe76a172-76aa-43c2-be4b-21c72296a47b",
        "colab": {
          "base_uri": "https://localhost:8080/"
        }
      },
      "source": [
        "X_train.shape"
      ],
      "execution_count": 48,
      "outputs": [
        {
          "output_type": "execute_result",
          "data": {
            "text/plain": [
              "(360, 5)"
            ]
          },
          "metadata": {
            "tags": []
          },
          "execution_count": 48
        }
      ]
    },
    {
      "cell_type": "code",
      "metadata": {
        "id": "PfMxghxeFaZZ",
        "outputId": "6270a7b0-629e-4454-95ef-3b482268bf6d",
        "colab": {
          "base_uri": "https://localhost:8080/"
        }
      },
      "source": [
        "# Performing Neural Network on X_train and Y_train\n",
        "model=Sequential()\n",
        "model.add(Dense(units=580, activation='relu', input_dim=5))\n",
        "model.add(Dense(units=2800, activation='relu'))\n",
        "model.add(Dense(units=1041, activation='relu'))\n",
        "model.add(Dense(units=2041))\n",
        "model.add(LeakyReLU(alpha=0.05))\n",
        "model.add(Dense(units=3, activation='softmax'))\n",
        "model.compile(loss='categorical_crossentropy', optimizer='Adam', metrics=['accuracy'])\n",
        "history1=model.fit(X_train, y_train, epochs=100,validation_split=0.2, verbose=1,batch_size=128)"
      ],
      "execution_count": 49,
      "outputs": [
        {
          "output_type": "stream",
          "text": [
            "Epoch 1/100\n",
            "3/3 [==============================] - 0s 134ms/step - loss: 16.9756 - accuracy: 0.3681 - val_loss: 5.7139 - val_accuracy: 0.5000\n",
            "Epoch 2/100\n",
            "3/3 [==============================] - 0s 84ms/step - loss: 5.3409 - accuracy: 0.4583 - val_loss: 3.1587 - val_accuracy: 0.2500\n",
            "Epoch 3/100\n",
            "3/3 [==============================] - 0s 82ms/step - loss: 2.8448 - accuracy: 0.3368 - val_loss: 2.7440 - val_accuracy: 0.3611\n",
            "Epoch 4/100\n",
            "3/3 [==============================] - 0s 81ms/step - loss: 2.0785 - accuracy: 0.4688 - val_loss: 1.7365 - val_accuracy: 0.3194\n",
            "Epoch 5/100\n",
            "3/3 [==============================] - 0s 86ms/step - loss: 1.1205 - accuracy: 0.5000 - val_loss: 0.8404 - val_accuracy: 0.3750\n",
            "Epoch 6/100\n",
            "3/3 [==============================] - 0s 84ms/step - loss: 0.8827 - accuracy: 0.4757 - val_loss: 0.6582 - val_accuracy: 0.7639\n",
            "Epoch 7/100\n",
            "3/3 [==============================] - 0s 82ms/step - loss: 0.5971 - accuracy: 0.7743 - val_loss: 0.5124 - val_accuracy: 0.8611\n",
            "Epoch 8/100\n",
            "3/3 [==============================] - 0s 85ms/step - loss: 0.4332 - accuracy: 0.8993 - val_loss: 0.4004 - val_accuracy: 0.9306\n",
            "Epoch 9/100\n",
            "3/3 [==============================] - 0s 84ms/step - loss: 0.3089 - accuracy: 0.9444 - val_loss: 0.2349 - val_accuracy: 0.9861\n",
            "Epoch 10/100\n",
            "3/3 [==============================] - 0s 82ms/step - loss: 0.2351 - accuracy: 0.9340 - val_loss: 0.2088 - val_accuracy: 0.9583\n",
            "Epoch 11/100\n",
            "3/3 [==============================] - 0s 83ms/step - loss: 0.1422 - accuracy: 0.9688 - val_loss: 0.1113 - val_accuracy: 0.9722\n",
            "Epoch 12/100\n",
            "3/3 [==============================] - 0s 82ms/step - loss: 0.1131 - accuracy: 0.9653 - val_loss: 0.1522 - val_accuracy: 0.9583\n",
            "Epoch 13/100\n",
            "3/3 [==============================] - 0s 85ms/step - loss: 0.1152 - accuracy: 0.9549 - val_loss: 0.1038 - val_accuracy: 0.9722\n",
            "Epoch 14/100\n",
            "3/3 [==============================] - 0s 82ms/step - loss: 0.1626 - accuracy: 0.9271 - val_loss: 0.0664 - val_accuracy: 1.0000\n",
            "Epoch 15/100\n",
            "3/3 [==============================] - 0s 86ms/step - loss: 0.1220 - accuracy: 0.9444 - val_loss: 0.1750 - val_accuracy: 0.9444\n",
            "Epoch 16/100\n",
            "3/3 [==============================] - 0s 82ms/step - loss: 0.1447 - accuracy: 0.9444 - val_loss: 0.0703 - val_accuracy: 0.9722\n",
            "Epoch 17/100\n",
            "3/3 [==============================] - 0s 83ms/step - loss: 0.1148 - accuracy: 0.9549 - val_loss: 0.0423 - val_accuracy: 0.9722\n",
            "Epoch 18/100\n",
            "3/3 [==============================] - 0s 84ms/step - loss: 0.0730 - accuracy: 0.9688 - val_loss: 0.0736 - val_accuracy: 0.9722\n",
            "Epoch 19/100\n",
            "3/3 [==============================] - 0s 82ms/step - loss: 0.0698 - accuracy: 0.9688 - val_loss: 0.0365 - val_accuracy: 0.9722\n",
            "Epoch 20/100\n",
            "3/3 [==============================] - 0s 83ms/step - loss: 0.0653 - accuracy: 0.9757 - val_loss: 0.0341 - val_accuracy: 0.9861\n",
            "Epoch 21/100\n",
            "3/3 [==============================] - 0s 84ms/step - loss: 0.0656 - accuracy: 0.9688 - val_loss: 0.1165 - val_accuracy: 0.9583\n",
            "Epoch 22/100\n",
            "3/3 [==============================] - 0s 85ms/step - loss: 0.0899 - accuracy: 0.9618 - val_loss: 0.0237 - val_accuracy: 1.0000\n",
            "Epoch 23/100\n",
            "3/3 [==============================] - 0s 87ms/step - loss: 0.0858 - accuracy: 0.9653 - val_loss: 0.1076 - val_accuracy: 0.9583\n",
            "Epoch 24/100\n",
            "3/3 [==============================] - 0s 82ms/step - loss: 0.0785 - accuracy: 0.9688 - val_loss: 0.1735 - val_accuracy: 0.9444\n",
            "Epoch 25/100\n",
            "3/3 [==============================] - 0s 87ms/step - loss: 0.2403 - accuracy: 0.9097 - val_loss: 0.0965 - val_accuracy: 0.9583\n",
            "Epoch 26/100\n",
            "3/3 [==============================] - 0s 83ms/step - loss: 0.1523 - accuracy: 0.9375 - val_loss: 0.0791 - val_accuracy: 0.9583\n",
            "Epoch 27/100\n",
            "3/3 [==============================] - 0s 84ms/step - loss: 0.1576 - accuracy: 0.9375 - val_loss: 0.0548 - val_accuracy: 0.9722\n",
            "Epoch 28/100\n",
            "3/3 [==============================] - 0s 81ms/step - loss: 0.1525 - accuracy: 0.9410 - val_loss: 0.2390 - val_accuracy: 0.8472\n",
            "Epoch 29/100\n",
            "3/3 [==============================] - 0s 82ms/step - loss: 0.1666 - accuracy: 0.9340 - val_loss: 0.0298 - val_accuracy: 1.0000\n",
            "Epoch 30/100\n",
            "3/3 [==============================] - 0s 81ms/step - loss: 0.1073 - accuracy: 0.9583 - val_loss: 0.0631 - val_accuracy: 0.9722\n",
            "Epoch 31/100\n",
            "3/3 [==============================] - 0s 83ms/step - loss: 0.0965 - accuracy: 0.9618 - val_loss: 0.0354 - val_accuracy: 1.0000\n",
            "Epoch 32/100\n",
            "3/3 [==============================] - 0s 82ms/step - loss: 0.0983 - accuracy: 0.9688 - val_loss: 0.0439 - val_accuracy: 1.0000\n",
            "Epoch 33/100\n",
            "3/3 [==============================] - 0s 81ms/step - loss: 0.1180 - accuracy: 0.9549 - val_loss: 0.0475 - val_accuracy: 1.0000\n",
            "Epoch 34/100\n",
            "3/3 [==============================] - 0s 82ms/step - loss: 0.0610 - accuracy: 0.9826 - val_loss: 0.0813 - val_accuracy: 0.9583\n",
            "Epoch 35/100\n",
            "3/3 [==============================] - 0s 82ms/step - loss: 0.0983 - accuracy: 0.9583 - val_loss: 0.2642 - val_accuracy: 0.8333\n",
            "Epoch 36/100\n",
            "3/3 [==============================] - 0s 84ms/step - loss: 0.1205 - accuracy: 0.9549 - val_loss: 0.0361 - val_accuracy: 1.0000\n",
            "Epoch 37/100\n",
            "3/3 [==============================] - 0s 82ms/step - loss: 0.1330 - accuracy: 0.9479 - val_loss: 0.1224 - val_accuracy: 0.9583\n",
            "Epoch 38/100\n",
            "3/3 [==============================] - 0s 82ms/step - loss: 0.1372 - accuracy: 0.9410 - val_loss: 0.0383 - val_accuracy: 0.9861\n",
            "Epoch 39/100\n",
            "3/3 [==============================] - 0s 85ms/step - loss: 0.0968 - accuracy: 0.9653 - val_loss: 0.1084 - val_accuracy: 0.9306\n",
            "Epoch 40/100\n",
            "3/3 [==============================] - 0s 86ms/step - loss: 0.1867 - accuracy: 0.9271 - val_loss: 0.0204 - val_accuracy: 1.0000\n",
            "Epoch 41/100\n",
            "3/3 [==============================] - 0s 81ms/step - loss: 0.1103 - accuracy: 0.9549 - val_loss: 0.0440 - val_accuracy: 0.9722\n",
            "Epoch 42/100\n",
            "3/3 [==============================] - 0s 82ms/step - loss: 0.0960 - accuracy: 0.9722 - val_loss: 0.2553 - val_accuracy: 0.8750\n",
            "Epoch 43/100\n",
            "3/3 [==============================] - 0s 82ms/step - loss: 0.1125 - accuracy: 0.9479 - val_loss: 0.0496 - val_accuracy: 0.9861\n",
            "Epoch 44/100\n",
            "3/3 [==============================] - 0s 86ms/step - loss: 0.1213 - accuracy: 0.9444 - val_loss: 0.0607 - val_accuracy: 0.9583\n",
            "Epoch 45/100\n",
            "3/3 [==============================] - 0s 82ms/step - loss: 0.0622 - accuracy: 0.9722 - val_loss: 0.0484 - val_accuracy: 0.9722\n",
            "Epoch 46/100\n",
            "3/3 [==============================] - 0s 81ms/step - loss: 0.0586 - accuracy: 0.9896 - val_loss: 0.0537 - val_accuracy: 0.9861\n",
            "Epoch 47/100\n",
            "3/3 [==============================] - 0s 88ms/step - loss: 0.0705 - accuracy: 0.9792 - val_loss: 0.0154 - val_accuracy: 1.0000\n",
            "Epoch 48/100\n",
            "3/3 [==============================] - 0s 84ms/step - loss: 0.0657 - accuracy: 0.9757 - val_loss: 0.0771 - val_accuracy: 0.9583\n",
            "Epoch 49/100\n",
            "3/3 [==============================] - 0s 86ms/step - loss: 0.0766 - accuracy: 0.9618 - val_loss: 0.1867 - val_accuracy: 0.9167\n",
            "Epoch 50/100\n",
            "3/3 [==============================] - 0s 84ms/step - loss: 0.0713 - accuracy: 0.9757 - val_loss: 0.0439 - val_accuracy: 0.9861\n",
            "Epoch 51/100\n",
            "3/3 [==============================] - 0s 80ms/step - loss: 0.1251 - accuracy: 0.9410 - val_loss: 0.1165 - val_accuracy: 0.9167\n",
            "Epoch 52/100\n",
            "3/3 [==============================] - 0s 81ms/step - loss: 0.0983 - accuracy: 0.9653 - val_loss: 0.0154 - val_accuracy: 1.0000\n",
            "Epoch 53/100\n",
            "3/3 [==============================] - 0s 83ms/step - loss: 0.0477 - accuracy: 0.9861 - val_loss: 0.1125 - val_accuracy: 0.9583\n",
            "Epoch 54/100\n",
            "3/3 [==============================] - 0s 88ms/step - loss: 0.0783 - accuracy: 0.9653 - val_loss: 0.0349 - val_accuracy: 0.9861\n",
            "Epoch 55/100\n",
            "3/3 [==============================] - 0s 81ms/step - loss: 0.0582 - accuracy: 0.9688 - val_loss: 0.0554 - val_accuracy: 0.9861\n",
            "Epoch 56/100\n",
            "3/3 [==============================] - 0s 82ms/step - loss: 0.1471 - accuracy: 0.9583 - val_loss: 0.0105 - val_accuracy: 1.0000\n",
            "Epoch 57/100\n",
            "3/3 [==============================] - 0s 84ms/step - loss: 0.0988 - accuracy: 0.9549 - val_loss: 0.0312 - val_accuracy: 0.9861\n",
            "Epoch 58/100\n",
            "3/3 [==============================] - 0s 83ms/step - loss: 0.0558 - accuracy: 0.9792 - val_loss: 0.0996 - val_accuracy: 0.9583\n",
            "Epoch 59/100\n",
            "3/3 [==============================] - 0s 84ms/step - loss: 0.0680 - accuracy: 0.9722 - val_loss: 0.0144 - val_accuracy: 1.0000\n",
            "Epoch 60/100\n",
            "3/3 [==============================] - 0s 83ms/step - loss: 0.0429 - accuracy: 0.9861 - val_loss: 0.0273 - val_accuracy: 1.0000\n",
            "Epoch 61/100\n",
            "3/3 [==============================] - 0s 81ms/step - loss: 0.0740 - accuracy: 0.9826 - val_loss: 0.0161 - val_accuracy: 1.0000\n",
            "Epoch 62/100\n",
            "3/3 [==============================] - 0s 84ms/step - loss: 0.0422 - accuracy: 0.9792 - val_loss: 0.0815 - val_accuracy: 0.9583\n",
            "Epoch 63/100\n",
            "3/3 [==============================] - 0s 81ms/step - loss: 0.0530 - accuracy: 0.9826 - val_loss: 0.0425 - val_accuracy: 0.9722\n",
            "Epoch 64/100\n",
            "3/3 [==============================] - 0s 83ms/step - loss: 0.0482 - accuracy: 0.9792 - val_loss: 0.0160 - val_accuracy: 1.0000\n",
            "Epoch 65/100\n",
            "3/3 [==============================] - 0s 84ms/step - loss: 0.0436 - accuracy: 0.9792 - val_loss: 0.0554 - val_accuracy: 0.9722\n",
            "Epoch 66/100\n",
            "3/3 [==============================] - 0s 84ms/step - loss: 0.0680 - accuracy: 0.9653 - val_loss: 0.0234 - val_accuracy: 0.9861\n",
            "Epoch 67/100\n",
            "3/3 [==============================] - 0s 86ms/step - loss: 0.0623 - accuracy: 0.9722 - val_loss: 0.0261 - val_accuracy: 1.0000\n",
            "Epoch 68/100\n",
            "3/3 [==============================] - 0s 81ms/step - loss: 0.0567 - accuracy: 0.9757 - val_loss: 0.0348 - val_accuracy: 0.9861\n",
            "Epoch 69/100\n",
            "3/3 [==============================] - 0s 81ms/step - loss: 0.0580 - accuracy: 0.9757 - val_loss: 0.0321 - val_accuracy: 0.9722\n",
            "Epoch 70/100\n",
            "3/3 [==============================] - 0s 82ms/step - loss: 0.0436 - accuracy: 0.9826 - val_loss: 0.0217 - val_accuracy: 1.0000\n",
            "Epoch 71/100\n",
            "3/3 [==============================] - 0s 86ms/step - loss: 0.0440 - accuracy: 0.9792 - val_loss: 0.0080 - val_accuracy: 1.0000\n",
            "Epoch 72/100\n",
            "3/3 [==============================] - 0s 87ms/step - loss: 0.0425 - accuracy: 0.9826 - val_loss: 0.0413 - val_accuracy: 0.9722\n",
            "Epoch 73/100\n",
            "3/3 [==============================] - 0s 82ms/step - loss: 0.0357 - accuracy: 0.9861 - val_loss: 0.0172 - val_accuracy: 1.0000\n",
            "Epoch 74/100\n",
            "3/3 [==============================] - 0s 83ms/step - loss: 0.0556 - accuracy: 0.9688 - val_loss: 0.1106 - val_accuracy: 0.9583\n",
            "Epoch 75/100\n",
            "3/3 [==============================] - 0s 85ms/step - loss: 0.0763 - accuracy: 0.9757 - val_loss: 0.0112 - val_accuracy: 1.0000\n",
            "Epoch 76/100\n",
            "3/3 [==============================] - 0s 83ms/step - loss: 0.0766 - accuracy: 0.9653 - val_loss: 0.0720 - val_accuracy: 0.9722\n",
            "Epoch 77/100\n",
            "3/3 [==============================] - 0s 82ms/step - loss: 0.0705 - accuracy: 0.9653 - val_loss: 0.0221 - val_accuracy: 0.9861\n",
            "Epoch 78/100\n",
            "3/3 [==============================] - 0s 83ms/step - loss: 0.0554 - accuracy: 0.9757 - val_loss: 0.0281 - val_accuracy: 0.9722\n",
            "Epoch 79/100\n",
            "3/3 [==============================] - 0s 82ms/step - loss: 0.0335 - accuracy: 0.9826 - val_loss: 0.0099 - val_accuracy: 1.0000\n",
            "Epoch 80/100\n",
            "3/3 [==============================] - 0s 87ms/step - loss: 0.0345 - accuracy: 0.9896 - val_loss: 0.0265 - val_accuracy: 0.9722\n",
            "Epoch 81/100\n",
            "3/3 [==============================] - 0s 82ms/step - loss: 0.0365 - accuracy: 0.9826 - val_loss: 0.0150 - val_accuracy: 1.0000\n",
            "Epoch 82/100\n",
            "3/3 [==============================] - 0s 85ms/step - loss: 0.0382 - accuracy: 0.9792 - val_loss: 0.0207 - val_accuracy: 1.0000\n",
            "Epoch 83/100\n",
            "3/3 [==============================] - 0s 83ms/step - loss: 0.0260 - accuracy: 0.9931 - val_loss: 0.0070 - val_accuracy: 1.0000\n",
            "Epoch 84/100\n",
            "3/3 [==============================] - 0s 85ms/step - loss: 0.0366 - accuracy: 0.9826 - val_loss: 0.0892 - val_accuracy: 0.9583\n",
            "Epoch 85/100\n",
            "3/3 [==============================] - 0s 84ms/step - loss: 0.0783 - accuracy: 0.9653 - val_loss: 0.0172 - val_accuracy: 0.9861\n",
            "Epoch 86/100\n",
            "3/3 [==============================] - 0s 83ms/step - loss: 0.0573 - accuracy: 0.9722 - val_loss: 0.0120 - val_accuracy: 1.0000\n",
            "Epoch 87/100\n",
            "3/3 [==============================] - 0s 84ms/step - loss: 0.0244 - accuracy: 0.9896 - val_loss: 0.0100 - val_accuracy: 1.0000\n",
            "Epoch 88/100\n",
            "3/3 [==============================] - 0s 84ms/step - loss: 0.0286 - accuracy: 0.9792 - val_loss: 0.0104 - val_accuracy: 1.0000\n",
            "Epoch 89/100\n",
            "3/3 [==============================] - 0s 82ms/step - loss: 0.0331 - accuracy: 0.9931 - val_loss: 0.0905 - val_accuracy: 0.9722\n",
            "Epoch 90/100\n",
            "3/3 [==============================] - 0s 87ms/step - loss: 0.1054 - accuracy: 0.9688 - val_loss: 0.0100 - val_accuracy: 1.0000\n",
            "Epoch 91/100\n",
            "3/3 [==============================] - 0s 83ms/step - loss: 0.0428 - accuracy: 0.9861 - val_loss: 0.0267 - val_accuracy: 0.9861\n",
            "Epoch 92/100\n",
            "3/3 [==============================] - 0s 84ms/step - loss: 0.0697 - accuracy: 0.9826 - val_loss: 0.0057 - val_accuracy: 1.0000\n",
            "Epoch 93/100\n",
            "3/3 [==============================] - 0s 83ms/step - loss: 0.1026 - accuracy: 0.9549 - val_loss: 0.0218 - val_accuracy: 1.0000\n",
            "Epoch 94/100\n",
            "3/3 [==============================] - 0s 81ms/step - loss: 0.0349 - accuracy: 0.9931 - val_loss: 0.1059 - val_accuracy: 0.9583\n",
            "Epoch 95/100\n",
            "3/3 [==============================] - 0s 81ms/step - loss: 0.0350 - accuracy: 0.9826 - val_loss: 0.0068 - val_accuracy: 1.0000\n",
            "Epoch 96/100\n",
            "3/3 [==============================] - 0s 85ms/step - loss: 0.0588 - accuracy: 0.9792 - val_loss: 0.0821 - val_accuracy: 0.9722\n",
            "Epoch 97/100\n",
            "3/3 [==============================] - 0s 82ms/step - loss: 0.0899 - accuracy: 0.9792 - val_loss: 0.0181 - val_accuracy: 1.0000\n",
            "Epoch 98/100\n",
            "3/3 [==============================] - 0s 85ms/step - loss: 0.0643 - accuracy: 0.9757 - val_loss: 0.0809 - val_accuracy: 0.9722\n",
            "Epoch 99/100\n",
            "3/3 [==============================] - 0s 89ms/step - loss: 0.0895 - accuracy: 0.9688 - val_loss: 0.0076 - val_accuracy: 1.0000\n",
            "Epoch 100/100\n",
            "3/3 [==============================] - 0s 83ms/step - loss: 0.1629 - accuracy: 0.9444 - val_loss: 0.0345 - val_accuracy: 1.0000\n"
          ],
          "name": "stdout"
        }
      ]
    },
    {
      "cell_type": "code",
      "metadata": {
        "id": "biKVFz90FnmN",
        "outputId": "2cda1fa1-56df-44bc-daa0-5758dcdc6c5d",
        "colab": {
          "base_uri": "https://localhost:8080/"
        }
      },
      "source": [
        "model.evaluate(X_test,y_test)"
      ],
      "execution_count": 50,
      "outputs": [
        {
          "output_type": "stream",
          "text": [
            "3/3 [==============================] - 0s 9ms/step - loss: 0.0314 - accuracy: 0.9889\n"
          ],
          "name": "stdout"
        },
        {
          "output_type": "execute_result",
          "data": {
            "text/plain": [
              "[0.03142727538943291, 0.9888888597488403]"
            ]
          },
          "metadata": {
            "tags": []
          },
          "execution_count": 50
        }
      ]
    },
    {
      "cell_type": "code",
      "metadata": {
        "id": "8qaQGLyNFxch",
        "outputId": "82e3cabb-0155-420c-e9b2-7b567fc53a69",
        "colab": {
          "base_uri": "https://localhost:8080/",
          "height": 573
        }
      },
      "source": [
        "import matplotlib.pyplot as plt\n",
        "# Plot training & validation accuracy values\n",
        "plt.plot(history1.history['accuracy'])\n",
        "plt.plot(history1.history['val_accuracy'])\n",
        "plt.title('Model accuracy')\n",
        "plt.ylabel('Accuracy')\n",
        "plt.xlabel('Epoch')\n",
        "plt.legend(['Train', 'Test'], loc='upper left')\n",
        "plt.show()\n",
        "\n",
        "# Plot training & validation loss values\n",
        "plt.plot(history1.history['loss'])\n",
        "plt.plot(history1.history['val_loss'])\n",
        "plt.title('Model loss')\n",
        "plt.ylabel('Loss')\n",
        "plt.xlabel('Epoch')\n",
        "plt.legend(['Train', 'Test'], loc='upper left')\n",
        "plt.show()"
      ],
      "execution_count": 51,
      "outputs": [
        {
          "output_type": "display_data",
          "data": {
            "image/png": "[encoded data removed]",
            "text/plain": [
              "<Figure size 432x288 with 1 Axes>"
            ]
          },
          "metadata": {
            "tags": [],
            "needs_background": "light"
          }
        },
        {
          "output_type": "display_data",
          "data": {
            "image/png": "[encoded data removed]",
            "text/plain": [
              "<Figure size 432x288 with 1 Axes>"
            ]
          },
          "metadata": {
            "tags": [],
            "needs_background": "light"
          }
        }
      ]
    },
    {
      "cell_type": "code",
      "metadata": {
        "id": "-XaCuLbKF1m7"
      },
      "source": [
        ""
      ],
      "execution_count": null,
      "outputs": []
    }
  ]
}