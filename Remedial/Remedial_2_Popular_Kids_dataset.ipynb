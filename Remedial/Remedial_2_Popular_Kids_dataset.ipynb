{
  "nbformat": 4,
  "nbformat_minor": 0,
  "metadata": {
    "colab": {
      "name": "Remedial_2_Popular_Kids_dataset.ipynb",
      "provenance": [],
      "collapsed_sections": []
    },
    "kernelspec": {
      "name": "python3",
      "display_name": "Python 3"
    }
  },
  "cells": [
    {
      "cell_type": "code",
      "metadata": {
        "id": "1pwFe1Di8b4N"
      },
      "source": [
        "import pandas as pd\n",
        "import numpy as np"
      ],
      "execution_count": 1,
      "outputs": []
    },
    {
      "cell_type": "code",
      "metadata": {
        "id": "VfWKhjiFCGKR"
      },
      "source": [
        "path='https://raw.githubusercontent.com/pranavkotak8/Datasets/master/PopularKids.csv'\n",
        "df1=pd.read_csv(path)"
      ],
      "execution_count": 2,
      "outputs": []
    },
    {
      "cell_type": "code",
      "metadata": {
        "id": "RYZ_G8UCCObH",
        "outputId": "88e04d1f-091b-417b-b468-c38fbc952a6b",
        "colab": {
          "base_uri": "https://localhost:8080/",
          "height": 399
        }
      },
      "source": [
        "df1"
      ],
      "execution_count": 3,
      "outputs": [
        {
          "output_type": "execute_result",
          "data": {
            "text/html": [
              "<div>\n",
              "<style scoped>\n",
              "    .dataframe tbody tr th:only-of-type {\n",
              "        vertical-align: middle;\n",
              "    }\n",
              "\n",
              "    .dataframe tbody tr th {\n",
              "        vertical-align: top;\n",
              "    }\n",
              "\n",
              "    .dataframe thead th {\n",
              "        text-align: right;\n",
              "    }\n",
              "</style>\n",
              "<table border=\"1\" class=\"dataframe\">\n",
              "  <thead>\n",
              "    <tr style=\"text-align: right;\">\n",
              "      <th></th>\n",
              "      <th>Gender</th>\n",
              "      <th>Grade</th>\n",
              "      <th>Age</th>\n",
              "      <th>Race</th>\n",
              "      <th>Urban/Rural</th>\n",
              "      <th>School</th>\n",
              "      <th>Goals</th>\n",
              "      <th>Grades</th>\n",
              "      <th>Sports</th>\n",
              "      <th>Looks</th>\n",
              "      <th>Money</th>\n",
              "    </tr>\n",
              "  </thead>\n",
              "  <tbody>\n",
              "    <tr>\n",
              "      <th>0</th>\n",
              "      <td>'boy'</td>\n",
              "      <td>5</td>\n",
              "      <td>11</td>\n",
              "      <td>'White'</td>\n",
              "      <td>'Rural'</td>\n",
              "      <td>'Elm'</td>\n",
              "      <td>'Sports'</td>\n",
              "      <td>1</td>\n",
              "      <td>2</td>\n",
              "      <td>4</td>\n",
              "      <td>3</td>\n",
              "    </tr>\n",
              "    <tr>\n",
              "      <th>1</th>\n",
              "      <td>'boy'</td>\n",
              "      <td>5</td>\n",
              "      <td>10</td>\n",
              "      <td>'White'</td>\n",
              "      <td>'Rural'</td>\n",
              "      <td>'Elm'</td>\n",
              "      <td>'Popular'</td>\n",
              "      <td>2</td>\n",
              "      <td>1</td>\n",
              "      <td>4</td>\n",
              "      <td>3</td>\n",
              "    </tr>\n",
              "    <tr>\n",
              "      <th>2</th>\n",
              "      <td>'girl'</td>\n",
              "      <td>5</td>\n",
              "      <td>11</td>\n",
              "      <td>'White'</td>\n",
              "      <td>'Rural'</td>\n",
              "      <td>'Elm'</td>\n",
              "      <td>'Popular'</td>\n",
              "      <td>4</td>\n",
              "      <td>3</td>\n",
              "      <td>1</td>\n",
              "      <td>2</td>\n",
              "    </tr>\n",
              "    <tr>\n",
              "      <th>3</th>\n",
              "      <td>'girl'</td>\n",
              "      <td>5</td>\n",
              "      <td>11</td>\n",
              "      <td>'White'</td>\n",
              "      <td>'Rural'</td>\n",
              "      <td>'Elm'</td>\n",
              "      <td>'Popular'</td>\n",
              "      <td>2</td>\n",
              "      <td>3</td>\n",
              "      <td>4</td>\n",
              "      <td>1</td>\n",
              "    </tr>\n",
              "    <tr>\n",
              "      <th>4</th>\n",
              "      <td>'girl'</td>\n",
              "      <td>5</td>\n",
              "      <td>10</td>\n",
              "      <td>'White'</td>\n",
              "      <td>'Rural'</td>\n",
              "      <td>'Elm'</td>\n",
              "      <td>'Popular'</td>\n",
              "      <td>4</td>\n",
              "      <td>2</td>\n",
              "      <td>1</td>\n",
              "      <td>3</td>\n",
              "    </tr>\n",
              "    <tr>\n",
              "      <th>...</th>\n",
              "      <td>...</td>\n",
              "      <td>...</td>\n",
              "      <td>...</td>\n",
              "      <td>...</td>\n",
              "      <td>...</td>\n",
              "      <td>...</td>\n",
              "      <td>...</td>\n",
              "      <td>...</td>\n",
              "      <td>...</td>\n",
              "      <td>...</td>\n",
              "      <td>...</td>\n",
              "    </tr>\n",
              "    <tr>\n",
              "      <th>473</th>\n",
              "      <td>'boy'</td>\n",
              "      <td>6</td>\n",
              "      <td>11</td>\n",
              "      <td>'White'</td>\n",
              "      <td>'Urban'</td>\n",
              "      <td>'Westdale Middle'</td>\n",
              "      <td>'Grades'</td>\n",
              "      <td>4</td>\n",
              "      <td>1</td>\n",
              "      <td>2</td>\n",
              "      <td>3</td>\n",
              "    </tr>\n",
              "    <tr>\n",
              "      <th>474</th>\n",
              "      <td>'boy'</td>\n",
              "      <td>6</td>\n",
              "      <td>11</td>\n",
              "      <td>'White'</td>\n",
              "      <td>'Urban'</td>\n",
              "      <td>'Westdale Middle'</td>\n",
              "      <td>'Sports'</td>\n",
              "      <td>4</td>\n",
              "      <td>1</td>\n",
              "      <td>2</td>\n",
              "      <td>3</td>\n",
              "    </tr>\n",
              "    <tr>\n",
              "      <th>475</th>\n",
              "      <td>'boy'</td>\n",
              "      <td>6</td>\n",
              "      <td>11</td>\n",
              "      <td>'White'</td>\n",
              "      <td>'Urban'</td>\n",
              "      <td>'Westdale Middle'</td>\n",
              "      <td>'Grades'</td>\n",
              "      <td>4</td>\n",
              "      <td>2</td>\n",
              "      <td>1</td>\n",
              "      <td>3</td>\n",
              "    </tr>\n",
              "    <tr>\n",
              "      <th>476</th>\n",
              "      <td>'boy'</td>\n",
              "      <td>6</td>\n",
              "      <td>11</td>\n",
              "      <td>'White'</td>\n",
              "      <td>'Urban'</td>\n",
              "      <td>'Westdale Middle'</td>\n",
              "      <td>'Popular'</td>\n",
              "      <td>4</td>\n",
              "      <td>1</td>\n",
              "      <td>3</td>\n",
              "      <td>2</td>\n",
              "    </tr>\n",
              "    <tr>\n",
              "      <th>477</th>\n",
              "      <td>'boy'</td>\n",
              "      <td>6</td>\n",
              "      <td>11</td>\n",
              "      <td>'White'</td>\n",
              "      <td>'Urban'</td>\n",
              "      <td>'Westdale Middle'</td>\n",
              "      <td>'Popular'</td>\n",
              "      <td>4</td>\n",
              "      <td>1</td>\n",
              "      <td>2</td>\n",
              "      <td>3</td>\n",
              "    </tr>\n",
              "  </tbody>\n",
              "</table>\n",
              "<p>478 rows × 11 columns</p>\n",
              "</div>"
            ],
            "text/plain": [
              "     Gender  Grade  Age     Race  ... Grades Sports Looks  Money\n",
              "0     'boy'      5   11  'White'  ...      1      2     4      3\n",
              "1     'boy'      5   10  'White'  ...      2      1     4      3\n",
              "2    'girl'      5   11  'White'  ...      4      3     1      2\n",
              "3    'girl'      5   11  'White'  ...      2      3     4      1\n",
              "4    'girl'      5   10  'White'  ...      4      2     1      3\n",
              "..      ...    ...  ...      ...  ...    ...    ...   ...    ...\n",
              "473   'boy'      6   11  'White'  ...      4      1     2      3\n",
              "474   'boy'      6   11  'White'  ...      4      1     2      3\n",
              "475   'boy'      6   11  'White'  ...      4      2     1      3\n",
              "476   'boy'      6   11  'White'  ...      4      1     3      2\n",
              "477   'boy'      6   11  'White'  ...      4      1     2      3\n",
              "\n",
              "[478 rows x 11 columns]"
            ]
          },
          "metadata": {
            "tags": []
          },
          "execution_count": 3
        }
      ]
    },
    {
      "cell_type": "code",
      "metadata": {
        "id": "ib2NRfnXCPGt",
        "outputId": "6a934818-15d0-40bc-c4f7-ff56bf3309a7",
        "colab": {
          "base_uri": "https://localhost:8080/"
        }
      },
      "source": [
        "# Finding the Missing Values\n",
        "df1.isna().sum()/len(df1)"
      ],
      "execution_count": 4,
      "outputs": [
        {
          "output_type": "execute_result",
          "data": {
            "text/plain": [
              "Gender         0.0\n",
              "Grade          0.0\n",
              "Age            0.0\n",
              "Race           0.0\n",
              "Urban/Rural    0.0\n",
              "School         0.0\n",
              "Goals          0.0\n",
              "Grades         0.0\n",
              "Sports         0.0\n",
              "Looks          0.0\n",
              "Money          0.0\n",
              "dtype: float64"
            ]
          },
          "metadata": {
            "tags": []
          },
          "execution_count": 4
        }
      ]
    },
    {
      "cell_type": "code",
      "metadata": {
        "id": "zDokCQQoCVEv",
        "outputId": "1c627976-90f4-44d9-8d8e-4a7e805a196a",
        "colab": {
          "base_uri": "https://localhost:8080/"
        }
      },
      "source": [
        "df1.info()"
      ],
      "execution_count": 5,
      "outputs": [
        {
          "output_type": "stream",
          "text": [
            "<class 'pandas.core.frame.DataFrame'>\n",
            "RangeIndex: 478 entries, 0 to 477\n",
            "Data columns (total 11 columns):\n",
            " #   Column       Non-Null Count  Dtype \n",
            "---  ------       --------------  ----- \n",
            " 0   Gender       478 non-null    object\n",
            " 1   Grade        478 non-null    int64 \n",
            " 2   Age          478 non-null    int64 \n",
            " 3   Race         478 non-null    object\n",
            " 4   Urban/Rural  478 non-null    object\n",
            " 5   School       478 non-null    object\n",
            " 6   Goals        478 non-null    object\n",
            " 7   Grades       478 non-null    int64 \n",
            " 8   Sports       478 non-null    int64 \n",
            " 9   Looks        478 non-null    int64 \n",
            " 10  Money        478 non-null    int64 \n",
            "dtypes: int64(6), object(5)\n",
            "memory usage: 41.2+ KB\n"
          ],
          "name": "stdout"
        }
      ]
    },
    {
      "cell_type": "code",
      "metadata": {
        "id": "JtjE6i7OCaHp",
        "outputId": "53e2134a-4b0d-45f8-9f41-50c075762846",
        "colab": {
          "base_uri": "https://localhost:8080/",
          "height": 335
        }
      },
      "source": [
        "# Lets check out the Target Column\n",
        "import seaborn as sns\n",
        "import matplotlib.pyplot as plt\n",
        "%matplotlib inline\n",
        "sns.countplot(df1['Goals'])\n",
        "plt.show()"
      ],
      "execution_count": 6,
      "outputs": [
        {
          "output_type": "stream",
          "text": [
            "/usr/local/lib/python3.6/dist-packages/seaborn/_decorators.py:43: FutureWarning: Pass the following variable as a keyword arg: x. From version 0.12, the only valid positional argument will be `data`, and passing other arguments without an explicit keyword will result in an error or misinterpretation.\n",
            "  FutureWarning\n"
          ],
          "name": "stderr"
        },
        {
          "output_type": "display_data",
          "data": {
            "image/png": "[encoded data removed]",
            "text/plain": [
              "<Figure size 432x288 with 1 Axes>"
            ]
          },
          "metadata": {
            "tags": [],
            "needs_background": "light"
          }
        }
      ]
    },
    {
      "cell_type": "code",
      "metadata": {
        "id": "K-YLL92FDBe0"
      },
      "source": [
        "target=df1['Goals']"
      ],
      "execution_count": 9,
      "outputs": []
    },
    {
      "cell_type": "code",
      "metadata": {
        "id": "T-t6BatGDFyC"
      },
      "source": [
        "df1.drop(columns={'Goals'},inplace=True)"
      ],
      "execution_count": 10,
      "outputs": []
    },
    {
      "cell_type": "code",
      "metadata": {
        "id": "XzrnzScCCw5U"
      },
      "source": [
        "# Label Encoding the Categorical Columns\n",
        "df_final=pd.get_dummies(df1)"
      ],
      "execution_count": 11,
      "outputs": []
    },
    {
      "cell_type": "code",
      "metadata": {
        "id": "lubSuDCEC6hd",
        "outputId": "5ce064e1-9a06-4f40-db97-680e2739d0f5",
        "colab": {
          "base_uri": "https://localhost:8080/",
          "height": 436
        }
      },
      "source": [
        "df_final"
      ],
      "execution_count": 12,
      "outputs": [
        {
          "output_type": "execute_result",
          "data": {
            "text/html": [
              "<div>\n",
              "<style scoped>\n",
              "    .dataframe tbody tr th:only-of-type {\n",
              "        vertical-align: middle;\n",
              "    }\n",
              "\n",
              "    .dataframe tbody tr th {\n",
              "        vertical-align: top;\n",
              "    }\n",
              "\n",
              "    .dataframe thead th {\n",
              "        text-align: right;\n",
              "    }\n",
              "</style>\n",
              "<table border=\"1\" class=\"dataframe\">\n",
              "  <thead>\n",
              "    <tr style=\"text-align: right;\">\n",
              "      <th></th>\n",
              "      <th>Grade</th>\n",
              "      <th>Age</th>\n",
              "      <th>Grades</th>\n",
              "      <th>Sports</th>\n",
              "      <th>Looks</th>\n",
              "      <th>Money</th>\n",
              "      <th>Gender_'boy'</th>\n",
              "      <th>Gender_'girl'</th>\n",
              "      <th>Race_'Other'</th>\n",
              "      <th>Race_'White'</th>\n",
              "      <th>Urban/Rural_'Rural'</th>\n",
              "      <th>Urban/Rural_'Suburban'</th>\n",
              "      <th>Urban/Rural_'Urban'</th>\n",
              "      <th>School_'Brentwood Elementary'</th>\n",
              "      <th>School_'Brentwood Middle'</th>\n",
              "      <th>School_'Brown Middle'</th>\n",
              "      <th>School_'Elm'</th>\n",
              "      <th>School_'Main'</th>\n",
              "      <th>School_'Portage'</th>\n",
              "      <th>School_'Ridge'</th>\n",
              "      <th>School_'Sand'</th>\n",
              "      <th>School_'Westdale Middle'</th>\n",
              "    </tr>\n",
              "  </thead>\n",
              "  <tbody>\n",
              "    <tr>\n",
              "      <th>0</th>\n",
              "      <td>5</td>\n",
              "      <td>11</td>\n",
              "      <td>1</td>\n",
              "      <td>2</td>\n",
              "      <td>4</td>\n",
              "      <td>3</td>\n",
              "      <td>1</td>\n",
              "      <td>0</td>\n",
              "      <td>0</td>\n",
              "      <td>1</td>\n",
              "      <td>1</td>\n",
              "      <td>0</td>\n",
              "      <td>0</td>\n",
              "      <td>0</td>\n",
              "      <td>0</td>\n",
              "      <td>0</td>\n",
              "      <td>1</td>\n",
              "      <td>0</td>\n",
              "      <td>0</td>\n",
              "      <td>0</td>\n",
              "      <td>0</td>\n",
              "      <td>0</td>\n",
              "    </tr>\n",
              "    <tr>\n",
              "      <th>1</th>\n",
              "      <td>5</td>\n",
              "      <td>10</td>\n",
              "      <td>2</td>\n",
              "      <td>1</td>\n",
              "      <td>4</td>\n",
              "      <td>3</td>\n",
              "      <td>1</td>\n",
              "      <td>0</td>\n",
              "      <td>0</td>\n",
              "      <td>1</td>\n",
              "      <td>1</td>\n",
              "      <td>0</td>\n",
              "      <td>0</td>\n",
              "      <td>0</td>\n",
              "      <td>0</td>\n",
              "      <td>0</td>\n",
              "      <td>1</td>\n",
              "      <td>0</td>\n",
              "      <td>0</td>\n",
              "      <td>0</td>\n",
              "      <td>0</td>\n",
              "      <td>0</td>\n",
              "    </tr>\n",
              "    <tr>\n",
              "      <th>2</th>\n",
              "      <td>5</td>\n",
              "      <td>11</td>\n",
              "      <td>4</td>\n",
              "      <td>3</td>\n",
              "      <td>1</td>\n",
              "      <td>2</td>\n",
              "      <td>0</td>\n",
              "      <td>1</td>\n",
              "      <td>0</td>\n",
              "      <td>1</td>\n",
              "      <td>1</td>\n",
              "      <td>0</td>\n",
              "      <td>0</td>\n",
              "      <td>0</td>\n",
              "      <td>0</td>\n",
              "      <td>0</td>\n",
              "      <td>1</td>\n",
              "      <td>0</td>\n",
              "      <td>0</td>\n",
              "      <td>0</td>\n",
              "      <td>0</td>\n",
              "      <td>0</td>\n",
              "    </tr>\n",
              "    <tr>\n",
              "      <th>3</th>\n",
              "      <td>5</td>\n",
              "      <td>11</td>\n",
              "      <td>2</td>\n",
              "      <td>3</td>\n",
              "      <td>4</td>\n",
              "      <td>1</td>\n",
              "      <td>0</td>\n",
              "      <td>1</td>\n",
              "      <td>0</td>\n",
              "      <td>1</td>\n",
              "      <td>1</td>\n",
              "      <td>0</td>\n",
              "      <td>0</td>\n",
              "      <td>0</td>\n",
              "      <td>0</td>\n",
              "      <td>0</td>\n",
              "      <td>1</td>\n",
              "      <td>0</td>\n",
              "      <td>0</td>\n",
              "      <td>0</td>\n",
              "      <td>0</td>\n",
              "      <td>0</td>\n",
              "    </tr>\n",
              "    <tr>\n",
              "      <th>4</th>\n",
              "      <td>5</td>\n",
              "      <td>10</td>\n",
              "      <td>4</td>\n",
              "      <td>2</td>\n",
              "      <td>1</td>\n",
              "      <td>3</td>\n",
              "      <td>0</td>\n",
              "      <td>1</td>\n",
              "      <td>0</td>\n",
              "      <td>1</td>\n",
              "      <td>1</td>\n",
              "      <td>0</td>\n",
              "      <td>0</td>\n",
              "      <td>0</td>\n",
              "      <td>0</td>\n",
              "      <td>0</td>\n",
              "      <td>1</td>\n",
              "      <td>0</td>\n",
              "      <td>0</td>\n",
              "      <td>0</td>\n",
              "      <td>0</td>\n",
              "      <td>0</td>\n",
              "    </tr>\n",
              "    <tr>\n",
              "      <th>...</th>\n",
              "      <td>...</td>\n",
              "      <td>...</td>\n",
              "      <td>...</td>\n",
              "      <td>...</td>\n",
              "      <td>...</td>\n",
              "      <td>...</td>\n",
              "      <td>...</td>\n",
              "      <td>...</td>\n",
              "      <td>...</td>\n",
              "      <td>...</td>\n",
              "      <td>...</td>\n",
              "      <td>...</td>\n",
              "      <td>...</td>\n",
              "      <td>...</td>\n",
              "      <td>...</td>\n",
              "      <td>...</td>\n",
              "      <td>...</td>\n",
              "      <td>...</td>\n",
              "      <td>...</td>\n",
              "      <td>...</td>\n",
              "      <td>...</td>\n",
              "      <td>...</td>\n",
              "    </tr>\n",
              "    <tr>\n",
              "      <th>473</th>\n",
              "      <td>6</td>\n",
              "      <td>11</td>\n",
              "      <td>4</td>\n",
              "      <td>1</td>\n",
              "      <td>2</td>\n",
              "      <td>3</td>\n",
              "      <td>1</td>\n",
              "      <td>0</td>\n",
              "      <td>0</td>\n",
              "      <td>1</td>\n",
              "      <td>0</td>\n",
              "      <td>0</td>\n",
              "      <td>1</td>\n",
              "      <td>0</td>\n",
              "      <td>0</td>\n",
              "      <td>0</td>\n",
              "      <td>0</td>\n",
              "      <td>0</td>\n",
              "      <td>0</td>\n",
              "      <td>0</td>\n",
              "      <td>0</td>\n",
              "      <td>1</td>\n",
              "    </tr>\n",
              "    <tr>\n",
              "      <th>474</th>\n",
              "      <td>6</td>\n",
              "      <td>11</td>\n",
              "      <td>4</td>\n",
              "      <td>1</td>\n",
              "      <td>2</td>\n",
              "      <td>3</td>\n",
              "      <td>1</td>\n",
              "      <td>0</td>\n",
              "      <td>0</td>\n",
              "      <td>1</td>\n",
              "      <td>0</td>\n",
              "      <td>0</td>\n",
              "      <td>1</td>\n",
              "      <td>0</td>\n",
              "      <td>0</td>\n",
              "      <td>0</td>\n",
              "      <td>0</td>\n",
              "      <td>0</td>\n",
              "      <td>0</td>\n",
              "      <td>0</td>\n",
              "      <td>0</td>\n",
              "      <td>1</td>\n",
              "    </tr>\n",
              "    <tr>\n",
              "      <th>475</th>\n",
              "      <td>6</td>\n",
              "      <td>11</td>\n",
              "      <td>4</td>\n",
              "      <td>2</td>\n",
              "      <td>1</td>\n",
              "      <td>3</td>\n",
              "      <td>1</td>\n",
              "      <td>0</td>\n",
              "      <td>0</td>\n",
              "      <td>1</td>\n",
              "      <td>0</td>\n",
              "      <td>0</td>\n",
              "      <td>1</td>\n",
              "      <td>0</td>\n",
              "      <td>0</td>\n",
              "      <td>0</td>\n",
              "      <td>0</td>\n",
              "      <td>0</td>\n",
              "      <td>0</td>\n",
              "      <td>0</td>\n",
              "      <td>0</td>\n",
              "      <td>1</td>\n",
              "    </tr>\n",
              "    <tr>\n",
              "      <th>476</th>\n",
              "      <td>6</td>\n",
              "      <td>11</td>\n",
              "      <td>4</td>\n",
              "      <td>1</td>\n",
              "      <td>3</td>\n",
              "      <td>2</td>\n",
              "      <td>1</td>\n",
              "      <td>0</td>\n",
              "      <td>0</td>\n",
              "      <td>1</td>\n",
              "      <td>0</td>\n",
              "      <td>0</td>\n",
              "      <td>1</td>\n",
              "      <td>0</td>\n",
              "      <td>0</td>\n",
              "      <td>0</td>\n",
              "      <td>0</td>\n",
              "      <td>0</td>\n",
              "      <td>0</td>\n",
              "      <td>0</td>\n",
              "      <td>0</td>\n",
              "      <td>1</td>\n",
              "    </tr>\n",
              "    <tr>\n",
              "      <th>477</th>\n",
              "      <td>6</td>\n",
              "      <td>11</td>\n",
              "      <td>4</td>\n",
              "      <td>1</td>\n",
              "      <td>2</td>\n",
              "      <td>3</td>\n",
              "      <td>1</td>\n",
              "      <td>0</td>\n",
              "      <td>0</td>\n",
              "      <td>1</td>\n",
              "      <td>0</td>\n",
              "      <td>0</td>\n",
              "      <td>1</td>\n",
              "      <td>0</td>\n",
              "      <td>0</td>\n",
              "      <td>0</td>\n",
              "      <td>0</td>\n",
              "      <td>0</td>\n",
              "      <td>0</td>\n",
              "      <td>0</td>\n",
              "      <td>0</td>\n",
              "      <td>1</td>\n",
              "    </tr>\n",
              "  </tbody>\n",
              "</table>\n",
              "<p>478 rows × 22 columns</p>\n",
              "</div>"
            ],
            "text/plain": [
              "     Grade  Age  ...  School_'Sand'  School_'Westdale Middle'\n",
              "0        5   11  ...              0                         0\n",
              "1        5   10  ...              0                         0\n",
              "2        5   11  ...              0                         0\n",
              "3        5   11  ...              0                         0\n",
              "4        5   10  ...              0                         0\n",
              "..     ...  ...  ...            ...                       ...\n",
              "473      6   11  ...              0                         1\n",
              "474      6   11  ...              0                         1\n",
              "475      6   11  ...              0                         1\n",
              "476      6   11  ...              0                         1\n",
              "477      6   11  ...              0                         1\n",
              "\n",
              "[478 rows x 22 columns]"
            ]
          },
          "metadata": {
            "tags": []
          },
          "execution_count": 12
        }
      ]
    },
    {
      "cell_type": "code",
      "metadata": {
        "id": "ARTxgSzcC7qc",
        "outputId": "8e1210c2-cf7c-4220-c390-871a05adc2cb",
        "colab": {
          "base_uri": "https://localhost:8080/"
        }
      },
      "source": [
        "df_final.info()"
      ],
      "execution_count": 13,
      "outputs": [
        {
          "output_type": "stream",
          "text": [
            "<class 'pandas.core.frame.DataFrame'>\n",
            "RangeIndex: 478 entries, 0 to 477\n",
            "Data columns (total 22 columns):\n",
            " #   Column                         Non-Null Count  Dtype\n",
            "---  ------                         --------------  -----\n",
            " 0   Grade                          478 non-null    int64\n",
            " 1   Age                            478 non-null    int64\n",
            " 2   Grades                         478 non-null    int64\n",
            " 3   Sports                         478 non-null    int64\n",
            " 4   Looks                          478 non-null    int64\n",
            " 5   Money                          478 non-null    int64\n",
            " 6   Gender_'boy'                   478 non-null    uint8\n",
            " 7   Gender_'girl'                  478 non-null    uint8\n",
            " 8   Race_'Other'                   478 non-null    uint8\n",
            " 9   Race_'White'                   478 non-null    uint8\n",
            " 10  Urban/Rural_'Rural'            478 non-null    uint8\n",
            " 11  Urban/Rural_'Suburban'         478 non-null    uint8\n",
            " 12  Urban/Rural_'Urban'            478 non-null    uint8\n",
            " 13  School_'Brentwood Elementary'  478 non-null    uint8\n",
            " 14  School_'Brentwood Middle'      478 non-null    uint8\n",
            " 15  School_'Brown Middle'          478 non-null    uint8\n",
            " 16  School_'Elm'                   478 non-null    uint8\n",
            " 17  School_'Main'                  478 non-null    uint8\n",
            " 18  School_'Portage'               478 non-null    uint8\n",
            " 19  School_'Ridge'                 478 non-null    uint8\n",
            " 20  School_'Sand'                  478 non-null    uint8\n",
            " 21  School_'Westdale Middle'       478 non-null    uint8\n",
            "dtypes: int64(6), uint8(16)\n",
            "memory usage: 30.0 KB\n"
          ],
          "name": "stdout"
        }
      ]
    },
    {
      "cell_type": "code",
      "metadata": {
        "id": "8NKRSEuqDO4l"
      },
      "source": [
        "from sklearn import linear_model\n",
        "from sklearn.linear_model import LogisticRegression\n",
        "logistic=linear_model.LogisticRegression()\n",
        "sgd=linear_model.SGDClassifier()"
      ],
      "execution_count": 14,
      "outputs": []
    },
    {
      "cell_type": "code",
      "metadata": {
        "id": "iFDFO9IkEMzK"
      },
      "source": [
        "target=pd.DataFrame(target)"
      ],
      "execution_count": 25,
      "outputs": []
    },
    {
      "cell_type": "code",
      "metadata": {
        "id": "fGAme1CuD7Z-"
      },
      "source": [
        "target.replace(\"'Sports'\",1,inplace=True)\n",
        "target.replace(\"'Popular'\",2,inplace=True)\n",
        "target.replace(\"'Grades'\",3,inplace=True)"
      ],
      "execution_count": 32,
      "outputs": []
    },
    {
      "cell_type": "code",
      "metadata": {
        "id": "EuEtMF5bE1jS"
      },
      "source": [
        "target.replace(1,0,inplace=True)\n",
        "target.replace(2,1,inplace=True)\n",
        "target.replace(3,2,inplace=True)"
      ],
      "execution_count": 41,
      "outputs": []
    },
    {
      "cell_type": "code",
      "metadata": {
        "id": "gS6oPLu8EJGY",
        "outputId": "c4aae6fa-cdef-4762-a7f2-37582459e9e8",
        "colab": {
          "base_uri": "https://localhost:8080/",
          "height": 399
        }
      },
      "source": [
        "target"
      ],
      "execution_count": 42,
      "outputs": [
        {
          "output_type": "execute_result",
          "data": {
            "text/html": [
              "<div>\n",
              "<style scoped>\n",
              "    .dataframe tbody tr th:only-of-type {\n",
              "        vertical-align: middle;\n",
              "    }\n",
              "\n",
              "    .dataframe tbody tr th {\n",
              "        vertical-align: top;\n",
              "    }\n",
              "\n",
              "    .dataframe thead th {\n",
              "        text-align: right;\n",
              "    }\n",
              "</style>\n",
              "<table border=\"1\" class=\"dataframe\">\n",
              "  <thead>\n",
              "    <tr style=\"text-align: right;\">\n",
              "      <th></th>\n",
              "      <th>Goals</th>\n",
              "    </tr>\n",
              "  </thead>\n",
              "  <tbody>\n",
              "    <tr>\n",
              "      <th>0</th>\n",
              "      <td>0</td>\n",
              "    </tr>\n",
              "    <tr>\n",
              "      <th>1</th>\n",
              "      <td>1</td>\n",
              "    </tr>\n",
              "    <tr>\n",
              "      <th>2</th>\n",
              "      <td>1</td>\n",
              "    </tr>\n",
              "    <tr>\n",
              "      <th>3</th>\n",
              "      <td>1</td>\n",
              "    </tr>\n",
              "    <tr>\n",
              "      <th>4</th>\n",
              "      <td>1</td>\n",
              "    </tr>\n",
              "    <tr>\n",
              "      <th>...</th>\n",
              "      <td>...</td>\n",
              "    </tr>\n",
              "    <tr>\n",
              "      <th>473</th>\n",
              "      <td>2</td>\n",
              "    </tr>\n",
              "    <tr>\n",
              "      <th>474</th>\n",
              "      <td>0</td>\n",
              "    </tr>\n",
              "    <tr>\n",
              "      <th>475</th>\n",
              "      <td>2</td>\n",
              "    </tr>\n",
              "    <tr>\n",
              "      <th>476</th>\n",
              "      <td>1</td>\n",
              "    </tr>\n",
              "    <tr>\n",
              "      <th>477</th>\n",
              "      <td>1</td>\n",
              "    </tr>\n",
              "  </tbody>\n",
              "</table>\n",
              "<p>478 rows × 1 columns</p>\n",
              "</div>"
            ],
            "text/plain": [
              "     Goals\n",
              "0        0\n",
              "1        1\n",
              "2        1\n",
              "3        1\n",
              "4        1\n",
              "..     ...\n",
              "473      2\n",
              "474      0\n",
              "475      2\n",
              "476      1\n",
              "477      1\n",
              "\n",
              "[478 rows x 1 columns]"
            ]
          },
          "metadata": {
            "tags": []
          },
          "execution_count": 42
        }
      ]
    },
    {
      "cell_type": "code",
      "metadata": {
        "id": "u7_7QYPkDTa1"
      },
      "source": [
        "# Splitting into trainset and testset in the ratio 80:20\n",
        "seed=8\n",
        "from sklearn.model_selection import train_test_split\n",
        "X_train,X_test,y_train,y_test=train_test_split(df_final,target,test_size=0.2,random_state=seed)"
      ],
      "execution_count": 43,
      "outputs": []
    },
    {
      "cell_type": "code",
      "metadata": {
        "id": "yQ_ErhL8Dbvx",
        "outputId": "f5fdf7af-9fa1-4794-a4cd-52cb2f1ecd62",
        "colab": {
          "base_uri": "https://localhost:8080/"
        }
      },
      "source": [
        "from sklearn.model_selection import cross_val_score\n",
        "scores=cross_val_score(logistic,X_train,y_train,cv=5,scoring='accuracy')"
      ],
      "execution_count": 44,
      "outputs": [
        {
          "output_type": "stream",
          "text": [
            "/usr/local/lib/python3.6/dist-packages/sklearn/utils/validation.py:760: DataConversionWarning: A column-vector y was passed when a 1d array was expected. Please change the shape of y to (n_samples, ), for example using ravel().\n",
            "  y = column_or_1d(y, warn=True)\n",
            "/usr/local/lib/python3.6/dist-packages/sklearn/linear_model/_logistic.py:940: ConvergenceWarning: lbfgs failed to converge (status=1):\n",
            "STOP: TOTAL NO. of ITERATIONS REACHED LIMIT.\n",
            "\n",
            "Increase the number of iterations (max_iter) or scale the data as shown in:\n",
            "    https://scikit-learn.org/stable/modules/preprocessing.html\n",
            "Please also refer to the documentation for alternative solver options:\n",
            "    https://scikit-learn.org/stable/modules/linear_model.html#logistic-regression\n",
            "  extra_warning_msg=_LOGISTIC_SOLVER_CONVERGENCE_MSG)\n",
            "/usr/local/lib/python3.6/dist-packages/sklearn/utils/validation.py:760: DataConversionWarning: A column-vector y was passed when a 1d array was expected. Please change the shape of y to (n_samples, ), for example using ravel().\n",
            "  y = column_or_1d(y, warn=True)\n",
            "/usr/local/lib/python3.6/dist-packages/sklearn/linear_model/_logistic.py:940: ConvergenceWarning: lbfgs failed to converge (status=1):\n",
            "STOP: TOTAL NO. of ITERATIONS REACHED LIMIT.\n",
            "\n",
            "Increase the number of iterations (max_iter) or scale the data as shown in:\n",
            "    https://scikit-learn.org/stable/modules/preprocessing.html\n",
            "Please also refer to the documentation for alternative solver options:\n",
            "    https://scikit-learn.org/stable/modules/linear_model.html#logistic-regression\n",
            "  extra_warning_msg=_LOGISTIC_SOLVER_CONVERGENCE_MSG)\n",
            "/usr/local/lib/python3.6/dist-packages/sklearn/utils/validation.py:760: DataConversionWarning: A column-vector y was passed when a 1d array was expected. Please change the shape of y to (n_samples, ), for example using ravel().\n",
            "  y = column_or_1d(y, warn=True)\n",
            "/usr/local/lib/python3.6/dist-packages/sklearn/linear_model/_logistic.py:940: ConvergenceWarning: lbfgs failed to converge (status=1):\n",
            "STOP: TOTAL NO. of ITERATIONS REACHED LIMIT.\n",
            "\n",
            "Increase the number of iterations (max_iter) or scale the data as shown in:\n",
            "    https://scikit-learn.org/stable/modules/preprocessing.html\n",
            "Please also refer to the documentation for alternative solver options:\n",
            "    https://scikit-learn.org/stable/modules/linear_model.html#logistic-regression\n",
            "  extra_warning_msg=_LOGISTIC_SOLVER_CONVERGENCE_MSG)\n",
            "/usr/local/lib/python3.6/dist-packages/sklearn/utils/validation.py:760: DataConversionWarning: A column-vector y was passed when a 1d array was expected. Please change the shape of y to (n_samples, ), for example using ravel().\n",
            "  y = column_or_1d(y, warn=True)\n",
            "/usr/local/lib/python3.6/dist-packages/sklearn/linear_model/_logistic.py:940: ConvergenceWarning: lbfgs failed to converge (status=1):\n",
            "STOP: TOTAL NO. of ITERATIONS REACHED LIMIT.\n",
            "\n",
            "Increase the number of iterations (max_iter) or scale the data as shown in:\n",
            "    https://scikit-learn.org/stable/modules/preprocessing.html\n",
            "Please also refer to the documentation for alternative solver options:\n",
            "    https://scikit-learn.org/stable/modules/linear_model.html#logistic-regression\n",
            "  extra_warning_msg=_LOGISTIC_SOLVER_CONVERGENCE_MSG)\n",
            "/usr/local/lib/python3.6/dist-packages/sklearn/utils/validation.py:760: DataConversionWarning: A column-vector y was passed when a 1d array was expected. Please change the shape of y to (n_samples, ), for example using ravel().\n",
            "  y = column_or_1d(y, warn=True)\n",
            "/usr/local/lib/python3.6/dist-packages/sklearn/linear_model/_logistic.py:940: ConvergenceWarning: lbfgs failed to converge (status=1):\n",
            "STOP: TOTAL NO. of ITERATIONS REACHED LIMIT.\n",
            "\n",
            "Increase the number of iterations (max_iter) or scale the data as shown in:\n",
            "    https://scikit-learn.org/stable/modules/preprocessing.html\n",
            "Please also refer to the documentation for alternative solver options:\n",
            "    https://scikit-learn.org/stable/modules/linear_model.html#logistic-regression\n",
            "  extra_warning_msg=_LOGISTIC_SOLVER_CONVERGENCE_MSG)\n"
          ],
          "name": "stderr"
        }
      ]
    },
    {
      "cell_type": "code",
      "metadata": {
        "id": "lPfzH0t-Dfzb",
        "outputId": "a78d553d-b27f-419c-bbaf-ba7414eebdf4",
        "colab": {
          "base_uri": "https://localhost:8080/"
        }
      },
      "source": [
        "np.mean(scores)"
      ],
      "execution_count": 45,
      "outputs": [
        {
          "output_type": "execute_result",
          "data": {
            "text/plain": [
              "0.5391660970608338"
            ]
          },
          "metadata": {
            "tags": []
          },
          "execution_count": 45
        }
      ]
    },
    {
      "cell_type": "code",
      "metadata": {
        "id": "75i-ZnlWDid8",
        "outputId": "6bf52528-4a5d-4a2c-fa1f-d7f17eea4dad",
        "colab": {
          "base_uri": "https://localhost:8080/"
        }
      },
      "source": [
        "scores_sgd=cross_val_score(sgd,X_train,y_train,cv=5,scoring='accuracy')"
      ],
      "execution_count": 46,
      "outputs": [
        {
          "output_type": "stream",
          "text": [
            "/usr/local/lib/python3.6/dist-packages/sklearn/utils/validation.py:760: DataConversionWarning: A column-vector y was passed when a 1d array was expected. Please change the shape of y to (n_samples, ), for example using ravel().\n",
            "  y = column_or_1d(y, warn=True)\n",
            "/usr/local/lib/python3.6/dist-packages/sklearn/utils/validation.py:760: DataConversionWarning: A column-vector y was passed when a 1d array was expected. Please change the shape of y to (n_samples, ), for example using ravel().\n",
            "  y = column_or_1d(y, warn=True)\n",
            "/usr/local/lib/python3.6/dist-packages/sklearn/utils/validation.py:760: DataConversionWarning: A column-vector y was passed when a 1d array was expected. Please change the shape of y to (n_samples, ), for example using ravel().\n",
            "  y = column_or_1d(y, warn=True)\n",
            "/usr/local/lib/python3.6/dist-packages/sklearn/utils/validation.py:760: DataConversionWarning: A column-vector y was passed when a 1d array was expected. Please change the shape of y to (n_samples, ), for example using ravel().\n",
            "  y = column_or_1d(y, warn=True)\n",
            "/usr/local/lib/python3.6/dist-packages/sklearn/utils/validation.py:760: DataConversionWarning: A column-vector y was passed when a 1d array was expected. Please change the shape of y to (n_samples, ), for example using ravel().\n",
            "  y = column_or_1d(y, warn=True)\n"
          ],
          "name": "stderr"
        }
      ]
    },
    {
      "cell_type": "code",
      "metadata": {
        "id": "ZCvU4GGKDk6_",
        "outputId": "294d6b53-8018-4126-8e1c-f7ab36597063",
        "colab": {
          "base_uri": "https://localhost:8080/"
        }
      },
      "source": [
        "np.mean(scores_sgd)"
      ],
      "execution_count": 47,
      "outputs": [
        {
          "output_type": "execute_result",
          "data": {
            "text/plain": [
              "0.47611073137388915"
            ]
          },
          "metadata": {
            "tags": []
          },
          "execution_count": 47
        }
      ]
    },
    {
      "cell_type": "code",
      "metadata": {
        "id": "z4t3Wg9MDnxL"
      },
      "source": [
        "# GridSearch CV on Logistic Regression\n",
        "from sklearn.model_selection import GridSearchCV\n",
        "gscv_log=GridSearchCV(logistic, {\n",
        "                      'penalty': ['l1','l2','elasticnet'],\n",
        "                      'C': [0.1,0.5,0.25,0.8,0.9,0.95,1.5,2.3,5.5],\n",
        "                      'class_weight' : [{1:0.5, 0:0.5}, {1:0.4, 0:0.6}],\n",
        "                      'solver' : ['liblinear', 'saga']\n",
        "                      },cv=3,return_train_score=False,n_jobs=-1)"
      ],
      "execution_count": 48,
      "outputs": []
    },
    {
      "cell_type": "code",
      "metadata": {
        "id": "yFIpjxOfDuUF",
        "outputId": "34d571a7-3500-487e-8b71-597c3912fbf8",
        "colab": {
          "base_uri": "https://localhost:8080/"
        }
      },
      "source": [
        "gscv_log.fit(X_train,y_train)"
      ],
      "execution_count": 49,
      "outputs": [
        {
          "output_type": "stream",
          "text": [
            "/usr/local/lib/python3.6/dist-packages/sklearn/utils/validation.py:760: DataConversionWarning: A column-vector y was passed when a 1d array was expected. Please change the shape of y to (n_samples, ), for example using ravel().\n",
            "  y = column_or_1d(y, warn=True)\n",
            "/usr/local/lib/python3.6/dist-packages/sklearn/linear_model/_sag.py:330: ConvergenceWarning: The max_iter was reached which means the coef_ did not converge\n",
            "  \"the coef_ did not converge\", ConvergenceWarning)\n"
          ],
          "name": "stderr"
        },
        {
          "output_type": "execute_result",
          "data": {
            "text/plain": [
              "GridSearchCV(cv=3, error_score=nan,\n",
              "             estimator=LogisticRegression(C=1.0, class_weight=None, dual=False,\n",
              "                                          fit_intercept=True,\n",
              "                                          intercept_scaling=1, l1_ratio=None,\n",
              "                                          max_iter=100, multi_class='auto',\n",
              "                                          n_jobs=None, penalty='l2',\n",
              "                                          random_state=None, solver='lbfgs',\n",
              "                                          tol=0.0001, verbose=0,\n",
              "                                          warm_start=False),\n",
              "             iid='deprecated', n_jobs=-1,\n",
              "             param_grid={'C': [0.1, 0.5, 0.25, 0.8, 0.9, 0.95, 1.5, 2.3, 5.5],\n",
              "                         'class_weight': [{0: 0.5, 1: 0.5}, {0: 0.6, 1: 0.4}],\n",
              "                         'penalty': ['l1', 'l2', 'elasticnet'],\n",
              "                         'solver': ['liblinear', 'saga']},\n",
              "             pre_dispatch='2*n_jobs', refit=True, return_train_score=False,\n",
              "             scoring=None, verbose=0)"
            ]
          },
          "metadata": {
            "tags": []
          },
          "execution_count": 49
        }
      ]
    },
    {
      "cell_type": "code",
      "metadata": {
        "id": "lpL0kZOXDxq7",
        "outputId": "651d4506-3571-4e2c-9037-d2a2613e0f1d",
        "colab": {
          "base_uri": "https://localhost:8080/"
        }
      },
      "source": [
        "gscv_log.best_score_"
      ],
      "execution_count": 50,
      "outputs": [
        {
          "output_type": "execute_result",
          "data": {
            "text/plain": [
              "0.5497457349081364"
            ]
          },
          "metadata": {
            "tags": []
          },
          "execution_count": 50
        }
      ]
    },
    {
      "cell_type": "code",
      "metadata": {
        "id": "R2x0v8brFELL",
        "outputId": "27efcae7-da86-4760-a70b-9625649447ee",
        "colab": {
          "base_uri": "https://localhost:8080/"
        }
      },
      "source": [
        "# Accuracy on the Test Set\n",
        "from sklearn.metrics import accuracy_score\n",
        "y_test_pred = gscv_log.predict(X_test)\n",
        "accuracy_test = accuracy_score(y_test, y_test_pred)\n",
        "print(\"Accuracy:\"+str(accuracy_test))"
      ],
      "execution_count": 51,
      "outputs": [
        {
          "output_type": "stream",
          "text": [
            "Accuracy:0.5\n"
          ],
          "name": "stdout"
        }
      ]
    },
    {
      "cell_type": "code",
      "metadata": {
        "id": "jCkanDfVFHY4",
        "outputId": "831c0536-8522-49c3-d5af-5f3d2a5d02ee",
        "colab": {
          "base_uri": "https://localhost:8080/"
        }
      },
      "source": [
        "# Performing Random Forest on the Dataset\n",
        "from sklearn.ensemble import RandomForestClassifier\n",
        "rf=RandomForestClassifier()\n",
        "rf.fit(X_train,y_train)"
      ],
      "execution_count": 52,
      "outputs": [
        {
          "output_type": "stream",
          "text": [
            "/usr/local/lib/python3.6/dist-packages/ipykernel_launcher.py:4: DataConversionWarning: A column-vector y was passed when a 1d array was expected. Please change the shape of y to (n_samples,), for example using ravel().\n",
            "  after removing the cwd from sys.path.\n"
          ],
          "name": "stderr"
        },
        {
          "output_type": "execute_result",
          "data": {
            "text/plain": [
              "RandomForestClassifier(bootstrap=True, ccp_alpha=0.0, class_weight=None,\n",
              "                       criterion='gini', max_depth=None, max_features='auto',\n",
              "                       max_leaf_nodes=None, max_samples=None,\n",
              "                       min_impurity_decrease=0.0, min_impurity_split=None,\n",
              "                       min_samples_leaf=1, min_samples_split=2,\n",
              "                       min_weight_fraction_leaf=0.0, n_estimators=100,\n",
              "                       n_jobs=None, oob_score=False, random_state=None,\n",
              "                       verbose=0, warm_start=False)"
            ]
          },
          "metadata": {
            "tags": []
          },
          "execution_count": 52
        }
      ]
    },
    {
      "cell_type": "code",
      "metadata": {
        "id": "dYI9RCnhFMOL",
        "outputId": "57cf1ae0-c875-44a2-f8e0-37daf1be9b59",
        "colab": {
          "base_uri": "https://localhost:8080/"
        }
      },
      "source": [
        "y_test_pred_rf = rf.predict(X_test)\n",
        "accuracy_test = accuracy_score(y_test, y_test_pred_rf)\n",
        "print(\"Accuracy:\"+str(accuracy_test))"
      ],
      "execution_count": 53,
      "outputs": [
        {
          "output_type": "stream",
          "text": [
            "Accuracy:0.4583333333333333\n"
          ],
          "name": "stdout"
        }
      ]
    },
    {
      "cell_type": "code",
      "metadata": {
        "id": "ymgRhZS7FPh7"
      },
      "source": [
        "# Performing Neural Networks on the Dataset\n",
        "# Importing the Necessary Libraries for Neural Networks\n",
        "from keras import Sequential\n",
        "from keras.layers import LeakyReLU\n",
        "from keras.layers import Dense\n",
        "import tensorflow\n",
        "from keras.utils import to_categorical"
      ],
      "execution_count": 54,
      "outputs": []
    },
    {
      "cell_type": "code",
      "metadata": {
        "id": "PFKZ_2KZFWf9"
      },
      "source": [
        "y_train=to_categorical(y_train)\n",
        "y_test=to_categorical(y_test)"
      ],
      "execution_count": 55,
      "outputs": []
    },
    {
      "cell_type": "code",
      "metadata": {
        "id": "zp170tR0FgZX",
        "outputId": "4e55ed44-48fc-44ef-d8e7-93e5947a703f",
        "colab": {
          "base_uri": "https://localhost:8080/"
        }
      },
      "source": [
        "X_train.shape"
      ],
      "execution_count": 56,
      "outputs": [
        {
          "output_type": "execute_result",
          "data": {
            "text/plain": [
              "(382, 22)"
            ]
          },
          "metadata": {
            "tags": []
          },
          "execution_count": 56
        }
      ]
    },
    {
      "cell_type": "code",
      "metadata": {
        "id": "PfMxghxeFaZZ",
        "outputId": "df555ec6-f830-4fad-b90d-fbe94a5786ec",
        "colab": {
          "base_uri": "https://localhost:8080/"
        }
      },
      "source": [
        "\n",
        "# Performing Neural Network on X_train and Y_train\n",
        "model=Sequential()\n",
        "model.add(Dense(units=580, activation='relu', input_dim=22))\n",
        "model.add(Dense(units=2800, activation='relu'))\n",
        "model.add(Dense(units=1041, activation='relu'))\n",
        "model.add(Dense(units=2041))\n",
        "model.add(LeakyReLU(alpha=0.05))\n",
        "model.add(Dense(units=3, activation='softmax'))\n",
        "model.compile(loss='categorical_crossentropy', optimizer='Adam', metrics=['accuracy'])\n",
        "history1=model.fit(X_train, y_train, epochs=100,validation_split=0.2, verbose=1,batch_size=128)"
      ],
      "execution_count": 57,
      "outputs": [
        {
          "output_type": "stream",
          "text": [
            "Epoch 1/100\n",
            "3/3 [==============================] - 0s 161ms/step - loss: 2.4022 - accuracy: 0.4885 - val_loss: 1.0448 - val_accuracy: 0.5325\n",
            "Epoch 2/100\n",
            "3/3 [==============================] - 0s 90ms/step - loss: 1.0442 - accuracy: 0.5246 - val_loss: 0.9996 - val_accuracy: 0.5325\n",
            "Epoch 3/100\n",
            "3/3 [==============================] - 0s 88ms/step - loss: 1.0071 - accuracy: 0.5246 - val_loss: 0.9958 - val_accuracy: 0.5325\n",
            "Epoch 4/100\n",
            "3/3 [==============================] - 0s 93ms/step - loss: 0.9841 - accuracy: 0.5246 - val_loss: 0.9850 - val_accuracy: 0.5325\n",
            "Epoch 5/100\n",
            "3/3 [==============================] - 0s 90ms/step - loss: 0.9628 - accuracy: 0.5246 - val_loss: 0.9635 - val_accuracy: 0.5195\n",
            "Epoch 6/100\n",
            "3/3 [==============================] - 0s 90ms/step - loss: 0.9248 - accuracy: 0.5607 - val_loss: 1.0162 - val_accuracy: 0.5714\n",
            "Epoch 7/100\n",
            "3/3 [==============================] - 0s 87ms/step - loss: 0.9588 - accuracy: 0.5607 - val_loss: 0.9673 - val_accuracy: 0.5065\n",
            "Epoch 8/100\n",
            "3/3 [==============================] - 0s 87ms/step - loss: 0.9057 - accuracy: 0.5574 - val_loss: 0.9576 - val_accuracy: 0.5325\n",
            "Epoch 9/100\n",
            "3/3 [==============================] - 0s 88ms/step - loss: 0.8885 - accuracy: 0.5672 - val_loss: 0.9537 - val_accuracy: 0.4416\n",
            "Epoch 10/100\n",
            "3/3 [==============================] - 0s 88ms/step - loss: 0.8789 - accuracy: 0.5344 - val_loss: 0.9728 - val_accuracy: 0.5714\n",
            "Epoch 11/100\n",
            "3/3 [==============================] - 0s 91ms/step - loss: 0.8817 - accuracy: 0.5410 - val_loss: 0.9720 - val_accuracy: 0.4935\n",
            "Epoch 12/100\n",
            "3/3 [==============================] - 0s 90ms/step - loss: 0.8926 - accuracy: 0.5607 - val_loss: 0.9697 - val_accuracy: 0.4545\n",
            "Epoch 13/100\n",
            "3/3 [==============================] - 0s 91ms/step - loss: 0.9001 - accuracy: 0.5410 - val_loss: 1.0610 - val_accuracy: 0.5714\n",
            "Epoch 14/100\n",
            "3/3 [==============================] - 0s 90ms/step - loss: 0.8990 - accuracy: 0.5836 - val_loss: 1.0023 - val_accuracy: 0.4416\n",
            "Epoch 15/100\n",
            "3/3 [==============================] - 0s 91ms/step - loss: 0.8775 - accuracy: 0.5574 - val_loss: 0.9555 - val_accuracy: 0.4545\n",
            "Epoch 16/100\n",
            "3/3 [==============================] - 0s 90ms/step - loss: 0.8804 - accuracy: 0.5934 - val_loss: 0.9451 - val_accuracy: 0.5844\n",
            "Epoch 17/100\n",
            "3/3 [==============================] - 0s 89ms/step - loss: 0.8575 - accuracy: 0.5705 - val_loss: 0.9864 - val_accuracy: 0.5325\n",
            "Epoch 18/100\n",
            "3/3 [==============================] - 0s 88ms/step - loss: 0.8382 - accuracy: 0.5705 - val_loss: 1.0172 - val_accuracy: 0.5065\n",
            "Epoch 19/100\n",
            "3/3 [==============================] - 0s 88ms/step - loss: 0.8309 - accuracy: 0.6197 - val_loss: 1.0644 - val_accuracy: 0.5455\n",
            "Epoch 20/100\n",
            "3/3 [==============================] - 0s 88ms/step - loss: 0.8228 - accuracy: 0.6033 - val_loss: 1.0043 - val_accuracy: 0.5455\n",
            "Epoch 21/100\n",
            "3/3 [==============================] - 0s 89ms/step - loss: 0.8132 - accuracy: 0.6262 - val_loss: 0.9930 - val_accuracy: 0.5714\n",
            "Epoch 22/100\n",
            "3/3 [==============================] - 0s 87ms/step - loss: 0.8208 - accuracy: 0.6033 - val_loss: 1.0210 - val_accuracy: 0.5455\n",
            "Epoch 23/100\n",
            "3/3 [==============================] - 0s 87ms/step - loss: 0.7926 - accuracy: 0.6197 - val_loss: 1.0248 - val_accuracy: 0.5584\n",
            "Epoch 24/100\n",
            "3/3 [==============================] - 0s 97ms/step - loss: 0.7835 - accuracy: 0.6262 - val_loss: 1.1050 - val_accuracy: 0.4935\n",
            "Epoch 25/100\n",
            "3/3 [==============================] - 0s 87ms/step - loss: 0.7958 - accuracy: 0.6262 - val_loss: 1.0275 - val_accuracy: 0.5455\n",
            "Epoch 26/100\n",
            "3/3 [==============================] - 0s 89ms/step - loss: 0.7641 - accuracy: 0.6557 - val_loss: 1.0433 - val_accuracy: 0.5325\n",
            "Epoch 27/100\n",
            "3/3 [==============================] - 0s 87ms/step - loss: 0.7565 - accuracy: 0.6361 - val_loss: 1.0472 - val_accuracy: 0.5714\n",
            "Epoch 28/100\n",
            "3/3 [==============================] - 0s 90ms/step - loss: 0.7540 - accuracy: 0.6361 - val_loss: 0.9567 - val_accuracy: 0.5974\n",
            "Epoch 29/100\n",
            "3/3 [==============================] - 0s 91ms/step - loss: 0.7629 - accuracy: 0.6361 - val_loss: 1.2190 - val_accuracy: 0.5974\n",
            "Epoch 30/100\n",
            "3/3 [==============================] - 0s 89ms/step - loss: 0.7451 - accuracy: 0.6656 - val_loss: 1.1248 - val_accuracy: 0.4156\n",
            "Epoch 31/100\n",
            "3/3 [==============================] - 0s 93ms/step - loss: 0.7987 - accuracy: 0.6066 - val_loss: 0.9638 - val_accuracy: 0.5325\n",
            "Epoch 32/100\n",
            "3/3 [==============================] - 0s 87ms/step - loss: 0.7474 - accuracy: 0.6623 - val_loss: 1.1311 - val_accuracy: 0.5325\n",
            "Epoch 33/100\n",
            "3/3 [==============================] - 0s 89ms/step - loss: 0.7292 - accuracy: 0.6721 - val_loss: 1.1342 - val_accuracy: 0.5455\n",
            "Epoch 34/100\n",
            "3/3 [==============================] - 0s 89ms/step - loss: 0.7296 - accuracy: 0.6393 - val_loss: 1.0636 - val_accuracy: 0.5844\n",
            "Epoch 35/100\n",
            "3/3 [==============================] - 0s 88ms/step - loss: 0.6985 - accuracy: 0.6918 - val_loss: 1.1838 - val_accuracy: 0.5844\n",
            "Epoch 36/100\n",
            "3/3 [==============================] - 0s 92ms/step - loss: 0.7070 - accuracy: 0.6721 - val_loss: 1.0970 - val_accuracy: 0.4675\n",
            "Epoch 37/100\n",
            "3/3 [==============================] - 0s 87ms/step - loss: 0.7138 - accuracy: 0.6656 - val_loss: 1.1313 - val_accuracy: 0.6234\n",
            "Epoch 38/100\n",
            "3/3 [==============================] - 0s 90ms/step - loss: 0.6768 - accuracy: 0.6852 - val_loss: 1.1406 - val_accuracy: 0.5325\n",
            "Epoch 39/100\n",
            "3/3 [==============================] - 0s 87ms/step - loss: 0.6443 - accuracy: 0.7279 - val_loss: 1.1395 - val_accuracy: 0.6104\n",
            "Epoch 40/100\n",
            "3/3 [==============================] - 0s 89ms/step - loss: 0.6407 - accuracy: 0.7016 - val_loss: 1.2507 - val_accuracy: 0.5714\n",
            "Epoch 41/100\n",
            "3/3 [==============================] - 0s 90ms/step - loss: 0.6118 - accuracy: 0.7148 - val_loss: 1.1910 - val_accuracy: 0.5195\n",
            "Epoch 42/100\n",
            "3/3 [==============================] - 0s 89ms/step - loss: 0.6488 - accuracy: 0.7115 - val_loss: 1.0837 - val_accuracy: 0.5844\n",
            "Epoch 43/100\n",
            "3/3 [==============================] - 0s 94ms/step - loss: 0.6338 - accuracy: 0.7115 - val_loss: 1.3004 - val_accuracy: 0.4416\n",
            "Epoch 44/100\n",
            "3/3 [==============================] - 0s 88ms/step - loss: 0.6190 - accuracy: 0.6918 - val_loss: 1.2649 - val_accuracy: 0.6234\n",
            "Epoch 45/100\n",
            "3/3 [==============================] - 0s 90ms/step - loss: 0.5949 - accuracy: 0.7279 - val_loss: 1.1919 - val_accuracy: 0.5844\n",
            "Epoch 46/100\n",
            "3/3 [==============================] - 0s 87ms/step - loss: 0.5772 - accuracy: 0.7541 - val_loss: 1.1524 - val_accuracy: 0.5844\n",
            "Epoch 47/100\n",
            "3/3 [==============================] - 0s 87ms/step - loss: 0.5606 - accuracy: 0.7541 - val_loss: 1.3287 - val_accuracy: 0.5714\n",
            "Epoch 48/100\n",
            "3/3 [==============================] - 0s 92ms/step - loss: 0.5473 - accuracy: 0.7475 - val_loss: 1.3069 - val_accuracy: 0.5584\n",
            "Epoch 49/100\n",
            "3/3 [==============================] - 0s 94ms/step - loss: 0.5174 - accuracy: 0.7934 - val_loss: 1.3367 - val_accuracy: 0.5844\n",
            "Epoch 50/100\n",
            "3/3 [==============================] - 0s 92ms/step - loss: 0.5238 - accuracy: 0.7738 - val_loss: 1.3841 - val_accuracy: 0.5325\n",
            "Epoch 51/100\n",
            "3/3 [==============================] - 0s 87ms/step - loss: 0.4784 - accuracy: 0.7967 - val_loss: 1.3968 - val_accuracy: 0.5325\n",
            "Epoch 52/100\n",
            "3/3 [==============================] - 0s 88ms/step - loss: 0.5018 - accuracy: 0.7803 - val_loss: 1.5710 - val_accuracy: 0.5455\n",
            "Epoch 53/100\n",
            "3/3 [==============================] - 0s 88ms/step - loss: 0.4665 - accuracy: 0.7967 - val_loss: 1.3737 - val_accuracy: 0.6104\n",
            "Epoch 54/100\n",
            "3/3 [==============================] - 0s 89ms/step - loss: 0.4610 - accuracy: 0.7967 - val_loss: 1.4863 - val_accuracy: 0.5455\n",
            "Epoch 55/100\n",
            "3/3 [==============================] - 0s 92ms/step - loss: 0.4800 - accuracy: 0.7902 - val_loss: 1.6874 - val_accuracy: 0.6104\n",
            "Epoch 56/100\n",
            "3/3 [==============================] - 0s 92ms/step - loss: 0.4543 - accuracy: 0.8066 - val_loss: 1.4210 - val_accuracy: 0.5714\n",
            "Epoch 57/100\n",
            "3/3 [==============================] - 0s 89ms/step - loss: 0.5089 - accuracy: 0.7803 - val_loss: 1.4151 - val_accuracy: 0.5325\n",
            "Epoch 58/100\n",
            "3/3 [==============================] - 0s 87ms/step - loss: 0.4527 - accuracy: 0.8066 - val_loss: 1.6037 - val_accuracy: 0.5714\n",
            "Epoch 59/100\n",
            "3/3 [==============================] - 0s 90ms/step - loss: 0.4519 - accuracy: 0.8131 - val_loss: 1.4710 - val_accuracy: 0.5844\n",
            "Epoch 60/100\n",
            "3/3 [==============================] - 0s 94ms/step - loss: 0.3931 - accuracy: 0.8262 - val_loss: 1.7028 - val_accuracy: 0.5844\n",
            "Epoch 61/100\n",
            "3/3 [==============================] - 0s 92ms/step - loss: 0.4060 - accuracy: 0.8328 - val_loss: 1.5503 - val_accuracy: 0.5844\n",
            "Epoch 62/100\n",
            "3/3 [==============================] - 0s 90ms/step - loss: 0.4171 - accuracy: 0.8230 - val_loss: 1.4943 - val_accuracy: 0.5714\n",
            "Epoch 63/100\n",
            "3/3 [==============================] - 0s 92ms/step - loss: 0.3637 - accuracy: 0.8557 - val_loss: 1.9774 - val_accuracy: 0.6104\n",
            "Epoch 64/100\n",
            "3/3 [==============================] - 0s 92ms/step - loss: 0.3840 - accuracy: 0.8131 - val_loss: 1.6564 - val_accuracy: 0.5714\n",
            "Epoch 65/100\n",
            "3/3 [==============================] - 0s 94ms/step - loss: 0.3966 - accuracy: 0.8295 - val_loss: 1.8409 - val_accuracy: 0.5714\n",
            "Epoch 66/100\n",
            "3/3 [==============================] - 0s 92ms/step - loss: 0.3607 - accuracy: 0.8492 - val_loss: 1.9710 - val_accuracy: 0.5714\n",
            "Epoch 67/100\n",
            "3/3 [==============================] - 0s 93ms/step - loss: 0.3416 - accuracy: 0.8557 - val_loss: 1.8614 - val_accuracy: 0.5714\n",
            "Epoch 68/100\n",
            "3/3 [==============================] - 0s 89ms/step - loss: 0.3259 - accuracy: 0.8590 - val_loss: 2.1287 - val_accuracy: 0.5714\n",
            "Epoch 69/100\n",
            "3/3 [==============================] - 0s 92ms/step - loss: 0.3301 - accuracy: 0.8656 - val_loss: 2.1448 - val_accuracy: 0.5584\n",
            "Epoch 70/100\n",
            "3/3 [==============================] - 0s 93ms/step - loss: 0.3572 - accuracy: 0.8459 - val_loss: 1.7208 - val_accuracy: 0.5844\n",
            "Epoch 71/100\n",
            "3/3 [==============================] - 0s 93ms/step - loss: 0.3474 - accuracy: 0.8492 - val_loss: 2.0153 - val_accuracy: 0.5714\n",
            "Epoch 72/100\n",
            "3/3 [==============================] - 0s 96ms/step - loss: 0.3209 - accuracy: 0.8656 - val_loss: 2.2189 - val_accuracy: 0.5714\n",
            "Epoch 73/100\n",
            "3/3 [==============================] - 0s 93ms/step - loss: 0.2923 - accuracy: 0.8721 - val_loss: 2.1502 - val_accuracy: 0.5844\n",
            "Epoch 74/100\n",
            "3/3 [==============================] - 0s 91ms/step - loss: 0.3107 - accuracy: 0.8525 - val_loss: 2.3388 - val_accuracy: 0.5844\n",
            "Epoch 75/100\n",
            "3/3 [==============================] - 0s 89ms/step - loss: 0.2812 - accuracy: 0.8656 - val_loss: 2.4578 - val_accuracy: 0.5714\n",
            "Epoch 76/100\n",
            "3/3 [==============================] - 0s 93ms/step - loss: 0.2677 - accuracy: 0.8590 - val_loss: 2.6263 - val_accuracy: 0.5714\n",
            "Epoch 77/100\n",
            "3/3 [==============================] - 0s 88ms/step - loss: 0.2742 - accuracy: 0.8721 - val_loss: 2.5985 - val_accuracy: 0.5455\n",
            "Epoch 78/100\n",
            "3/3 [==============================] - 0s 91ms/step - loss: 0.2653 - accuracy: 0.8656 - val_loss: 2.7273 - val_accuracy: 0.5844\n",
            "Epoch 79/100\n",
            "3/3 [==============================] - 0s 91ms/step - loss: 0.2798 - accuracy: 0.8787 - val_loss: 2.4216 - val_accuracy: 0.5584\n",
            "Epoch 80/100\n",
            "3/3 [==============================] - 0s 88ms/step - loss: 0.2390 - accuracy: 0.8885 - val_loss: 2.4251 - val_accuracy: 0.5455\n",
            "Epoch 81/100\n",
            "3/3 [==============================] - 0s 92ms/step - loss: 0.2401 - accuracy: 0.8885 - val_loss: 2.6953 - val_accuracy: 0.5714\n",
            "Epoch 82/100\n",
            "3/3 [==============================] - 0s 88ms/step - loss: 0.2535 - accuracy: 0.8754 - val_loss: 2.8771 - val_accuracy: 0.5455\n",
            "Epoch 83/100\n",
            "3/3 [==============================] - 0s 89ms/step - loss: 0.2407 - accuracy: 0.8787 - val_loss: 2.8616 - val_accuracy: 0.5584\n",
            "Epoch 84/100\n",
            "3/3 [==============================] - 0s 91ms/step - loss: 0.2503 - accuracy: 0.8852 - val_loss: 2.7366 - val_accuracy: 0.5195\n",
            "Epoch 85/100\n",
            "3/3 [==============================] - 0s 90ms/step - loss: 0.2444 - accuracy: 0.8656 - val_loss: 2.7204 - val_accuracy: 0.5714\n",
            "Epoch 86/100\n",
            "3/3 [==============================] - 0s 90ms/step - loss: 0.2851 - accuracy: 0.8590 - val_loss: 2.8672 - val_accuracy: 0.5584\n",
            "Epoch 87/100\n",
            "3/3 [==============================] - 0s 89ms/step - loss: 0.2752 - accuracy: 0.8492 - val_loss: 2.9093 - val_accuracy: 0.5455\n",
            "Epoch 88/100\n",
            "3/3 [==============================] - 0s 92ms/step - loss: 0.2316 - accuracy: 0.8885 - val_loss: 2.8302 - val_accuracy: 0.5455\n",
            "Epoch 89/100\n",
            "3/3 [==============================] - 0s 92ms/step - loss: 0.2469 - accuracy: 0.8852 - val_loss: 2.8131 - val_accuracy: 0.5714\n",
            "Epoch 90/100\n",
            "3/3 [==============================] - 0s 90ms/step - loss: 0.2581 - accuracy: 0.8689 - val_loss: 3.0646 - val_accuracy: 0.5584\n",
            "Epoch 91/100\n",
            "3/3 [==============================] - 0s 91ms/step - loss: 0.2706 - accuracy: 0.8689 - val_loss: 2.9311 - val_accuracy: 0.5714\n",
            "Epoch 92/100\n",
            "3/3 [==============================] - 0s 88ms/step - loss: 0.2483 - accuracy: 0.8820 - val_loss: 2.9052 - val_accuracy: 0.5325\n",
            "Epoch 93/100\n",
            "3/3 [==============================] - 0s 96ms/step - loss: 0.2640 - accuracy: 0.8754 - val_loss: 3.1005 - val_accuracy: 0.5584\n",
            "Epoch 94/100\n",
            "3/3 [==============================] - 0s 87ms/step - loss: 0.2277 - accuracy: 0.8852 - val_loss: 2.9160 - val_accuracy: 0.5325\n",
            "Epoch 95/100\n",
            "3/3 [==============================] - 0s 91ms/step - loss: 0.2418 - accuracy: 0.8951 - val_loss: 2.8757 - val_accuracy: 0.5325\n",
            "Epoch 96/100\n",
            "3/3 [==============================] - 0s 92ms/step - loss: 0.2344 - accuracy: 0.8787 - val_loss: 3.1158 - val_accuracy: 0.5844\n",
            "Epoch 97/100\n",
            "3/3 [==============================] - 0s 93ms/step - loss: 0.2218 - accuracy: 0.8918 - val_loss: 2.9749 - val_accuracy: 0.5195\n",
            "Epoch 98/100\n",
            "3/3 [==============================] - 0s 89ms/step - loss: 0.2055 - accuracy: 0.8918 - val_loss: 3.0720 - val_accuracy: 0.5584\n",
            "Epoch 99/100\n",
            "3/3 [==============================] - 0s 88ms/step - loss: 0.2191 - accuracy: 0.8918 - val_loss: 3.1012 - val_accuracy: 0.5325\n",
            "Epoch 100/100\n",
            "3/3 [==============================] - 0s 95ms/step - loss: 0.2168 - accuracy: 0.8951 - val_loss: 3.3290 - val_accuracy: 0.5065\n"
          ],
          "name": "stdout"
        }
      ]
    },
    {
      "cell_type": "code",
      "metadata": {
        "id": "biKVFz90FnmN",
        "outputId": "7baa3a67-f28d-4044-e3db-6304fc34b203",
        "colab": {
          "base_uri": "https://localhost:8080/"
        }
      },
      "source": [
        "model.evaluate(X_test,y_test)"
      ],
      "execution_count": 58,
      "outputs": [
        {
          "output_type": "stream",
          "text": [
            "3/3 [==============================] - 0s 14ms/step - loss: 3.6498 - accuracy: 0.5312\n"
          ],
          "name": "stdout"
        },
        {
          "output_type": "execute_result",
          "data": {
            "text/plain": [
              "[3.649791717529297, 0.53125]"
            ]
          },
          "metadata": {
            "tags": []
          },
          "execution_count": 58
        }
      ]
    },
    {
      "cell_type": "code",
      "metadata": {
        "id": "8qaQGLyNFxch",
        "outputId": "a277f3b0-3d7b-4b1d-dee9-fdec0bea19d8",
        "colab": {
          "base_uri": "https://localhost:8080/",
          "height": 573
        }
      },
      "source": [
        "import matplotlib.pyplot as plt\n",
        "# Plot training & validation accuracy values\n",
        "plt.plot(history1.history['accuracy'])\n",
        "plt.plot(history1.history['val_accuracy'])\n",
        "plt.title('Model accuracy')\n",
        "plt.ylabel('Accuracy')\n",
        "plt.xlabel('Epoch')\n",
        "plt.legend(['Train', 'Test'], loc='upper left')\n",
        "plt.show()\n",
        "\n",
        "# Plot training & validation loss values\n",
        "plt.plot(history1.history['loss'])\n",
        "plt.plot(history1.history['val_loss'])\n",
        "plt.title('Model loss')\n",
        "plt.ylabel('Loss')\n",
        "plt.xlabel('Epoch')\n",
        "plt.legend(['Train', 'Test'], loc='upper left')\n",
        "plt.show()"
      ],
      "execution_count": 59,
      "outputs": [
        {
          "output_type": "display_data",
          "data": {
            "image/png": "[encoded data removed]",
            "text/plain": [
              "<Figure size 432x288 with 1 Axes>"
            ]
          },
          "metadata": {
            "tags": [],
            "needs_background": "light"
          }
        },
        {
          "output_type": "display_data",
          "data": {
            "image/png": "[encoded data removed]",
            "text/plain": [
              "<Figure size 432x288 with 1 Axes>"
            ]
          },
          "metadata": {
            "tags": [],
            "needs_background": "light"
          }
        }
      ]
    },
    {
      "cell_type": "code",
      "metadata": {
        "id": "-XaCuLbKF1m7"
      },
      "source": [
        ""
      ],
      "execution_count": null,
      "outputs": []
    }
  ]
}