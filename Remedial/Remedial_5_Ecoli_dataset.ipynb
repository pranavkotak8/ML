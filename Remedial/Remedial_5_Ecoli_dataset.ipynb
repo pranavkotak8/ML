{
  "nbformat": 4,
  "nbformat_minor": 0,
  "metadata": {
    "colab": {
      "name": "Remedial_5_Ecoli_dataset.ipynb",
      "provenance": [],
      "collapsed_sections": []
    },
    "kernelspec": {
      "name": "python3",
      "display_name": "Python 3"
    }
  },
  "cells": [
    {
      "cell_type": "code",
      "metadata": {
        "id": "1pwFe1Di8b4N"
      },
      "source": [
        "import pandas as pd\n",
        "import numpy as np"
      ],
      "execution_count": 1,
      "outputs": []
    },
    {
      "cell_type": "code",
      "metadata": {
        "id": "VfWKhjiFCGKR"
      },
      "source": [
        "path='https://raw.githubusercontent.com/pranavkotak8/Datasets/master/ecoli.csv'\n",
        "df1=pd.read_csv(path)"
      ],
      "execution_count": 18,
      "outputs": []
    },
    {
      "cell_type": "code",
      "metadata": {
        "id": "RYZ_G8UCCObH",
        "outputId": "feaeec90-f598-480a-866b-03ba4535e421",
        "colab": {
          "base_uri": "https://localhost:8080/",
          "height": 399
        }
      },
      "source": [
        "df1"
      ],
      "execution_count": 19,
      "outputs": [
        {
          "output_type": "execute_result",
          "data": {
            "text/html": [
              "<div>\n",
              "<style scoped>\n",
              "    .dataframe tbody tr th:only-of-type {\n",
              "        vertical-align: middle;\n",
              "    }\n",
              "\n",
              "    .dataframe tbody tr th {\n",
              "        vertical-align: top;\n",
              "    }\n",
              "\n",
              "    .dataframe thead th {\n",
              "        text-align: right;\n",
              "    }\n",
              "</style>\n",
              "<table border=\"1\" class=\"dataframe\">\n",
              "  <thead>\n",
              "    <tr style=\"text-align: right;\">\n",
              "      <th></th>\n",
              "      <th>mcg</th>\n",
              "      <th>gvh</th>\n",
              "      <th>lip</th>\n",
              "      <th>chg</th>\n",
              "      <th>aac</th>\n",
              "      <th>alm1</th>\n",
              "      <th>alm2</th>\n",
              "      <th>class</th>\n",
              "    </tr>\n",
              "  </thead>\n",
              "  <tbody>\n",
              "    <tr>\n",
              "      <th>0</th>\n",
              "      <td>0.49</td>\n",
              "      <td>0.29</td>\n",
              "      <td>0.48</td>\n",
              "      <td>0.5</td>\n",
              "      <td>0.56</td>\n",
              "      <td>0.24</td>\n",
              "      <td>0.35</td>\n",
              "      <td>0</td>\n",
              "    </tr>\n",
              "    <tr>\n",
              "      <th>1</th>\n",
              "      <td>0.07</td>\n",
              "      <td>0.40</td>\n",
              "      <td>0.48</td>\n",
              "      <td>0.5</td>\n",
              "      <td>0.54</td>\n",
              "      <td>0.35</td>\n",
              "      <td>0.44</td>\n",
              "      <td>0</td>\n",
              "    </tr>\n",
              "    <tr>\n",
              "      <th>2</th>\n",
              "      <td>0.56</td>\n",
              "      <td>0.40</td>\n",
              "      <td>0.48</td>\n",
              "      <td>0.5</td>\n",
              "      <td>0.49</td>\n",
              "      <td>0.37</td>\n",
              "      <td>0.46</td>\n",
              "      <td>0</td>\n",
              "    </tr>\n",
              "    <tr>\n",
              "      <th>3</th>\n",
              "      <td>0.59</td>\n",
              "      <td>0.49</td>\n",
              "      <td>0.48</td>\n",
              "      <td>0.5</td>\n",
              "      <td>0.52</td>\n",
              "      <td>0.45</td>\n",
              "      <td>0.36</td>\n",
              "      <td>0</td>\n",
              "    </tr>\n",
              "    <tr>\n",
              "      <th>4</th>\n",
              "      <td>0.23</td>\n",
              "      <td>0.32</td>\n",
              "      <td>0.48</td>\n",
              "      <td>0.5</td>\n",
              "      <td>0.55</td>\n",
              "      <td>0.25</td>\n",
              "      <td>0.35</td>\n",
              "      <td>0</td>\n",
              "    </tr>\n",
              "    <tr>\n",
              "      <th>...</th>\n",
              "      <td>...</td>\n",
              "      <td>...</td>\n",
              "      <td>...</td>\n",
              "      <td>...</td>\n",
              "      <td>...</td>\n",
              "      <td>...</td>\n",
              "      <td>...</td>\n",
              "      <td>...</td>\n",
              "    </tr>\n",
              "    <tr>\n",
              "      <th>322</th>\n",
              "      <td>0.74</td>\n",
              "      <td>0.56</td>\n",
              "      <td>0.48</td>\n",
              "      <td>0.5</td>\n",
              "      <td>0.47</td>\n",
              "      <td>0.68</td>\n",
              "      <td>0.30</td>\n",
              "      <td>7</td>\n",
              "    </tr>\n",
              "    <tr>\n",
              "      <th>323</th>\n",
              "      <td>0.71</td>\n",
              "      <td>0.57</td>\n",
              "      <td>0.48</td>\n",
              "      <td>0.5</td>\n",
              "      <td>0.48</td>\n",
              "      <td>0.35</td>\n",
              "      <td>0.32</td>\n",
              "      <td>7</td>\n",
              "    </tr>\n",
              "    <tr>\n",
              "      <th>324</th>\n",
              "      <td>0.61</td>\n",
              "      <td>0.60</td>\n",
              "      <td>0.48</td>\n",
              "      <td>0.5</td>\n",
              "      <td>0.44</td>\n",
              "      <td>0.39</td>\n",
              "      <td>0.38</td>\n",
              "      <td>7</td>\n",
              "    </tr>\n",
              "    <tr>\n",
              "      <th>325</th>\n",
              "      <td>0.59</td>\n",
              "      <td>0.61</td>\n",
              "      <td>0.48</td>\n",
              "      <td>0.5</td>\n",
              "      <td>0.42</td>\n",
              "      <td>0.42</td>\n",
              "      <td>0.37</td>\n",
              "      <td>7</td>\n",
              "    </tr>\n",
              "    <tr>\n",
              "      <th>326</th>\n",
              "      <td>0.74</td>\n",
              "      <td>0.74</td>\n",
              "      <td>0.48</td>\n",
              "      <td>0.5</td>\n",
              "      <td>0.31</td>\n",
              "      <td>0.53</td>\n",
              "      <td>0.52</td>\n",
              "      <td>7</td>\n",
              "    </tr>\n",
              "  </tbody>\n",
              "</table>\n",
              "<p>327 rows × 8 columns</p>\n",
              "</div>"
            ],
            "text/plain": [
              "      mcg   gvh   lip  chg   aac  alm1  alm2  class\n",
              "0    0.49  0.29  0.48  0.5  0.56  0.24  0.35      0\n",
              "1    0.07  0.40  0.48  0.5  0.54  0.35  0.44      0\n",
              "2    0.56  0.40  0.48  0.5  0.49  0.37  0.46      0\n",
              "3    0.59  0.49  0.48  0.5  0.52  0.45  0.36      0\n",
              "4    0.23  0.32  0.48  0.5  0.55  0.25  0.35      0\n",
              "..    ...   ...   ...  ...   ...   ...   ...    ...\n",
              "322  0.74  0.56  0.48  0.5  0.47  0.68  0.30      7\n",
              "323  0.71  0.57  0.48  0.5  0.48  0.35  0.32      7\n",
              "324  0.61  0.60  0.48  0.5  0.44  0.39  0.38      7\n",
              "325  0.59  0.61  0.48  0.5  0.42  0.42  0.37      7\n",
              "326  0.74  0.74  0.48  0.5  0.31  0.53  0.52      7\n",
              "\n",
              "[327 rows x 8 columns]"
            ]
          },
          "metadata": {
            "tags": []
          },
          "execution_count": 19
        }
      ]
    },
    {
      "cell_type": "code",
      "metadata": {
        "id": "ib2NRfnXCPGt",
        "outputId": "a81652de-c03a-4d28-92ac-d15f2bff94aa",
        "colab": {
          "base_uri": "https://localhost:8080/"
        }
      },
      "source": [
        "# Finding the Missing Values\n",
        "df1.isna().sum()/len(df1)"
      ],
      "execution_count": 20,
      "outputs": [
        {
          "output_type": "execute_result",
          "data": {
            "text/plain": [
              "mcg      0.0\n",
              "gvh      0.0\n",
              "lip      0.0\n",
              "chg      0.0\n",
              "aac      0.0\n",
              "alm1     0.0\n",
              "alm2     0.0\n",
              "class    0.0\n",
              "dtype: float64"
            ]
          },
          "metadata": {
            "tags": []
          },
          "execution_count": 20
        }
      ]
    },
    {
      "cell_type": "code",
      "metadata": {
        "id": "zDokCQQoCVEv",
        "outputId": "b14b33ec-faf9-4602-bdb5-ba72a7ec9bf2",
        "colab": {
          "base_uri": "https://localhost:8080/"
        }
      },
      "source": [
        "df1.info()"
      ],
      "execution_count": 21,
      "outputs": [
        {
          "output_type": "stream",
          "text": [
            "<class 'pandas.core.frame.DataFrame'>\n",
            "RangeIndex: 327 entries, 0 to 326\n",
            "Data columns (total 8 columns):\n",
            " #   Column  Non-Null Count  Dtype  \n",
            "---  ------  --------------  -----  \n",
            " 0   mcg     327 non-null    float64\n",
            " 1   gvh     327 non-null    float64\n",
            " 2   lip     327 non-null    float64\n",
            " 3   chg     327 non-null    float64\n",
            " 4   aac     327 non-null    float64\n",
            " 5   alm1    327 non-null    float64\n",
            " 6   alm2    327 non-null    float64\n",
            " 7   class   327 non-null    int64  \n",
            "dtypes: float64(7), int64(1)\n",
            "memory usage: 20.6 KB\n"
          ],
          "name": "stdout"
        }
      ]
    },
    {
      "cell_type": "code",
      "metadata": {
        "id": "JtjE6i7OCaHp",
        "outputId": "3daa7975-7e5e-42f0-cb43-214edee26b80",
        "colab": {
          "base_uri": "https://localhost:8080/",
          "height": 335
        }
      },
      "source": [
        "# Lets check out the Target Column\n",
        "import seaborn as sns\n",
        "import matplotlib.pyplot as plt\n",
        "%matplotlib inline\n",
        "sns.countplot(df1['class'])\n",
        "plt.show()"
      ],
      "execution_count": 22,
      "outputs": [
        {
          "output_type": "stream",
          "text": [
            "/usr/local/lib/python3.6/dist-packages/seaborn/_decorators.py:43: FutureWarning: Pass the following variable as a keyword arg: x. From version 0.12, the only valid positional argument will be `data`, and passing other arguments without an explicit keyword will result in an error or misinterpretation.\n",
            "  FutureWarning\n"
          ],
          "name": "stderr"
        },
        {
          "output_type": "display_data",
          "data": {
            "image/png": "[encoded data removed]",
            "text/plain": [
              "<Figure size 432x288 with 1 Axes>"
            ]
          },
          "metadata": {
            "tags": [],
            "needs_background": "light"
          }
        }
      ]
    },
    {
      "cell_type": "code",
      "metadata": {
        "id": "K-YLL92FDBe0"
      },
      "source": [
        "target=df1['class']"
      ],
      "execution_count": 23,
      "outputs": []
    },
    {
      "cell_type": "code",
      "metadata": {
        "id": "T-t6BatGDFyC"
      },
      "source": [
        "df1.drop(columns={'class'},inplace=True)"
      ],
      "execution_count": 24,
      "outputs": []
    },
    {
      "cell_type": "code",
      "metadata": {
        "id": "JcIYR_evI4Ad"
      },
      "source": [
        "from imblearn.over_sampling import SMOTE\n",
        "from collections import Counter\n",
        "from matplotlib import pyplot"
      ],
      "execution_count": 25,
      "outputs": []
    },
    {
      "cell_type": "code",
      "metadata": {
        "id": "EFmWW3FJJzlV"
      },
      "source": [
        "# Balancing the target column"
      ],
      "execution_count": 26,
      "outputs": []
    },
    {
      "cell_type": "code",
      "metadata": {
        "id": "Ao0rfw4VI4Dh",
        "outputId": "7aed4468-9407-46af-c10a-d9435fe73c33",
        "colab": {
          "base_uri": "https://localhost:8080/",
          "height": 496
        }
      },
      "source": [
        "# transform the dataset\n",
        "oversample = SMOTE()\n",
        "X, y = oversample.fit_resample(df1, target)\n",
        "counter = Counter(y)\n",
        "for k,v in counter.items():\n",
        "\tper = v / len(y) * 100\n",
        "\tprint('Class=%d, n=%d (%.3f%%)' % (k, v, per))\n",
        "pyplot.bar(counter.keys(), counter.values())\n",
        "pyplot.show()"
      ],
      "execution_count": 28,
      "outputs": [
        {
          "output_type": "stream",
          "text": [
            "Class=0, n=143 (20.000%)\n",
            "Class=1, n=143 (20.000%)\n",
            "Class=4, n=143 (20.000%)\n",
            "Class=5, n=143 (20.000%)\n",
            "Class=7, n=143 (20.000%)\n"
          ],
          "name": "stdout"
        },
        {
          "output_type": "stream",
          "text": [
            "/usr/local/lib/python3.6/dist-packages/sklearn/utils/deprecation.py:87: FutureWarning: Function safe_indexing is deprecated; safe_indexing is deprecated in version 0.22 and will be removed in version 0.24.\n",
            "  warnings.warn(msg, category=FutureWarning)\n",
            "/usr/local/lib/python3.6/dist-packages/sklearn/utils/deprecation.py:87: FutureWarning: Function safe_indexing is deprecated; safe_indexing is deprecated in version 0.22 and will be removed in version 0.24.\n",
            "  warnings.warn(msg, category=FutureWarning)\n",
            "/usr/local/lib/python3.6/dist-packages/sklearn/utils/deprecation.py:87: FutureWarning: Function safe_indexing is deprecated; safe_indexing is deprecated in version 0.22 and will be removed in version 0.24.\n",
            "  warnings.warn(msg, category=FutureWarning)\n",
            "/usr/local/lib/python3.6/dist-packages/sklearn/utils/deprecation.py:87: FutureWarning: Function safe_indexing is deprecated; safe_indexing is deprecated in version 0.22 and will be removed in version 0.24.\n",
            "  warnings.warn(msg, category=FutureWarning)\n"
          ],
          "name": "stderr"
        },
        {
          "output_type": "display_data",
          "data": {
            "image/png": "[encoded data removed]",
            "text/plain": [
              "<Figure size 432x288 with 1 Axes>"
            ]
          },
          "metadata": {
            "tags": [],
            "needs_background": "light"
          }
        }
      ]
    },
    {
      "cell_type": "code",
      "metadata": {
        "id": "0OsjoA51I4Gh",
        "outputId": "4beee9a2-05fa-41b1-e925-586d59cbe58f",
        "colab": {
          "base_uri": "https://localhost:8080/",
          "height": 338
        }
      },
      "source": [
        "# New Balanced Target Feature Column\n",
        "import seaborn as sns\n",
        "sns.countplot(y)"
      ],
      "execution_count": 29,
      "outputs": [
        {
          "output_type": "stream",
          "text": [
            "/usr/local/lib/python3.6/dist-packages/seaborn/_decorators.py:43: FutureWarning: Pass the following variable as a keyword arg: x. From version 0.12, the only valid positional argument will be `data`, and passing other arguments without an explicit keyword will result in an error or misinterpretation.\n",
            "  FutureWarning\n"
          ],
          "name": "stderr"
        },
        {
          "output_type": "execute_result",
          "data": {
            "text/plain": [
              "<matplotlib.axes._subplots.AxesSubplot at 0x7fce6b499400>"
            ]
          },
          "metadata": {
            "tags": []
          },
          "execution_count": 29
        },
        {
          "output_type": "display_data",
          "data": {
            "image/png": "[encoded data removed]",
            "text/plain": [
              "<Figure size 432x288 with 1 Axes>"
            ]
          },
          "metadata": {
            "tags": [],
            "needs_background": "light"
          }
        }
      ]
    },
    {
      "cell_type": "code",
      "metadata": {
        "id": "8NKRSEuqDO4l"
      },
      "source": [
        "from sklearn import linear_model\n",
        "from sklearn.linear_model import LogisticRegression\n",
        "logistic=linear_model.LogisticRegression()\n",
        "sgd=linear_model.SGDClassifier()"
      ],
      "execution_count": 30,
      "outputs": []
    },
    {
      "cell_type": "code",
      "metadata": {
        "id": "l3R-7B97Kh1k"
      },
      "source": [
        "y=pd.DataFrame(y)\n",
        "y.replace(1,0,inplace=True)\n",
        "y.replace(2,1,inplace=True)\n",
        "y.replace(3,2,inplace=True)\n",
        "y.replace(4,3,inplace=True)\n",
        "y.replace(5,4,inplace=True)\n",
        "y.replace(6,5,inplace=True)\n",
        "y.replace(7,6,inplace=True)\n"
      ],
      "execution_count": 31,
      "outputs": []
    },
    {
      "cell_type": "code",
      "metadata": {
        "id": "u7_7QYPkDTa1"
      },
      "source": [
        "# Splitting into trainset and testset in the ratio 80:20\n",
        "seed=8\n",
        "from sklearn.model_selection import train_test_split\n",
        "X_train,X_test,y_train,y_test=train_test_split(X,y,test_size=0.2,random_state=seed)"
      ],
      "execution_count": 32,
      "outputs": []
    },
    {
      "cell_type": "code",
      "metadata": {
        "id": "yQ_ErhL8Dbvx",
        "outputId": "efc1926d-3782-4700-d23c-d1a6521c0ea4",
        "colab": {
          "base_uri": "https://localhost:8080/"
        }
      },
      "source": [
        "from sklearn.model_selection import cross_val_score\n",
        "scores=cross_val_score(logistic,X_train,y_train,cv=5,scoring='accuracy')"
      ],
      "execution_count": 33,
      "outputs": [
        {
          "output_type": "stream",
          "text": [
            "/usr/local/lib/python3.6/dist-packages/sklearn/utils/validation.py:760: DataConversionWarning: A column-vector y was passed when a 1d array was expected. Please change the shape of y to (n_samples, ), for example using ravel().\n",
            "  y = column_or_1d(y, warn=True)\n",
            "/usr/local/lib/python3.6/dist-packages/sklearn/utils/validation.py:760: DataConversionWarning: A column-vector y was passed when a 1d array was expected. Please change the shape of y to (n_samples, ), for example using ravel().\n",
            "  y = column_or_1d(y, warn=True)\n",
            "/usr/local/lib/python3.6/dist-packages/sklearn/utils/validation.py:760: DataConversionWarning: A column-vector y was passed when a 1d array was expected. Please change the shape of y to (n_samples, ), for example using ravel().\n",
            "  y = column_or_1d(y, warn=True)\n",
            "/usr/local/lib/python3.6/dist-packages/sklearn/utils/validation.py:760: DataConversionWarning: A column-vector y was passed when a 1d array was expected. Please change the shape of y to (n_samples, ), for example using ravel().\n",
            "  y = column_or_1d(y, warn=True)\n",
            "/usr/local/lib/python3.6/dist-packages/sklearn/utils/validation.py:760: DataConversionWarning: A column-vector y was passed when a 1d array was expected. Please change the shape of y to (n_samples, ), for example using ravel().\n",
            "  y = column_or_1d(y, warn=True)\n"
          ],
          "name": "stderr"
        }
      ]
    },
    {
      "cell_type": "code",
      "metadata": {
        "id": "lPfzH0t-Dfzb",
        "outputId": "b8f66146-30bc-4bce-edfb-194d18451fb5",
        "colab": {
          "base_uri": "https://localhost:8080/"
        }
      },
      "source": [
        "np.mean(scores)"
      ],
      "execution_count": 34,
      "outputs": [
        {
          "output_type": "execute_result",
          "data": {
            "text/plain": [
              "0.8828680396643783"
            ]
          },
          "metadata": {
            "tags": []
          },
          "execution_count": 34
        }
      ]
    },
    {
      "cell_type": "code",
      "metadata": {
        "id": "75i-ZnlWDid8",
        "outputId": "86771727-3313-4bcd-f389-aed36803ae4f",
        "colab": {
          "base_uri": "https://localhost:8080/"
        }
      },
      "source": [
        "scores_sgd=cross_val_score(sgd,X_train,y_train,cv=5,scoring='accuracy')"
      ],
      "execution_count": 35,
      "outputs": [
        {
          "output_type": "stream",
          "text": [
            "/usr/local/lib/python3.6/dist-packages/sklearn/utils/validation.py:760: DataConversionWarning: A column-vector y was passed when a 1d array was expected. Please change the shape of y to (n_samples, ), for example using ravel().\n",
            "  y = column_or_1d(y, warn=True)\n",
            "/usr/local/lib/python3.6/dist-packages/sklearn/utils/validation.py:760: DataConversionWarning: A column-vector y was passed when a 1d array was expected. Please change the shape of y to (n_samples, ), for example using ravel().\n",
            "  y = column_or_1d(y, warn=True)\n",
            "/usr/local/lib/python3.6/dist-packages/sklearn/utils/validation.py:760: DataConversionWarning: A column-vector y was passed when a 1d array was expected. Please change the shape of y to (n_samples, ), for example using ravel().\n",
            "  y = column_or_1d(y, warn=True)\n",
            "/usr/local/lib/python3.6/dist-packages/sklearn/utils/validation.py:760: DataConversionWarning: A column-vector y was passed when a 1d array was expected. Please change the shape of y to (n_samples, ), for example using ravel().\n",
            "  y = column_or_1d(y, warn=True)\n",
            "/usr/local/lib/python3.6/dist-packages/sklearn/utils/validation.py:760: DataConversionWarning: A column-vector y was passed when a 1d array was expected. Please change the shape of y to (n_samples, ), for example using ravel().\n",
            "  y = column_or_1d(y, warn=True)\n"
          ],
          "name": "stderr"
        }
      ]
    },
    {
      "cell_type": "code",
      "metadata": {
        "id": "ZCvU4GGKDk6_",
        "outputId": "67102fb5-5509-4ef6-f579-b298a0f64976",
        "colab": {
          "base_uri": "https://localhost:8080/"
        }
      },
      "source": [
        "np.mean(scores_sgd)"
      ],
      "execution_count": 36,
      "outputs": [
        {
          "output_type": "execute_result",
          "data": {
            "text/plain": [
              "0.8582761250953469"
            ]
          },
          "metadata": {
            "tags": []
          },
          "execution_count": 36
        }
      ]
    },
    {
      "cell_type": "code",
      "metadata": {
        "id": "TrxhMqz2NS2k",
        "outputId": "f895dc78-1b69-4628-badb-ee690b35b549",
        "colab": {
          "base_uri": "https://localhost:8080/"
        }
      },
      "source": [
        "#Logistic Regression\n",
        "from sklearn.metrics import accuracy_score\n",
        "logistic.fit(X_train,y_train)\n",
        "y_test_pred_lr = logistic.predict(X_test)\n",
        "accuracy_test = accuracy_score(y_test, y_test_pred_lr)\n",
        "print(\"Accuracy:\"+str(accuracy_test))"
      ],
      "execution_count": 40,
      "outputs": [
        {
          "output_type": "stream",
          "text": [
            "Accuracy:0.8951048951048951\n"
          ],
          "name": "stdout"
        },
        {
          "output_type": "stream",
          "text": [
            "/usr/local/lib/python3.6/dist-packages/sklearn/utils/validation.py:760: DataConversionWarning: A column-vector y was passed when a 1d array was expected. Please change the shape of y to (n_samples, ), for example using ravel().\n",
            "  y = column_or_1d(y, warn=True)\n"
          ],
          "name": "stderr"
        }
      ]
    },
    {
      "cell_type": "code",
      "metadata": {
        "id": "R2x0v8brFELL",
        "outputId": "644f00aa-980c-4182-8273-9b6acf4c0f3e",
        "colab": {
          "base_uri": "https://localhost:8080/"
        }
      },
      "source": [
        "# SGD Classifier\n",
        "sgd.fit(X_train,y_train)\n",
        "y_test_pred_sgd = sgd.predict(X_test)\n",
        "accuracy_test = accuracy_score(y_test, y_test_pred_sgd)\n",
        "print(\"Accuracy:\"+str(accuracy_test))"
      ],
      "execution_count": 41,
      "outputs": [
        {
          "output_type": "stream",
          "text": [
            "Accuracy:0.8601398601398601\n"
          ],
          "name": "stdout"
        },
        {
          "output_type": "stream",
          "text": [
            "/usr/local/lib/python3.6/dist-packages/sklearn/utils/validation.py:760: DataConversionWarning: A column-vector y was passed when a 1d array was expected. Please change the shape of y to (n_samples, ), for example using ravel().\n",
            "  y = column_or_1d(y, warn=True)\n"
          ],
          "name": "stderr"
        }
      ]
    },
    {
      "cell_type": "code",
      "metadata": {
        "id": "jCkanDfVFHY4",
        "outputId": "b3ee7c60-0f96-47d8-a6b9-38d5bcc9fa6e",
        "colab": {
          "base_uri": "https://localhost:8080/"
        }
      },
      "source": [
        "# Performing Random Forest on the Dataset\n",
        "from sklearn.ensemble import RandomForestClassifier\n",
        "rf=RandomForestClassifier()\n",
        "rf.fit(X_train,y_train)"
      ],
      "execution_count": 42,
      "outputs": [
        {
          "output_type": "stream",
          "text": [
            "/usr/local/lib/python3.6/dist-packages/ipykernel_launcher.py:4: DataConversionWarning: A column-vector y was passed when a 1d array was expected. Please change the shape of y to (n_samples,), for example using ravel().\n",
            "  after removing the cwd from sys.path.\n"
          ],
          "name": "stderr"
        },
        {
          "output_type": "execute_result",
          "data": {
            "text/plain": [
              "RandomForestClassifier(bootstrap=True, ccp_alpha=0.0, class_weight=None,\n",
              "                       criterion='gini', max_depth=None, max_features='auto',\n",
              "                       max_leaf_nodes=None, max_samples=None,\n",
              "                       min_impurity_decrease=0.0, min_impurity_split=None,\n",
              "                       min_samples_leaf=1, min_samples_split=2,\n",
              "                       min_weight_fraction_leaf=0.0, n_estimators=100,\n",
              "                       n_jobs=None, oob_score=False, random_state=None,\n",
              "                       verbose=0, warm_start=False)"
            ]
          },
          "metadata": {
            "tags": []
          },
          "execution_count": 42
        }
      ]
    },
    {
      "cell_type": "code",
      "metadata": {
        "id": "dYI9RCnhFMOL",
        "outputId": "870860d9-bdb6-4f7e-88ba-6d0764ca2701",
        "colab": {
          "base_uri": "https://localhost:8080/"
        }
      },
      "source": [
        "y_test_pred_rf = rf.predict(X_test)\n",
        "accuracy_test = accuracy_score(y_test, y_test_pred_rf)\n",
        "print(\"Accuracy:\"+str(accuracy_test))"
      ],
      "execution_count": 43,
      "outputs": [
        {
          "output_type": "stream",
          "text": [
            "Accuracy:0.965034965034965\n"
          ],
          "name": "stdout"
        }
      ]
    },
    {
      "cell_type": "code",
      "metadata": {
        "id": "ymgRhZS7FPh7"
      },
      "source": [
        "# Performing Neural Networks on the Dataset\n",
        "# Importing the Necessary Libraries for Neural Networks\n",
        "from keras import Sequential\n",
        "from keras.layers import LeakyReLU\n",
        "from keras.layers import Dense\n",
        "import tensorflow\n",
        "from keras.utils import to_categorical"
      ],
      "execution_count": 44,
      "outputs": []
    },
    {
      "cell_type": "code",
      "metadata": {
        "id": "PFKZ_2KZFWf9"
      },
      "source": [
        "y_train=to_categorical(y_train)\n",
        "y_test=to_categorical(y_test)"
      ],
      "execution_count": 45,
      "outputs": []
    },
    {
      "cell_type": "code",
      "metadata": {
        "id": "zp170tR0FgZX",
        "outputId": "923db07c-56d4-4d36-8150-b902acc08082",
        "colab": {
          "base_uri": "https://localhost:8080/"
        }
      },
      "source": [
        "X_train.shape"
      ],
      "execution_count": 46,
      "outputs": [
        {
          "output_type": "execute_result",
          "data": {
            "text/plain": [
              "(572, 7)"
            ]
          },
          "metadata": {
            "tags": []
          },
          "execution_count": 46
        }
      ]
    },
    {
      "cell_type": "code",
      "metadata": {
        "id": "PfMxghxeFaZZ",
        "outputId": "dff37164-d694-40ac-c528-466bbf98297e",
        "colab": {
          "base_uri": "https://localhost:8080/"
        }
      },
      "source": [
        "# Performing Neural Network on X_train and Y_train\n",
        "model=Sequential()\n",
        "model.add(Dense(units=50, activation='relu', input_dim=7))\n",
        "model.add(Dense(units=205, activation='relu'))\n",
        "model.add(Dense(units=1041, activation='relu'))\n",
        "model.add(Dense(units=201))\n",
        "model.add(LeakyReLU(alpha=0.05))\n",
        "model.add(Dense(units=7, activation='softmax'))\n",
        "model.compile(loss='categorical_crossentropy', optimizer='Adam', metrics=['accuracy'])\n",
        "history1=model.fit(X_train, y_train, epochs=100,validation_split=0.2, verbose=1,batch_size=128)"
      ],
      "execution_count": 47,
      "outputs": [
        {
          "output_type": "stream",
          "text": [
            "Epoch 1/100\n",
            "4/4 [==============================] - 0s 51ms/step - loss: 1.8511 - accuracy: 0.2910 - val_loss: 1.6029 - val_accuracy: 0.4522\n",
            "Epoch 2/100\n",
            "4/4 [==============================] - 0s 12ms/step - loss: 1.5216 - accuracy: 0.3851 - val_loss: 1.2748 - val_accuracy: 0.4522\n",
            "Epoch 3/100\n",
            "4/4 [==============================] - 0s 12ms/step - loss: 1.2453 - accuracy: 0.4311 - val_loss: 1.0787 - val_accuracy: 0.7913\n",
            "Epoch 4/100\n",
            "4/4 [==============================] - 0s 13ms/step - loss: 1.0389 - accuracy: 0.7943 - val_loss: 0.8983 - val_accuracy: 0.6087\n",
            "Epoch 5/100\n",
            "4/4 [==============================] - 0s 13ms/step - loss: 0.8829 - accuracy: 0.6214 - val_loss: 0.8059 - val_accuracy: 0.7130\n",
            "Epoch 6/100\n",
            "4/4 [==============================] - 0s 13ms/step - loss: 0.7532 - accuracy: 0.7615 - val_loss: 0.6752 - val_accuracy: 0.7739\n",
            "Epoch 7/100\n",
            "4/4 [==============================] - 0s 14ms/step - loss: 0.6235 - accuracy: 0.7943 - val_loss: 0.5565 - val_accuracy: 0.8087\n",
            "Epoch 8/100\n",
            "4/4 [==============================] - 0s 12ms/step - loss: 0.5305 - accuracy: 0.8228 - val_loss: 0.5097 - val_accuracy: 0.8522\n",
            "Epoch 9/100\n",
            "4/4 [==============================] - 0s 12ms/step - loss: 0.4580 - accuracy: 0.8731 - val_loss: 0.4223 - val_accuracy: 0.8783\n",
            "Epoch 10/100\n",
            "4/4 [==============================] - 0s 13ms/step - loss: 0.4226 - accuracy: 0.8425 - val_loss: 0.4258 - val_accuracy: 0.8696\n",
            "Epoch 11/100\n",
            "4/4 [==============================] - 0s 13ms/step - loss: 0.3886 - accuracy: 0.8818 - val_loss: 0.3982 - val_accuracy: 0.8696\n",
            "Epoch 12/100\n",
            "4/4 [==============================] - 0s 12ms/step - loss: 0.3823 - accuracy: 0.8709 - val_loss: 0.3939 - val_accuracy: 0.8783\n",
            "Epoch 13/100\n",
            "4/4 [==============================] - 0s 12ms/step - loss: 0.3832 - accuracy: 0.8600 - val_loss: 0.4041 - val_accuracy: 0.8609\n",
            "Epoch 14/100\n",
            "4/4 [==============================] - 0s 12ms/step - loss: 0.3930 - accuracy: 0.8381 - val_loss: 0.3212 - val_accuracy: 0.9130\n",
            "Epoch 15/100\n",
            "4/4 [==============================] - 0s 14ms/step - loss: 0.3495 - accuracy: 0.8753 - val_loss: 0.3525 - val_accuracy: 0.8870\n",
            "Epoch 16/100\n",
            "4/4 [==============================] - 0s 14ms/step - loss: 0.3381 - accuracy: 0.8928 - val_loss: 0.3082 - val_accuracy: 0.9217\n",
            "Epoch 17/100\n",
            "4/4 [==============================] - 0s 13ms/step - loss: 0.3455 - accuracy: 0.8731 - val_loss: 0.3157 - val_accuracy: 0.9217\n",
            "Epoch 18/100\n",
            "4/4 [==============================] - 0s 12ms/step - loss: 0.3208 - accuracy: 0.8950 - val_loss: 0.3160 - val_accuracy: 0.9130\n",
            "Epoch 19/100\n",
            "4/4 [==============================] - 0s 12ms/step - loss: 0.3162 - accuracy: 0.8906 - val_loss: 0.3043 - val_accuracy: 0.9130\n",
            "Epoch 20/100\n",
            "4/4 [==============================] - 0s 13ms/step - loss: 0.3105 - accuracy: 0.8993 - val_loss: 0.3004 - val_accuracy: 0.9217\n",
            "Epoch 21/100\n",
            "4/4 [==============================] - 0s 12ms/step - loss: 0.3047 - accuracy: 0.9015 - val_loss: 0.2929 - val_accuracy: 0.9217\n",
            "Epoch 22/100\n",
            "4/4 [==============================] - 0s 15ms/step - loss: 0.3099 - accuracy: 0.8993 - val_loss: 0.3035 - val_accuracy: 0.9043\n",
            "Epoch 23/100\n",
            "4/4 [==============================] - 0s 13ms/step - loss: 0.3161 - accuracy: 0.8840 - val_loss: 0.2921 - val_accuracy: 0.9217\n",
            "Epoch 24/100\n",
            "4/4 [==============================] - 0s 13ms/step - loss: 0.3113 - accuracy: 0.8862 - val_loss: 0.3030 - val_accuracy: 0.9130\n",
            "Epoch 25/100\n",
            "4/4 [==============================] - 0s 13ms/step - loss: 0.3101 - accuracy: 0.8993 - val_loss: 0.2842 - val_accuracy: 0.9217\n",
            "Epoch 26/100\n",
            "4/4 [==============================] - 0s 12ms/step - loss: 0.2991 - accuracy: 0.8972 - val_loss: 0.3036 - val_accuracy: 0.9130\n",
            "Epoch 27/100\n",
            "4/4 [==============================] - 0s 12ms/step - loss: 0.2934 - accuracy: 0.8950 - val_loss: 0.2811 - val_accuracy: 0.9217\n",
            "Epoch 28/100\n",
            "4/4 [==============================] - 0s 13ms/step - loss: 0.2972 - accuracy: 0.8993 - val_loss: 0.2788 - val_accuracy: 0.9217\n",
            "Epoch 29/100\n",
            "4/4 [==============================] - 0s 14ms/step - loss: 0.2907 - accuracy: 0.8972 - val_loss: 0.2918 - val_accuracy: 0.9304\n",
            "Epoch 30/100\n",
            "4/4 [==============================] - 0s 13ms/step - loss: 0.2806 - accuracy: 0.9081 - val_loss: 0.2720 - val_accuracy: 0.9217\n",
            "Epoch 31/100\n",
            "4/4 [==============================] - 0s 13ms/step - loss: 0.2872 - accuracy: 0.9015 - val_loss: 0.2917 - val_accuracy: 0.9130\n",
            "Epoch 32/100\n",
            "4/4 [==============================] - 0s 13ms/step - loss: 0.2793 - accuracy: 0.9103 - val_loss: 0.2707 - val_accuracy: 0.9217\n",
            "Epoch 33/100\n",
            "4/4 [==============================] - 0s 13ms/step - loss: 0.2735 - accuracy: 0.9037 - val_loss: 0.2807 - val_accuracy: 0.9217\n",
            "Epoch 34/100\n",
            "4/4 [==============================] - 0s 14ms/step - loss: 0.2765 - accuracy: 0.9037 - val_loss: 0.2705 - val_accuracy: 0.9217\n",
            "Epoch 35/100\n",
            "4/4 [==============================] - 0s 13ms/step - loss: 0.2719 - accuracy: 0.9168 - val_loss: 0.2711 - val_accuracy: 0.9217\n",
            "Epoch 36/100\n",
            "4/4 [==============================] - 0s 14ms/step - loss: 0.2662 - accuracy: 0.9081 - val_loss: 0.2754 - val_accuracy: 0.9304\n",
            "Epoch 37/100\n",
            "4/4 [==============================] - 0s 13ms/step - loss: 0.2633 - accuracy: 0.9103 - val_loss: 0.2668 - val_accuracy: 0.9217\n",
            "Epoch 38/100\n",
            "4/4 [==============================] - 0s 13ms/step - loss: 0.2600 - accuracy: 0.9147 - val_loss: 0.2744 - val_accuracy: 0.9304\n",
            "Epoch 39/100\n",
            "4/4 [==============================] - 0s 13ms/step - loss: 0.2583 - accuracy: 0.9081 - val_loss: 0.2740 - val_accuracy: 0.9130\n",
            "Epoch 40/100\n",
            "4/4 [==============================] - 0s 13ms/step - loss: 0.2584 - accuracy: 0.9125 - val_loss: 0.2612 - val_accuracy: 0.9217\n",
            "Epoch 41/100\n",
            "4/4 [==============================] - 0s 13ms/step - loss: 0.2562 - accuracy: 0.9125 - val_loss: 0.2888 - val_accuracy: 0.9043\n",
            "Epoch 42/100\n",
            "4/4 [==============================] - 0s 15ms/step - loss: 0.2713 - accuracy: 0.9037 - val_loss: 0.2707 - val_accuracy: 0.9217\n",
            "Epoch 43/100\n",
            "4/4 [==============================] - 0s 13ms/step - loss: 0.2676 - accuracy: 0.8950 - val_loss: 0.2768 - val_accuracy: 0.9043\n",
            "Epoch 44/100\n",
            "4/4 [==============================] - 0s 14ms/step - loss: 0.2589 - accuracy: 0.9015 - val_loss: 0.2758 - val_accuracy: 0.9217\n",
            "Epoch 45/100\n",
            "4/4 [==============================] - 0s 16ms/step - loss: 0.2552 - accuracy: 0.9125 - val_loss: 0.2657 - val_accuracy: 0.9217\n",
            "Epoch 46/100\n",
            "4/4 [==============================] - 0s 13ms/step - loss: 0.2633 - accuracy: 0.8972 - val_loss: 0.2703 - val_accuracy: 0.9217\n",
            "Epoch 47/100\n",
            "4/4 [==============================] - 0s 13ms/step - loss: 0.2454 - accuracy: 0.9190 - val_loss: 0.2585 - val_accuracy: 0.9217\n",
            "Epoch 48/100\n",
            "4/4 [==============================] - 0s 13ms/step - loss: 0.2505 - accuracy: 0.9147 - val_loss: 0.2569 - val_accuracy: 0.9304\n",
            "Epoch 49/100\n",
            "4/4 [==============================] - 0s 13ms/step - loss: 0.2600 - accuracy: 0.8972 - val_loss: 0.2747 - val_accuracy: 0.9217\n",
            "Epoch 50/100\n",
            "4/4 [==============================] - 0s 15ms/step - loss: 0.2553 - accuracy: 0.9059 - val_loss: 0.2639 - val_accuracy: 0.9391\n",
            "Epoch 51/100\n",
            "4/4 [==============================] - 0s 14ms/step - loss: 0.2487 - accuracy: 0.9081 - val_loss: 0.2876 - val_accuracy: 0.9217\n",
            "Epoch 52/100\n",
            "4/4 [==============================] - 0s 13ms/step - loss: 0.2541 - accuracy: 0.9059 - val_loss: 0.2529 - val_accuracy: 0.9304\n",
            "Epoch 53/100\n",
            "4/4 [==============================] - 0s 13ms/step - loss: 0.2531 - accuracy: 0.9103 - val_loss: 0.2555 - val_accuracy: 0.9304\n",
            "Epoch 54/100\n",
            "4/4 [==============================] - 0s 14ms/step - loss: 0.2625 - accuracy: 0.8993 - val_loss: 0.2895 - val_accuracy: 0.9130\n",
            "Epoch 55/100\n",
            "4/4 [==============================] - 0s 13ms/step - loss: 0.2614 - accuracy: 0.8993 - val_loss: 0.2655 - val_accuracy: 0.9478\n",
            "Epoch 56/100\n",
            "4/4 [==============================] - 0s 13ms/step - loss: 0.2699 - accuracy: 0.8950 - val_loss: 0.2834 - val_accuracy: 0.9043\n",
            "Epoch 57/100\n",
            "4/4 [==============================] - 0s 13ms/step - loss: 0.2626 - accuracy: 0.9081 - val_loss: 0.2572 - val_accuracy: 0.9478\n",
            "Epoch 58/100\n",
            "4/4 [==============================] - 0s 13ms/step - loss: 0.2720 - accuracy: 0.8928 - val_loss: 0.2887 - val_accuracy: 0.9043\n",
            "Epoch 59/100\n",
            "4/4 [==============================] - 0s 13ms/step - loss: 0.2791 - accuracy: 0.8928 - val_loss: 0.2472 - val_accuracy: 0.9391\n",
            "Epoch 60/100\n",
            "4/4 [==============================] - 0s 14ms/step - loss: 0.2598 - accuracy: 0.9015 - val_loss: 0.2629 - val_accuracy: 0.9304\n",
            "Epoch 61/100\n",
            "4/4 [==============================] - 0s 13ms/step - loss: 0.2516 - accuracy: 0.9168 - val_loss: 0.2631 - val_accuracy: 0.9217\n",
            "Epoch 62/100\n",
            "4/4 [==============================] - 0s 13ms/step - loss: 0.2427 - accuracy: 0.9168 - val_loss: 0.2527 - val_accuracy: 0.9391\n",
            "Epoch 63/100\n",
            "4/4 [==============================] - 0s 15ms/step - loss: 0.2500 - accuracy: 0.8972 - val_loss: 0.2709 - val_accuracy: 0.9217\n",
            "Epoch 64/100\n",
            "4/4 [==============================] - 0s 15ms/step - loss: 0.2642 - accuracy: 0.9059 - val_loss: 0.2508 - val_accuracy: 0.9304\n",
            "Epoch 65/100\n",
            "4/4 [==============================] - 0s 14ms/step - loss: 0.2401 - accuracy: 0.9125 - val_loss: 0.2762 - val_accuracy: 0.9217\n",
            "Epoch 66/100\n",
            "4/4 [==============================] - 0s 17ms/step - loss: 0.2338 - accuracy: 0.9037 - val_loss: 0.2437 - val_accuracy: 0.9391\n",
            "Epoch 67/100\n",
            "4/4 [==============================] - 0s 14ms/step - loss: 0.2348 - accuracy: 0.9322 - val_loss: 0.2624 - val_accuracy: 0.9130\n",
            "Epoch 68/100\n",
            "4/4 [==============================] - 0s 13ms/step - loss: 0.2299 - accuracy: 0.9256 - val_loss: 0.2607 - val_accuracy: 0.9304\n",
            "Epoch 69/100\n",
            "4/4 [==============================] - 0s 13ms/step - loss: 0.2225 - accuracy: 0.9103 - val_loss: 0.2595 - val_accuracy: 0.9217\n",
            "Epoch 70/100\n",
            "4/4 [==============================] - 0s 13ms/step - loss: 0.2290 - accuracy: 0.9190 - val_loss: 0.2491 - val_accuracy: 0.9391\n",
            "Epoch 71/100\n",
            "4/4 [==============================] - 0s 13ms/step - loss: 0.2195 - accuracy: 0.9212 - val_loss: 0.2590 - val_accuracy: 0.9391\n",
            "Epoch 72/100\n",
            "4/4 [==============================] - 0s 13ms/step - loss: 0.2190 - accuracy: 0.9125 - val_loss: 0.2560 - val_accuracy: 0.9304\n",
            "Epoch 73/100\n",
            "4/4 [==============================] - 0s 13ms/step - loss: 0.2222 - accuracy: 0.9234 - val_loss: 0.2509 - val_accuracy: 0.9391\n",
            "Epoch 74/100\n",
            "4/4 [==============================] - 0s 13ms/step - loss: 0.2190 - accuracy: 0.9212 - val_loss: 0.2524 - val_accuracy: 0.9304\n",
            "Epoch 75/100\n",
            "4/4 [==============================] - 0s 13ms/step - loss: 0.2210 - accuracy: 0.9278 - val_loss: 0.2509 - val_accuracy: 0.9391\n",
            "Epoch 76/100\n",
            "4/4 [==============================] - 0s 13ms/step - loss: 0.2140 - accuracy: 0.9234 - val_loss: 0.2468 - val_accuracy: 0.9304\n",
            "Epoch 77/100\n",
            "4/4 [==============================] - 0s 15ms/step - loss: 0.2111 - accuracy: 0.9190 - val_loss: 0.2620 - val_accuracy: 0.9304\n",
            "Epoch 78/100\n",
            "4/4 [==============================] - 0s 16ms/step - loss: 0.2118 - accuracy: 0.9322 - val_loss: 0.2484 - val_accuracy: 0.9391\n",
            "Epoch 79/100\n",
            "4/4 [==============================] - 0s 15ms/step - loss: 0.2129 - accuracy: 0.9234 - val_loss: 0.2555 - val_accuracy: 0.9391\n",
            "Epoch 80/100\n",
            "4/4 [==============================] - 0s 14ms/step - loss: 0.2227 - accuracy: 0.9278 - val_loss: 0.2490 - val_accuracy: 0.9391\n",
            "Epoch 81/100\n",
            "4/4 [==============================] - 0s 13ms/step - loss: 0.2187 - accuracy: 0.9190 - val_loss: 0.2489 - val_accuracy: 0.9304\n",
            "Epoch 82/100\n",
            "4/4 [==============================] - 0s 13ms/step - loss: 0.2165 - accuracy: 0.9300 - val_loss: 0.2644 - val_accuracy: 0.9304\n",
            "Epoch 83/100\n",
            "4/4 [==============================] - 0s 13ms/step - loss: 0.2019 - accuracy: 0.9322 - val_loss: 0.2480 - val_accuracy: 0.9304\n",
            "Epoch 84/100\n",
            "4/4 [==============================] - 0s 13ms/step - loss: 0.2024 - accuracy: 0.9300 - val_loss: 0.2634 - val_accuracy: 0.9217\n",
            "Epoch 85/100\n",
            "4/4 [==============================] - 0s 14ms/step - loss: 0.2092 - accuracy: 0.9300 - val_loss: 0.2473 - val_accuracy: 0.9478\n",
            "Epoch 86/100\n",
            "4/4 [==============================] - 0s 13ms/step - loss: 0.2148 - accuracy: 0.9081 - val_loss: 0.2584 - val_accuracy: 0.9217\n",
            "Epoch 87/100\n",
            "4/4 [==============================] - 0s 13ms/step - loss: 0.2273 - accuracy: 0.9147 - val_loss: 0.2540 - val_accuracy: 0.9478\n",
            "Epoch 88/100\n",
            "4/4 [==============================] - 0s 14ms/step - loss: 0.2110 - accuracy: 0.9190 - val_loss: 0.2632 - val_accuracy: 0.9304\n",
            "Epoch 89/100\n",
            "4/4 [==============================] - 0s 14ms/step - loss: 0.1978 - accuracy: 0.9278 - val_loss: 0.2706 - val_accuracy: 0.9217\n",
            "Epoch 90/100\n",
            "4/4 [==============================] - 0s 13ms/step - loss: 0.2382 - accuracy: 0.9125 - val_loss: 0.2558 - val_accuracy: 0.9304\n",
            "Epoch 91/100\n",
            "4/4 [==============================] - 0s 13ms/step - loss: 0.2427 - accuracy: 0.9081 - val_loss: 0.2498 - val_accuracy: 0.9304\n",
            "Epoch 92/100\n",
            "4/4 [==============================] - 0s 15ms/step - loss: 0.2063 - accuracy: 0.9300 - val_loss: 0.2749 - val_accuracy: 0.9043\n",
            "Epoch 93/100\n",
            "4/4 [==============================] - 0s 14ms/step - loss: 0.2200 - accuracy: 0.9234 - val_loss: 0.2451 - val_accuracy: 0.9391\n",
            "Epoch 94/100\n",
            "4/4 [==============================] - 0s 13ms/step - loss: 0.2074 - accuracy: 0.9168 - val_loss: 0.2555 - val_accuracy: 0.9304\n",
            "Epoch 95/100\n",
            "4/4 [==============================] - 0s 13ms/step - loss: 0.1958 - accuracy: 0.9344 - val_loss: 0.2468 - val_accuracy: 0.9391\n",
            "Epoch 96/100\n",
            "4/4 [==============================] - 0s 13ms/step - loss: 0.1891 - accuracy: 0.9365 - val_loss: 0.2532 - val_accuracy: 0.9304\n",
            "Epoch 97/100\n",
            "4/4 [==============================] - 0s 14ms/step - loss: 0.1903 - accuracy: 0.9278 - val_loss: 0.2510 - val_accuracy: 0.9391\n",
            "Epoch 98/100\n",
            "4/4 [==============================] - 0s 14ms/step - loss: 0.1869 - accuracy: 0.9409 - val_loss: 0.2503 - val_accuracy: 0.9391\n",
            "Epoch 99/100\n",
            "4/4 [==============================] - 0s 14ms/step - loss: 0.1830 - accuracy: 0.9365 - val_loss: 0.2548 - val_accuracy: 0.9304\n",
            "Epoch 100/100\n",
            "4/4 [==============================] - 0s 15ms/step - loss: 0.1860 - accuracy: 0.9365 - val_loss: 0.2581 - val_accuracy: 0.9391\n"
          ],
          "name": "stdout"
        }
      ]
    },
    {
      "cell_type": "code",
      "metadata": {
        "id": "biKVFz90FnmN",
        "outputId": "e0c4443d-d5aa-49e2-a078-16ea629b7656",
        "colab": {
          "base_uri": "https://localhost:8080/"
        }
      },
      "source": [
        "model.evaluate(X_test,y_test)"
      ],
      "execution_count": 48,
      "outputs": [
        {
          "output_type": "stream",
          "text": [
            "5/5 [==============================] - 0s 3ms/step - loss: 0.2446 - accuracy: 0.9301\n"
          ],
          "name": "stdout"
        },
        {
          "output_type": "execute_result",
          "data": {
            "text/plain": [
              "[0.24461206793785095, 0.9300699234008789]"
            ]
          },
          "metadata": {
            "tags": []
          },
          "execution_count": 48
        }
      ]
    },
    {
      "cell_type": "code",
      "metadata": {
        "id": "8qaQGLyNFxch",
        "outputId": "c0898607-d941-48f6-dda1-0aecf690d622",
        "colab": {
          "base_uri": "https://localhost:8080/",
          "height": 573
        }
      },
      "source": [
        "import matplotlib.pyplot as plt\n",
        "# Plot training & validation accuracy values\n",
        "plt.plot(history1.history['accuracy'])\n",
        "plt.plot(history1.history['val_accuracy'])\n",
        "plt.title('Model accuracy')\n",
        "plt.ylabel('Accuracy')\n",
        "plt.xlabel('Epoch')\n",
        "plt.legend(['Train', 'Test'], loc='upper left')\n",
        "plt.show()\n",
        "\n",
        "# Plot training & validation loss values\n",
        "plt.plot(history1.history['loss'])\n",
        "plt.plot(history1.history['val_loss'])\n",
        "plt.title('Model loss')\n",
        "plt.ylabel('Loss')\n",
        "plt.xlabel('Epoch')\n",
        "plt.legend(['Train', 'Test'], loc='upper left')\n",
        "plt.show()"
      ],
      "execution_count": 49,
      "outputs": [
        {
          "output_type": "display_data",
          "data": {
            "image/png": "[encoded data removed]",
            "text/plain": [
              "<Figure size 432x288 with 1 Axes>"
            ]
          },
          "metadata": {
            "tags": [],
            "needs_background": "light"
          }
        },
        {
          "output_type": "display_data",
          "data": {
            "image/png": "[encoded data removed]",
            "text/plain": [
              "<Figure size 432x288 with 1 Axes>"
            ]
          },
          "metadata": {
            "tags": [],
            "needs_background": "light"
          }
        }
      ]
    },
    {
      "cell_type": "code",
      "metadata": {
        "id": "-XaCuLbKF1m7"
      },
      "source": [
        ""
      ],
      "execution_count": null,
      "outputs": []
    }
  ]
}