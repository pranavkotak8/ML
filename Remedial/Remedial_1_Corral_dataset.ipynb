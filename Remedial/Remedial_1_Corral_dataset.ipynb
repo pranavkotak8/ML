{
  "nbformat": 4,
  "nbformat_minor": 0,
  "metadata": {
    "colab": {
      "name": "Remedial_1_Corral_dataset.ipynb",
      "provenance": [],
      "collapsed_sections": []
    },
    "kernelspec": {
      "name": "python3",
      "display_name": "Python 3"
    }
  },
  "cells": [
    {
      "cell_type": "code",
      "metadata": {
        "id": "vdkI5Cdi5bur"
      },
      "source": [
        "import pandas as pd\n",
        "import numpy as np"
      ],
      "execution_count": 1,
      "outputs": []
    },
    {
      "cell_type": "code",
      "metadata": {
        "id": "FU5ifu6q5eTy"
      },
      "source": [
        "path='https://raw.githubusercontent.com/pranavkotak8/Datasets/master/corral.csv'\n",
        "df1=pd.read_csv(path)"
      ],
      "execution_count": 4,
      "outputs": []
    },
    {
      "cell_type": "code",
      "metadata": {
        "id": "HI1PNdgQ5lbK",
        "outputId": "3644d88b-f1f3-4b4f-b546-9c08154b9452",
        "colab": {
          "base_uri": "https://localhost:8080/",
          "height": 399
        }
      },
      "source": [
        "df1"
      ],
      "execution_count": 5,
      "outputs": [
        {
          "output_type": "execute_result",
          "data": {
            "text/html": [
              "<div>\n",
              "<style scoped>\n",
              "    .dataframe tbody tr th:only-of-type {\n",
              "        vertical-align: middle;\n",
              "    }\n",
              "\n",
              "    .dataframe tbody tr th {\n",
              "        vertical-align: top;\n",
              "    }\n",
              "\n",
              "    .dataframe thead th {\n",
              "        text-align: right;\n",
              "    }\n",
              "</style>\n",
              "<table border=\"1\" class=\"dataframe\">\n",
              "  <thead>\n",
              "    <tr style=\"text-align: right;\">\n",
              "      <th></th>\n",
              "      <th>A0</th>\n",
              "      <th>A1</th>\n",
              "      <th>B0</th>\n",
              "      <th>B1</th>\n",
              "      <th>Irrelevant</th>\n",
              "      <th>Correlated</th>\n",
              "      <th>class</th>\n",
              "    </tr>\n",
              "  </thead>\n",
              "  <tbody>\n",
              "    <tr>\n",
              "      <th>0</th>\n",
              "      <td>0</td>\n",
              "      <td>0</td>\n",
              "      <td>0</td>\n",
              "      <td>0</td>\n",
              "      <td>0</td>\n",
              "      <td>0</td>\n",
              "      <td>0</td>\n",
              "    </tr>\n",
              "    <tr>\n",
              "      <th>1</th>\n",
              "      <td>0</td>\n",
              "      <td>0</td>\n",
              "      <td>0</td>\n",
              "      <td>0</td>\n",
              "      <td>1</td>\n",
              "      <td>0</td>\n",
              "      <td>0</td>\n",
              "    </tr>\n",
              "    <tr>\n",
              "      <th>2</th>\n",
              "      <td>0</td>\n",
              "      <td>0</td>\n",
              "      <td>0</td>\n",
              "      <td>1</td>\n",
              "      <td>0</td>\n",
              "      <td>0</td>\n",
              "      <td>0</td>\n",
              "    </tr>\n",
              "    <tr>\n",
              "      <th>3</th>\n",
              "      <td>0</td>\n",
              "      <td>0</td>\n",
              "      <td>0</td>\n",
              "      <td>1</td>\n",
              "      <td>1</td>\n",
              "      <td>0</td>\n",
              "      <td>0</td>\n",
              "    </tr>\n",
              "    <tr>\n",
              "      <th>4</th>\n",
              "      <td>0</td>\n",
              "      <td>0</td>\n",
              "      <td>1</td>\n",
              "      <td>0</td>\n",
              "      <td>0</td>\n",
              "      <td>1</td>\n",
              "      <td>0</td>\n",
              "    </tr>\n",
              "    <tr>\n",
              "      <th>...</th>\n",
              "      <td>...</td>\n",
              "      <td>...</td>\n",
              "      <td>...</td>\n",
              "      <td>...</td>\n",
              "      <td>...</td>\n",
              "      <td>...</td>\n",
              "      <td>...</td>\n",
              "    </tr>\n",
              "    <tr>\n",
              "      <th>155</th>\n",
              "      <td>1</td>\n",
              "      <td>1</td>\n",
              "      <td>1</td>\n",
              "      <td>0</td>\n",
              "      <td>1</td>\n",
              "      <td>1</td>\n",
              "      <td>1</td>\n",
              "    </tr>\n",
              "    <tr>\n",
              "      <th>156</th>\n",
              "      <td>1</td>\n",
              "      <td>1</td>\n",
              "      <td>1</td>\n",
              "      <td>1</td>\n",
              "      <td>0</td>\n",
              "      <td>0</td>\n",
              "      <td>1</td>\n",
              "    </tr>\n",
              "    <tr>\n",
              "      <th>157</th>\n",
              "      <td>1</td>\n",
              "      <td>1</td>\n",
              "      <td>1</td>\n",
              "      <td>1</td>\n",
              "      <td>0</td>\n",
              "      <td>1</td>\n",
              "      <td>1</td>\n",
              "    </tr>\n",
              "    <tr>\n",
              "      <th>158</th>\n",
              "      <td>1</td>\n",
              "      <td>1</td>\n",
              "      <td>1</td>\n",
              "      <td>1</td>\n",
              "      <td>1</td>\n",
              "      <td>0</td>\n",
              "      <td>1</td>\n",
              "    </tr>\n",
              "    <tr>\n",
              "      <th>159</th>\n",
              "      <td>1</td>\n",
              "      <td>1</td>\n",
              "      <td>1</td>\n",
              "      <td>1</td>\n",
              "      <td>1</td>\n",
              "      <td>1</td>\n",
              "      <td>1</td>\n",
              "    </tr>\n",
              "  </tbody>\n",
              "</table>\n",
              "<p>160 rows × 7 columns</p>\n",
              "</div>"
            ],
            "text/plain": [
              "     A0  A1  B0  B1  Irrelevant  Correlated  class\n",
              "0     0   0   0   0           0           0      0\n",
              "1     0   0   0   0           1           0      0\n",
              "2     0   0   0   1           0           0      0\n",
              "3     0   0   0   1           1           0      0\n",
              "4     0   0   1   0           0           1      0\n",
              "..   ..  ..  ..  ..         ...         ...    ...\n",
              "155   1   1   1   0           1           1      1\n",
              "156   1   1   1   1           0           0      1\n",
              "157   1   1   1   1           0           1      1\n",
              "158   1   1   1   1           1           0      1\n",
              "159   1   1   1   1           1           1      1\n",
              "\n",
              "[160 rows x 7 columns]"
            ]
          },
          "metadata": {
            "tags": []
          },
          "execution_count": 5
        }
      ]
    },
    {
      "cell_type": "code",
      "metadata": {
        "id": "C7RxuCBf5mKk",
        "outputId": "4c59272f-3a7c-41d9-dbce-eb6df7f4308e",
        "colab": {
          "base_uri": "https://localhost:8080/"
        }
      },
      "source": [
        "# Finding the Missing Values\n",
        "df1.isna().sum()/len(df1)"
      ],
      "execution_count": 6,
      "outputs": [
        {
          "output_type": "execute_result",
          "data": {
            "text/plain": [
              "A0            0.0\n",
              "A1            0.0\n",
              "B0            0.0\n",
              "B1            0.0\n",
              "Irrelevant    0.0\n",
              "Correlated    0.0\n",
              "class         0.0\n",
              "dtype: float64"
            ]
          },
          "metadata": {
            "tags": []
          },
          "execution_count": 6
        }
      ]
    },
    {
      "cell_type": "code",
      "metadata": {
        "id": "5W5khXzUR1Ml",
        "outputId": "d024f09b-a07a-4ff8-cf72-7e82860dc3bc",
        "colab": {
          "base_uri": "https://localhost:8080/",
          "height": 282
        }
      },
      "source": [
        "df1.describe()"
      ],
      "execution_count": 26,
      "outputs": [
        {
          "output_type": "execute_result",
          "data": {
            "text/html": [
              "<div>\n",
              "<style scoped>\n",
              "    .dataframe tbody tr th:only-of-type {\n",
              "        vertical-align: middle;\n",
              "    }\n",
              "\n",
              "    .dataframe tbody tr th {\n",
              "        vertical-align: top;\n",
              "    }\n",
              "\n",
              "    .dataframe thead th {\n",
              "        text-align: right;\n",
              "    }\n",
              "</style>\n",
              "<table border=\"1\" class=\"dataframe\">\n",
              "  <thead>\n",
              "    <tr style=\"text-align: right;\">\n",
              "      <th></th>\n",
              "      <th>A0</th>\n",
              "      <th>A1</th>\n",
              "      <th>B0</th>\n",
              "      <th>B1</th>\n",
              "      <th>Irrelevant</th>\n",
              "      <th>Correlated</th>\n",
              "      <th>class</th>\n",
              "    </tr>\n",
              "  </thead>\n",
              "  <tbody>\n",
              "    <tr>\n",
              "      <th>count</th>\n",
              "      <td>160.00000</td>\n",
              "      <td>160.00000</td>\n",
              "      <td>160.00000</td>\n",
              "      <td>160.00000</td>\n",
              "      <td>160.00000</td>\n",
              "      <td>160.000000</td>\n",
              "      <td>160.000000</td>\n",
              "    </tr>\n",
              "    <tr>\n",
              "      <th>mean</th>\n",
              "      <td>0.50000</td>\n",
              "      <td>0.50000</td>\n",
              "      <td>0.50000</td>\n",
              "      <td>0.50000</td>\n",
              "      <td>0.50000</td>\n",
              "      <td>0.462500</td>\n",
              "      <td>0.437500</td>\n",
              "    </tr>\n",
              "    <tr>\n",
              "      <th>std</th>\n",
              "      <td>0.50157</td>\n",
              "      <td>0.50157</td>\n",
              "      <td>0.50157</td>\n",
              "      <td>0.50157</td>\n",
              "      <td>0.50157</td>\n",
              "      <td>0.500157</td>\n",
              "      <td>0.497636</td>\n",
              "    </tr>\n",
              "    <tr>\n",
              "      <th>min</th>\n",
              "      <td>0.00000</td>\n",
              "      <td>0.00000</td>\n",
              "      <td>0.00000</td>\n",
              "      <td>0.00000</td>\n",
              "      <td>0.00000</td>\n",
              "      <td>0.000000</td>\n",
              "      <td>0.000000</td>\n",
              "    </tr>\n",
              "    <tr>\n",
              "      <th>25%</th>\n",
              "      <td>0.00000</td>\n",
              "      <td>0.00000</td>\n",
              "      <td>0.00000</td>\n",
              "      <td>0.00000</td>\n",
              "      <td>0.00000</td>\n",
              "      <td>0.000000</td>\n",
              "      <td>0.000000</td>\n",
              "    </tr>\n",
              "    <tr>\n",
              "      <th>50%</th>\n",
              "      <td>0.50000</td>\n",
              "      <td>0.50000</td>\n",
              "      <td>0.50000</td>\n",
              "      <td>0.50000</td>\n",
              "      <td>0.50000</td>\n",
              "      <td>0.000000</td>\n",
              "      <td>0.000000</td>\n",
              "    </tr>\n",
              "    <tr>\n",
              "      <th>75%</th>\n",
              "      <td>1.00000</td>\n",
              "      <td>1.00000</td>\n",
              "      <td>1.00000</td>\n",
              "      <td>1.00000</td>\n",
              "      <td>1.00000</td>\n",
              "      <td>1.000000</td>\n",
              "      <td>1.000000</td>\n",
              "    </tr>\n",
              "    <tr>\n",
              "      <th>max</th>\n",
              "      <td>1.00000</td>\n",
              "      <td>1.00000</td>\n",
              "      <td>1.00000</td>\n",
              "      <td>1.00000</td>\n",
              "      <td>1.00000</td>\n",
              "      <td>1.000000</td>\n",
              "      <td>1.000000</td>\n",
              "    </tr>\n",
              "  </tbody>\n",
              "</table>\n",
              "</div>"
            ],
            "text/plain": [
              "              A0         A1         B0  ...  Irrelevant  Correlated       class\n",
              "count  160.00000  160.00000  160.00000  ...   160.00000  160.000000  160.000000\n",
              "mean     0.50000    0.50000    0.50000  ...     0.50000    0.462500    0.437500\n",
              "std      0.50157    0.50157    0.50157  ...     0.50157    0.500157    0.497636\n",
              "min      0.00000    0.00000    0.00000  ...     0.00000    0.000000    0.000000\n",
              "25%      0.00000    0.00000    0.00000  ...     0.00000    0.000000    0.000000\n",
              "50%      0.50000    0.50000    0.50000  ...     0.50000    0.000000    0.000000\n",
              "75%      1.00000    1.00000    1.00000  ...     1.00000    1.000000    1.000000\n",
              "max      1.00000    1.00000    1.00000  ...     1.00000    1.000000    1.000000\n",
              "\n",
              "[8 rows x 7 columns]"
            ]
          },
          "metadata": {
            "tags": []
          },
          "execution_count": 26
        }
      ]
    },
    {
      "cell_type": "code",
      "metadata": {
        "id": "QghiOsKL5wo_",
        "outputId": "6b8d05f3-83da-4898-a43f-288ab17b5e41",
        "colab": {
          "base_uri": "https://localhost:8080/"
        }
      },
      "source": [
        "\n",
        "df1.info()  # No null values found"
      ],
      "execution_count": 7,
      "outputs": [
        {
          "output_type": "stream",
          "text": [
            "<class 'pandas.core.frame.DataFrame'>\n",
            "RangeIndex: 160 entries, 0 to 159\n",
            "Data columns (total 7 columns):\n",
            " #   Column      Non-Null Count  Dtype\n",
            "---  ------      --------------  -----\n",
            " 0   A0          160 non-null    int64\n",
            " 1   A1          160 non-null    int64\n",
            " 2   B0          160 non-null    int64\n",
            " 3   B1          160 non-null    int64\n",
            " 4   Irrelevant  160 non-null    int64\n",
            " 5   Correlated  160 non-null    int64\n",
            " 6   class       160 non-null    int64\n",
            "dtypes: int64(7)\n",
            "memory usage: 8.9 KB\n"
          ],
          "name": "stdout"
        }
      ]
    },
    {
      "cell_type": "code",
      "metadata": {
        "id": "s_D-fqQl5y9b",
        "outputId": "c9be0b25-cc1f-47c6-8dac-ce784bbb3ee6",
        "colab": {
          "base_uri": "https://localhost:8080/",
          "height": 335
        }
      },
      "source": [
        "# Lets check out the Target Column\n",
        "import seaborn as sns\n",
        "import matplotlib.pyplot as plt\n",
        "%matplotlib inline\n",
        "sns.countplot(df1['class'])\n",
        "plt.show()"
      ],
      "execution_count": 8,
      "outputs": [
        {
          "output_type": "stream",
          "text": [
            "/usr/local/lib/python3.6/dist-packages/seaborn/_decorators.py:43: FutureWarning: Pass the following variable as a keyword arg: x. From version 0.12, the only valid positional argument will be `data`, and passing other arguments without an explicit keyword will result in an error or misinterpretation.\n",
            "  FutureWarning\n"
          ],
          "name": "stderr"
        },
        {
          "output_type": "display_data",
          "data": {
            "image/png": "[encoded data removed]",
            "text/plain": [
              "<Figure size 432x288 with 1 Axes>"
            ]
          },
          "metadata": {
            "tags": [],
            "needs_background": "light"
          }
        }
      ]
    },
    {
      "cell_type": "code",
      "metadata": {
        "id": "nFKYEOpM54HS"
      },
      "source": [
        "from sklearn import linear_model\n",
        "from sklearn.linear_model import LogisticRegression\n",
        "logistic=linear_model.LogisticRegression()\n",
        "sgd=linear_model.SGDClassifier()"
      ],
      "execution_count": 9,
      "outputs": []
    },
    {
      "cell_type": "code",
      "metadata": {
        "id": "55XirYFw6EMi"
      },
      "source": [
        "target1=df1['class']"
      ],
      "execution_count": 12,
      "outputs": []
    },
    {
      "cell_type": "code",
      "metadata": {
        "id": "V43hIn2a6ALv"
      },
      "source": [
        "# Splitting into trainset and testset in the ratio 80:20\n",
        "seed=8\n",
        "from sklearn.model_selection import train_test_split\n",
        "X_train,X_test,y_train,y_test=train_test_split(df1,target1,test_size=0.2,random_state=seed)"
      ],
      "execution_count": 13,
      "outputs": []
    },
    {
      "cell_type": "code",
      "metadata": {
        "id": "bG7i_cgq6HG0"
      },
      "source": [
        "\n",
        "from sklearn.model_selection import cross_val_score\n",
        "scores=cross_val_score(logistic,X_train,y_train,cv=5,scoring='accuracy')"
      ],
      "execution_count": 14,
      "outputs": []
    },
    {
      "cell_type": "code",
      "metadata": {
        "id": "c7r9aSYk6M2T",
        "outputId": "6e1af064-d177-4f3d-c8f3-2c7a76e5c436",
        "colab": {
          "base_uri": "https://localhost:8080/"
        }
      },
      "source": [
        "np.mean(scores)"
      ],
      "execution_count": 15,
      "outputs": [
        {
          "output_type": "execute_result",
          "data": {
            "text/plain": [
              "1.0"
            ]
          },
          "metadata": {
            "tags": []
          },
          "execution_count": 15
        }
      ]
    },
    {
      "cell_type": "code",
      "metadata": {
        "id": "Qz9HGsB66P2A"
      },
      "source": [
        "scores_sgd=cross_val_score(sgd,X_train,y_train,cv=5,scoring='accuracy')"
      ],
      "execution_count": 16,
      "outputs": []
    },
    {
      "cell_type": "code",
      "metadata": {
        "id": "pHBpk7yu6STy",
        "outputId": "1a9f9c50-6b96-468b-ca20-b17a8a88a361",
        "colab": {
          "base_uri": "https://localhost:8080/"
        }
      },
      "source": [
        "np.mean(scores_sgd)"
      ],
      "execution_count": 17,
      "outputs": [
        {
          "output_type": "execute_result",
          "data": {
            "text/plain": [
              "1.0"
            ]
          },
          "metadata": {
            "tags": []
          },
          "execution_count": 17
        }
      ]
    },
    {
      "cell_type": "code",
      "metadata": {
        "id": "bgN_G4IP6nqp",
        "outputId": "93d59fe6-7fb6-4c23-a7f8-87cc32ebb579",
        "colab": {
          "base_uri": "https://localhost:8080/"
        }
      },
      "source": [
        "#Logistic Regression\n",
        "logistic.fit(X_train,y_train)\n",
        "y_test_pred_lr = logistic.predict(X_test)\n",
        "accuracy_test = accuracy_score(y_test, y_test_pred_lr)\n",
        "print(\"Accuracy:\"+str(accuracy_test))"
      ],
      "execution_count": 21,
      "outputs": [
        {
          "output_type": "stream",
          "text": [
            "Accuracy:1.0\n"
          ],
          "name": "stdout"
        }
      ]
    },
    {
      "cell_type": "code",
      "metadata": {
        "id": "2I_FhYVb61BV",
        "outputId": "b9131797-fec5-4470-84b3-0479f9b5b347",
        "colab": {
          "base_uri": "https://localhost:8080/"
        }
      },
      "source": [
        "# SGD Classifier\n",
        "sgd.fit(X_train,y_train)\n",
        "y_test_pred_sgd = sgd.predict(X_test)\n",
        "accuracy_test = accuracy_score(y_test, y_test_pred_sgd)\n",
        "print(\"Accuracy:\"+str(accuracy_test))"
      ],
      "execution_count": 22,
      "outputs": [
        {
          "output_type": "stream",
          "text": [
            "Accuracy:1.0\n"
          ],
          "name": "stdout"
        }
      ]
    },
    {
      "cell_type": "code",
      "metadata": {
        "id": "RwObAxqT6Unt",
        "outputId": "3db86dbf-d6b9-43ff-c16c-8fa388f0d023",
        "colab": {
          "base_uri": "https://localhost:8080/"
        }
      },
      "source": [
        "# Performing Random Forest on the Dataset\n",
        "from sklearn.ensemble import RandomForestClassifier\n",
        "rf=RandomForestClassifier()\n",
        "rf.fit(X_train,y_train)"
      ],
      "execution_count": 18,
      "outputs": [
        {
          "output_type": "execute_result",
          "data": {
            "text/plain": [
              "RandomForestClassifier(bootstrap=True, ccp_alpha=0.0, class_weight=None,\n",
              "                       criterion='gini', max_depth=None, max_features='auto',\n",
              "                       max_leaf_nodes=None, max_samples=None,\n",
              "                       min_impurity_decrease=0.0, min_impurity_split=None,\n",
              "                       min_samples_leaf=1, min_samples_split=2,\n",
              "                       min_weight_fraction_leaf=0.0, n_estimators=100,\n",
              "                       n_jobs=None, oob_score=False, random_state=None,\n",
              "                       verbose=0, warm_start=False)"
            ]
          },
          "metadata": {
            "tags": []
          },
          "execution_count": 18
        }
      ]
    },
    {
      "cell_type": "code",
      "metadata": {
        "id": "YyoRde_H6aUF",
        "outputId": "fa36ab72-bc58-40dc-dd33-b53e99467ec3",
        "colab": {
          "base_uri": "https://localhost:8080/"
        }
      },
      "source": [
        "from sklearn.metrics import accuracy_score\n",
        "y_test_pred_rf = rf.predict(X_test)\n",
        "accuracy_test = accuracy_score(y_test, y_test_pred_rf)\n",
        "print(\"Accuracy:\"+str(accuracy_test))"
      ],
      "execution_count": 20,
      "outputs": [
        {
          "output_type": "stream",
          "text": [
            "Accuracy:1.0\n"
          ],
          "name": "stdout"
        }
      ]
    },
    {
      "cell_type": "code",
      "metadata": {
        "id": "17UitDMe6dGo",
        "outputId": "45d10133-0cf2-4e77-9147-df9fface146c",
        "colab": {
          "base_uri": "https://localhost:8080/"
        }
      },
      "source": [
        "# Performing Decision Tree Classifier on the Dataset\n",
        "from sklearn.tree import DecisionTreeClassifier\n",
        "dc=DecisionTreeClassifier()\n",
        "dc.fit(X_train,y_train)"
      ],
      "execution_count": 24,
      "outputs": [
        {
          "output_type": "execute_result",
          "data": {
            "text/plain": [
              "DecisionTreeClassifier(ccp_alpha=0.0, class_weight=None, criterion='gini',\n",
              "                       max_depth=None, max_features=None, max_leaf_nodes=None,\n",
              "                       min_impurity_decrease=0.0, min_impurity_split=None,\n",
              "                       min_samples_leaf=1, min_samples_split=2,\n",
              "                       min_weight_fraction_leaf=0.0, presort='deprecated',\n",
              "                       random_state=None, splitter='best')"
            ]
          },
          "metadata": {
            "tags": []
          },
          "execution_count": 24
        }
      ]
    },
    {
      "cell_type": "code",
      "metadata": {
        "id": "fZvnx3saRs7D",
        "outputId": "acb9fafe-1656-4499-a8fa-d43a1160f745",
        "colab": {
          "base_uri": "https://localhost:8080/"
        }
      },
      "source": [
        "from sklearn.metrics import accuracy_score\n",
        "y_test_pred_rf = rf.predict(X_test)\n",
        "accuracy_test = accuracy_score(y_test, y_test_pred_rf)\n",
        "print(\"Accuracy:\"+str(accuracy_test))"
      ],
      "execution_count": 25,
      "outputs": [
        {
          "output_type": "stream",
          "text": [
            "Accuracy:1.0\n"
          ],
          "name": "stdout"
        }
      ]
    },
    {
      "cell_type": "code",
      "metadata": {
        "id": "saxTm7aWRyO-"
      },
      "source": [
        ""
      ],
      "execution_count": null,
      "outputs": []
    }
  ]
}